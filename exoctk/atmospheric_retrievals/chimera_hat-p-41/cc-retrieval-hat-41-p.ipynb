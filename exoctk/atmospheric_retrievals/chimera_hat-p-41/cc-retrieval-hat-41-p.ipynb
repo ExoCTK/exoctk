{
 "cells": [
  {
   "cell_type": "code",
   "execution_count": 1,
   "id": "ab3e6104",
   "metadata": {},
   "outputs": [
    {
     "name": "stdout",
     "output_type": "stream",
     "text": [
      "pandeia not installed. Functionality limited.\n",
      "**WARNING**: LOCAL JWST PRD VERSION PRDOPSSOC-031 DOESN'T MATCH THE CURRENT ONLINE VERSION PRDOPSSOC-039\n",
      "Please consider updating pysiaf, e.g. pip install --upgrade pysiaf or conda update pysiaf\n"
     ]
    }
   ],
   "source": [
    "from exoctk.atmospheric_retrievals.chimera import LoadCrossSections, GenerateModel, GetRetrieval\n",
    "import numpy as np"
   ]
  },
  {
   "cell_type": "code",
   "execution_count": 2,
   "id": "ab85832d",
   "metadata": {},
   "outputs": [],
   "source": [
    "xsects = LoadCrossSections(data_directory='/Users/mfix/Downloads/ABSCOEFF_CK/', wnomin=1500, wnomax=27900, observatory='HST')"
   ]
  },
  {
   "cell_type": "code",
   "execution_count": 3,
   "id": "48f1530f",
   "metadata": {},
   "outputs": [],
   "source": [
    "# Since there isn't a parameter file, we assign the parameters by hand.\n",
    "xsects.planetary_parameters['Rp'] = 1.685\n",
    "xsects.planetary_parameters['M'] = 0.795\n",
    "xsects.planetary_parameters['Tint'] = 200.\n",
    "xsects.planetary_parameters['logg1'] = -0.7\n",
    "xsects.planetary_parameters['logKir'] = -1.5\n",
    "\n",
    "xsects.stellar_parameters['Rstar'] = 1.786\n",
    "\n",
    "xsects.chemistry_parameters['logMet'] = 0.0\n",
    "xsects.chemistry_parameters['logCtoO'] = -0.26\n",
    "xsects.chemistry_parameters['logPQC'] = -5.5\n",
    "xsects.chemistry_parameters['logPQN'] = -5.5\n",
    "\n",
    "xsects.cloud_parameters['logKzz'] = 7.0\n",
    "xsects.cloud_parameters['fsed'] = 3.0\n",
    "xsects.cloud_parameters['logPbase'] = -1.0\n",
    "xsects.cloud_parameters['logCldVMR'] = -25.0\n",
    "xsects.cloud_parameters['RaySlope'] = 0.0\n",
    "xsects.cloud_parameters['logKcld'] = -40.0\n",
    "xsects.cloud_parameters['logRayAmp'] = -30.0\n",
    "\n",
    "# Parameters to make the thing work\n",
    "xsects.planetary_parameters['Tirr'] = 2000\n",
    "xsects.gas_scale = np.array([1.,1.,1.,1.,1.,1.,1.,1.,1.,1.,1.,1.,1.,1.,1.,1.,1.,1.,1.,1., 1., 1.])"
   ]
  },
  {
   "cell_type": "code",
   "execution_count": 4,
   "id": "11cadf58",
   "metadata": {},
   "outputs": [],
   "source": [
    "model = GenerateModel(xsects, '/Users/mfix/Desktop/exoctk/exoctk/atmospheric_retrievals/chimera_hat-p-41/hat-p-41-data.dat')"
   ]
  },
  {
   "cell_type": "code",
   "execution_count": 5,
   "id": "5c84e89d",
   "metadata": {},
   "outputs": [],
   "source": [
    "retrieval_obj = GetRetrieval(xsects, model, '/my/outpath', '/Users/mfix/Desktop/exoctk/exoctk/atmospheric_retrievals/chimera_hat-p-41/hat-p-41-priors.json')"
   ]
  },
  {
   "cell_type": "code",
   "execution_count": 7,
   "id": "24909c89",
   "metadata": {},
   "outputs": [],
   "source": [
    "retrieval_obj.read_priors_assign_priors() # run method"
   ]
  },
  {
   "cell_type": "code",
   "execution_count": 9,
   "id": "9a5cbd45",
   "metadata": {},
   "outputs": [
    {
     "data": {
      "text/plain": [
       "3137500.0"
      ]
     },
     "execution_count": 9,
     "metadata": {},
     "output_type": "execute_result"
    }
   ],
   "source": [
    "print(retrieval_obj.cross_sections.planetary_parameters['Tirr']) # check one of the priors define in prior file"
   ]
  },
  {
   "cell_type": "code",
   "execution_count": 11,
   "id": "f11a4c33",
   "metadata": {},
   "outputs": [
    {
     "data": {
      "text/plain": [
       "3137500.0"
      ]
     },
     "execution_count": 11,
     "metadata": {},
     "output_type": "execute_result"
    }
   ],
   "source": [
    "retrieval_obj.transform_uniform(2091, [1000.0, 2500.0]) # check by passing values to method directly"
   ]
  },
  {
   "cell_type": "code",
   "execution_count": null,
   "id": "d0c52c39",
   "metadata": {},
   "outputs": [],
   "source": []
  }
 ],
 "metadata": {
  "kernelspec": {
   "display_name": "exoctk-3.8",
   "language": "python",
   "name": "exoctk-3.8"
  },
  "language_info": {
   "codemirror_mode": {
    "name": "ipython",
    "version": 3
   },
   "file_extension": ".py",
   "mimetype": "text/x-python",
   "name": "python",
   "nbconvert_exporter": "python",
   "pygments_lexer": "ipython3",
   "version": "3.8.5"
  }
 },
 "nbformat": 4,
 "nbformat_minor": 5
}
