{
 "cells": [
  {
   "cell_type": "markdown",
   "metadata": {},
   "source": [
    "# ExoCTK --- Phase Constraint Package\n",
    "\n",
    "## 1. Introduction\n",
    "\n",
    "Due to uncertainties on the exact scheduling time of JWST observations (due, e.g., to previous observations, unforeseen scenarios, etc.), it is recommended users of the observatory consider some flexibility in the start of their observations in order to give some leeway to the observatory scheduling system of about one hour (observers can still choose to narrow this window further, but with a penalty in the charged time to the program). \n",
    "\n",
    "Although this time window can be defined in the time-domain in the Astronomer's Proposal Tool (APT) under the [APT Special Requirements](https://jwst-docs.stsci.edu/jwst-astronomers-proposal-tool-overview/apt-workflow-articles/apt-special-requirements), for periodic phenomena like transiting exoplanets this would be cumbersome to do as one would have to define a time-window for every possible transit/eclipse event on the current observing Cycle. Fortunately, APT [also allows to define this window in phase-space](https://jwst-docs.stsci.edu/jppom/special-requirements/timing-special-requirements) (i.e., in units of fractions of the orbital period), where the zero-phase can be arbitrarily defined. \n",
    "\n",
    "The **ExoCTK's phase-constraint package** was developed in order to perform the calculations of these windows in phase-space for any transiting exoplanet out there in a quick-and-easy way. This package, thus, greatly simplifies the work of observation planning when it comes to transiting exoplanet observations.\n",
    "\n",
    "## 2. Quick start\n",
    "\n",
    "Let's suppose we want to obtain the 1-hour-window in phase space to schedule an observation of the primary transit of WASP-18b. To obtain this with **ExoCTK's phase-constraint** package, one would simply do:"
   ]
  },
  {
   "cell_type": "code",
   "execution_count": 11,
   "metadata": {},
   "outputs": [
    {
     "name": "stdout",
     "output_type": "stream",
     "text": [
      "Retrieved period is 0.94124. Retrieved t0 is 58374.669900000095.\n",
      "Retrieved transit/eclipse duration is: 2.14368 hrs; implied pre mid-transit/eclipse on-target time: 2.89368 hrs.\n",
      "Performing calculations with Period: 0.94124, t0: 58374.669900000095, ecc: None, omega: None degs, inc: None degs.\n",
      "MINIMUM PHASE: 0.8276351762922669, MAXIMUM PHASE: 0.8719030215460457\n"
     ]
    }
   ],
   "source": [
    "import exoctk.phase_constraint_overlap.phase_constraint_overlap as pc\n",
    "min_phase, max_phase = pc.phase_overlap_constraint('WASP-18b', window_size = 1.)"
   ]
  },
  {
   "cell_type": "markdown",
   "metadata": {},
   "source": [
    "Two lines. That's all it took! But how did this magic happen? What do these numbers actually mean? Keep reading to understand how the phase-constraint calculator actually works.\n",
    "\n",
    "## 3. Understanding the phase-constraint calculator for primary eclipses\n",
    "\n",
    "### 3.1 How did it do that?\n",
    "In the example above, the phase-constraint calculator returned the minimum and maximum phases for the exoplanet under study given only the planet name and the size of the window we were aiming to. In the background, the phase-constraint package automatically queries the exoplanet properties from [exo.MAST](https://exo.mast.stsci.edu/) given only the planet's name. Using this, it retrieves the properties of interest (period, $P$, and total transit duration, $T_{14}$, in this case) and, by default, assumes the observer wants to start the observations _at the very least_ a time:\n",
    "\n",
    "$T_{pre} = 0.75 + \\textrm{MAX}(1, T_{14}/2) + T_{14}/2$ hours\n",
    "\n",
    "_prior to mid-transit_ in this case. This time, by the way, is not arbitrary. Overall, the recommended (e.g., see [this JWST observation planning step-by-step tutorial](https://jwst-docs.stsci.edu/near-infrared-spectrograph/nirspec-example-science-programs/nirspec-bots-observations-of-wasp-79b/step-by-step-etc-guide-for-nirspec-bots-observations-of-wasp-79b)) time to spend on a target for a transit/eclipse observation is the above time $T_{pre}$ prior to the mid-transit time, and $T_{post} = T_{14}/2 + MAX(1, T_{14}/2) + T_W$ hours _post mid-transit_ where $T_W$ is the phase-constraint window (one hour in our example above). Using the retrieved properties for WASP-18b shown above, we can understand how the calculation was done in the background. The transit duration is $T_{14} = 2.14368$ hours; the period is $P = 0.94124 = 22.58976$ hours. The time $T_{pre}$ is, thus, $T_{pre}\\approx 2.89368$, which in phase-space units is\n",
    "\n",
    "$T_{pre}/P \\approx 0.128097$.\n",
    "\n",
    "APT assumes the transit event is always located at phase 1 (or zero, whichever is more comfortable). Thus:\n",
    "\n",
    "Maximum phase = $1 - T_{pre}/P\\approx 0.871903$,\n",
    "\n",
    "which is exactly the maximum phase retrieved by the calculation. The minimum phase is simply one hour earlier in phase space. This gives:\n",
    "\n",
    "Minimum phase = $1 - (T_{pre}+1)/P\\approx 0.827635$,\n",
    "\n",
    "again, exactly the minimum phase quoted above. \n",
    "\n",
    "### 3.2 Modifying phase-constraint parameters\n",
    "\n",
    "The phase-constraint calculator allows to ingest a number of variables into the calculation in order to give control to the user in terms of the calculations they want to make. For instance, the pre-transit duration discussed above, $T_{pre}$, can be changed by the user. This is done using the `pretransit_duration` variable. Suppose we wanted to retrieve the phase-constraint that corresponds to a pre-transit duration of 4 hours instead. We can simply do:\n"
   ]
  },
  {
   "cell_type": "code",
   "execution_count": 14,
   "metadata": {},
   "outputs": [
    {
     "name": "stdout",
     "output_type": "stream",
     "text": [
      "Retrieved period is 0.94124. Retrieved t0 is 58374.669900000095.\n",
      "Performing calculations with Period: 0.94124, t0: 58374.669900000095, ecc: None, omega: None degs, inc: None degs.\n",
      "MINIMUM PHASE: 0.7786607737311064, MAXIMUM PHASE: 0.8229286189848852\n"
     ]
    }
   ],
   "source": [
    "minp, maxp = pc.phase_overlap_constraint('WASP-18b', window_size = 1., pretransit_duration = 4.)"
   ]
  },
  {
   "cell_type": "markdown",
   "metadata": {},
   "source": [
    "Of course, that is not the only parameter we can change. In fact, every transit parameter of interest can be ingested to the `phase_overlap_constraint` function, in whose case the user-defined properties will override the exo.MAST ones. Let's use, for instance, the ephemerides found for WASP-18b by [Shporer et al. (2019)](https://arxiv.org/abs/1811.06020) --- $P = 0.941452419$, $t_0 = 2458002.354726$:\n"
   ]
  },
  {
   "cell_type": "code",
   "execution_count": 16,
   "metadata": {},
   "outputs": [
    {
     "name": "stdout",
     "output_type": "stream",
     "text": [
      "Retrieved transit/eclipse duration is: 2.14368 hrs; implied pre mid-transit/eclipse on-target time: 2.89368 hrs.\n",
      "Performing calculations with Period: 0.941452419, t0: 2458002.354726, ecc: None, omega: None degs, inc: None degs.\n",
      "MINIMUM PHASE: 0.8276740668009621, MAXIMUM PHASE: 0.8719319239435721\n"
     ]
    }
   ],
   "source": [
    "minp, maxp = pc.phase_overlap_constraint('WASP-18b', window_size = 1., period = 0.941452419, t0 = 2458002.354726)"
   ]
  },
  {
   "cell_type": "markdown",
   "metadata": {},
   "source": [
    "Note how they are only slightly differnt than the ones retrieved from exo.MAST! One important detail in the above calculation, is that _the time-of-transit center is of no use in phase-space because, by definition, for APT this is at phase equals 1_. This means one could put any place-holder value for `t0`, and the calculation would result in the exact same values:"
   ]
  },
  {
   "cell_type": "code",
   "execution_count": 17,
   "metadata": {},
   "outputs": [
    {
     "name": "stdout",
     "output_type": "stream",
     "text": [
      "Retrieved transit/eclipse duration is: 2.14368 hrs; implied pre mid-transit/eclipse on-target time: 2.89368 hrs.\n",
      "Performing calculations with Period: 0.941452419, t0: -1, ecc: None, omega: None degs, inc: None degs.\n",
      "MINIMUM PHASE: 0.8276740668009621, MAXIMUM PHASE: 0.8719319239435721\n"
     ]
    }
   ],
   "source": [
    "minp, maxp = pc.phase_overlap_constraint('WASP-18b', window_size = 1., period = 0.941452419, t0 = -1)"
   ]
  },
  {
   "cell_type": "markdown",
   "metadata": {},
   "source": [
    "Why does the phase-constraint overlap receives the time-of-transit center at all in the calculation? This will become clearer in the next section.\n",
    "\n",
    "## 4. Phase-constraints & times of secondary eclipses\n",
    "\n",
    "## 4.1 Phase-constraints for secondary eclipses\n",
    "The ExoCTK phase-constraint calculator can also obtain phase-constraints for secondary eclipses. This is indicated by the `secondary` flag in the `phase_overlap_constraint` function, which by default is `False`. Setting it to `True` in the WASP-18b case gives:\n"
   ]
  },
  {
   "cell_type": "code",
   "execution_count": 21,
   "metadata": {},
   "outputs": [
    {
     "name": "stdout",
     "output_type": "stream",
     "text": [
      "Retrieved transit/eclipse duration is: 2.122865968966563 hrs; implied pre mid-transit/eclipse on-target time: 2.872865968966563 hrs.\n",
      "Performing calculations with Period: 0.941452419, t0: None, ecc: 0.01, omega: 257.27 degs, inc: 85.68 degs.\n",
      "MINIMUM PHASE: 0.3271883452721046, MAXIMUM PHASE: 0.3714462024147147\n"
     ]
    }
   ],
   "source": [
    "minp, maxp = pc.phase_overlap_constraint('WASP-18b', window_size = 1., period = 0.941452419, secondary = True)"
   ]
  },
  {
   "cell_type": "markdown",
   "metadata": {},
   "source": [
    "Note that, given the small eccentricity and inclination of WASP-18b's orbit, in this case the maximum phase is almost equal to the value one would obtain assuming a circular orbit for this exoplanet, which would locate the maximum phase at $0.5 - T_{pre}/P \\approx 0.3719$ (i.e., with the secondary eclipse centered at phase $0.5$). The difference is of seconds --- likely not critical for most JWST observations.\n",
    "\n",
    "## 4.2 Finding secondary eclipse times\n",
    "\n",
    "To find the phases for secondary eclipses, in the background the ExoCTK phase-constraint package solves the proper minimization of the conjunction problem numerically (equation (5) in [Winn (2010)](https://arxiv.org/pdf/1001.2010v5.pdf)), and thus finds the time of secondary eclipse (in phase-space) to perform the calculation using the orbital elements retrieved from exo.MAST (which can also be user-defined). This gives another functionality to the package: a secondary eclipse time calculator. To retrieve the time of secondary eclipse, one can use the flag `get_secondary_time`. Let's use the [Shporer et al. (2019)](https://arxiv.org/abs/1811.06020) ephemerides:"
   ]
  },
  {
   "cell_type": "code",
   "execution_count": 20,
   "metadata": {},
   "outputs": [
    {
     "name": "stdout",
     "output_type": "stream",
     "text": [
      "Retrieved transit/eclipse duration is: 2.122865968966563 hrs; implied pre mid-transit/eclipse on-target time: 2.872865968966563 hrs.\n",
      "Performing calculations with Period: 0.941452419, t0: 2458002.354726, ecc: 0.01, omega: 257.27 degs, inc: 85.68 degs.\n",
      "MINIMUM PHASE: 0.32718834510905737, MAXIMUM PHASE: 0.37144620225166747, TSEC: 2458002.8241276746\n",
      "Secondary eclipse time: 2458002.8241276746\n"
     ]
    }
   ],
   "source": [
    "minp, maxp, tsec = pc.phase_overlap_constraint('WASP-18b', window_size = 1., period = 0.941452419, t0 = 2458002.354726, \\\n",
    "                                                secondary = True, get_secondary_time = True)\n",
    "print('Secondary eclipse time:',tsec)"
   ]
  },
  {
   "cell_type": "markdown",
   "metadata": {},
   "source": [
    "As can be seen, the secondary eclipse time matches beautifully with our expectations for non-eccentric orbit, which would give a secondary eclipse time of $t_0 + P/2 \\approx 2458002.82545221$ --- only a 5-second difference between the two results."
   ]
  },
  {
   "cell_type": "markdown",
   "metadata": {},
   "source": [
    "## 4.3 Better challenges for secondary-eclipse times: HD 80606b, GJ 436b and HAT-P-2b"
   ]
  },
  {
   "cell_type": "markdown",
   "metadata": {},
   "source": [
    "In order to showcase the power of the ExoCTK phase-constraint tool for secondary eclipse times and phase-constraints, we present here the results using our tool for more challenging systems in terms of predicting the location of their secondary eclipses. We start with HD 80606b, which is know to be _very_ eccentric ($e=0.93$). A quick hack, if one is aiming at calculating the _phase at which secondary eclipses occur_ is to let `window_size = 0.` and `pretransit_duration = 0.` (of course, never input this in APT!). Let's see how well our phase-constraint tool does in this challenguing system:"
   ]
  },
  {
   "cell_type": "code",
   "execution_count": 44,
   "metadata": {},
   "outputs": [
    {
     "name": "stdout",
     "output_type": "stream",
     "text": [
      "Retrieved period is 111.4367. Retrieved t0 is 55210.14280000003.\n",
      "Performing calculations with Period: 111.4367, t0: 55210.14280000003, ecc: 0.93, omega: 301.03 degs, inc: 89.29 degs.\n",
      "MINIMUM PHASE: 0.9455607255787186, MAXIMUM PHASE: 0.9455607255787186\n"
     ]
    }
   ],
   "source": [
    "minp, maxp = pc.phase_overlap_constraint('HD80606 b', window_size = 0., pretransit_duration = 0., secondary = True)"
   ]
  },
  {
   "cell_type": "markdown",
   "metadata": {},
   "source": [
    "This matches pretty well with the phase at which secondary eclipse happens in the literature (0.947; Laughlin et al., 2009](https://www.nature.com/articles/nature07649))! Note we are using more updated planetary parameters than the ones from [Laughlin et al., 2009](https://www.nature.com/articles/nature07649), which is explains the slight discrepancy in phase-space. \n",
    "\n",
    "Next, let's try we try GJ 436b --- a mildly eccentic system ($e=0.138$):"
   ]
  },
  {
   "cell_type": "code",
   "execution_count": 45,
   "metadata": {},
   "outputs": [
    {
     "name": "stdout",
     "output_type": "stream",
     "text": [
      "Retrieved period is 2.64388312. Retrieved t0 is 54864.5839999998.\n",
      "Performing calculations with Period: 2.64388312, t0: 54864.5839999998, ecc: 0.13827, omega: 351.0 degs, inc: 86.774 degs.\n",
      "MINIMUM PHASE: 0.5868253469349103, MAXIMUM PHASE: 0.5868253469349103\n"
     ]
    }
   ],
   "source": [
    "minp, maxp = pc.phase_overlap_constraint('GJ 436b', window_size = 0., pretransit_duration = 0., secondary = True)"
   ]
  },
  {
   "cell_type": "markdown",
   "metadata": {},
   "source": [
    "Woah! Excellent agrement with [Stevenson et al. (2010; secondary eclipse phase happening at 0.5868 +/- 0.0003)](https://ui.adsabs.harvard.edu/abs/2010Natur.464.1161S/abstract). Finally, let's give the tool a shot with HAT-P-2b ($e=0.517$):"
   ]
  },
  {
   "cell_type": "code",
   "execution_count": 46,
   "metadata": {},
   "outputs": [
    {
     "name": "stdout",
     "output_type": "stream",
     "text": [
      "Retrieved period is 5.6335158. Retrieved t0 is 55288.349100000225.\n",
      "Performing calculations with Period: 5.6335158, t0: 55288.349100000225, ecc: 0.5172, omega: 188.01 degs, inc: 86.16 degs.\n",
      "MINIMUM PHASE: 0.1876234349401976, MAXIMUM PHASE: 0.1876234349401976\n"
     ]
    }
   ],
   "source": [
    "minp, maxp = pc.phase_overlap_constraint('HAT-P-2b', window_size = 0., pretransit_duration = 0., secondary = True)"
   ]
  },
  {
   "cell_type": "markdown",
   "metadata": {},
   "source": [
    "Once again: beautiful agreement with de [Wit et al. (2017; secondary eclipse phase happening at 0.187)](https://iopscience.iop.org/article/10.3847/2041-8213/836/2/L17/pdf)."
   ]
  },
  {
   "cell_type": "code",
   "execution_count": null,
   "metadata": {},
   "outputs": [],
   "source": []
  }
 ],
 "metadata": {
  "kernelspec": {
   "display_name": "Python 3",
   "language": "python",
   "name": "python3"
  },
  "language_info": {
   "codemirror_mode": {
    "name": "ipython",
    "version": 3
   },
   "file_extension": ".py",
   "mimetype": "text/x-python",
   "name": "python",
   "nbconvert_exporter": "python",
   "pygments_lexer": "ipython3",
   "version": "3.7.3"
  }
 },
 "nbformat": 4,
 "nbformat_minor": 4
}
