{
 "cells": [
  {
   "cell_type": "markdown",
   "id": "61cd6088-1220-49e8-bedd-f82b3dca966c",
   "metadata": {},
   "source": [
    "# ExoCTK Contamination and Visibility Tool Demo\n",
    "This notebook contains general instructions on how to run the Contamination and Visibility Tool as well as some validation tests with on-sky data. The Web application for this tool can also be found at https://exoctk.stsci.edu/contam_visibility."
   ]
  },
  {
   "cell_type": "code",
   "execution_count": null,
   "id": "c1a0077f-21f2-4f6d-8da1-7d2c2c3e8af0",
   "metadata": {},
   "outputs": [],
   "source": [
    "# Imports\n",
    "from astropy.io import fits\n",
    "from astroquery.mast import Observations\n",
    "from exoctk.contam_visibility import field_simulator as fs\n",
    "from exoctk.contam_visibility import contamination_figure as cf\n",
    "from bokeh.plotting import show\n",
    "from bokeh.io import output_notebook\n",
    "from hotsoss.plotting import plot_frame\n",
    "output_notebook()"
   ]
  },
  {
   "cell_type": "markdown",
   "id": "03885993-f11d-4c46-91a3-6a45f27ba48d",
   "metadata": {},
   "source": [
    "## Using the Contamination and Visibility Tool\n",
    "The Contamination and Visibility Tool has three types of outputs, discussed below.\n",
    "\n",
    "### Simulate a field at a single position angle\n",
    "The only necessary inputs to simulate the contamination in a given field at a particular position angle are the target coordinates, the instrument name, and the position angle of interest. We first search the neighborhood for sources with our RA and Dec values."
   ]
  },
  {
   "cell_type": "code",
   "execution_count": null,
   "id": "963f2c9e-9571-4a41-a47f-0fe3dc767f9f",
   "metadata": {},
   "outputs": [],
   "source": [
    "# Find all sources (including the target) in the field of view\n",
    "target = \"WASP-100\"\n",
    "ra, dec = 68.95970886173, -64.02703718088\n",
    "sources = fs.find_sources(ra, dec, verbose=False)"
   ]
  },
  {
   "cell_type": "markdown",
   "id": "c02e56b2-85d6-4955-8808-c4aae8abdfdc",
   "metadata": {},
   "source": [
    "Next we can calculate the contamination for a given instrument at a given PA. PA values can range from (0, 360) and supported subarrays currently include 'NIS_SUBSTRIP256' and 'NIS_SUBSTRIP96'."
   ]
  },
  {
   "cell_type": "code",
   "execution_count": null,
   "id": "ade498f1-fb71-44a6-a18d-c6da06c97189",
   "metadata": {},
   "outputs": [],
   "source": [
    "# Calculate contamination\n",
    "pa = 200\n",
    "subarray = 'NIS_SUBSTRIP256'\n",
    "result, plot = fs.calc_v3pa(pa, sources, subarray, plot=True, verbose=False)\n",
    "\n",
    "# Plot it!\n",
    "show(plot)"
   ]
  },
  {
   "cell_type": "markdown",
   "id": "17eec029-69f4-44c2-a378-10cb85dcf512",
   "metadata": {},
   "source": [
    "In the top plot, the red lines indicate stars and the pink lines indicate extended sources. The solid lines indicate the target traces and the dashed lines indicate contaminant traces. The circles indicate 0th order contaminant traces. Hover over any glyph to see more information about the source.\n",
    "\n",
    "In the bottom plot, the shaded regions show the estimated contamination from neighboring sources in each column for each order trace.\n",
    "\n",
    "### Simulate the estimated contamination at all position angles\n",
    "If you supply the `field_simulation` function with the RA and Dec of interest, most of the work is done for you and an estimate of the contamination at all position angles is shown. This can be used to quickly see which position angle ranges are suitable for your observations."
   ]
  },
  {
   "cell_type": "code",
   "execution_count": null,
   "id": "d9febedf-fcd4-46c4-9d16-3ba04ff58341",
   "metadata": {},
   "outputs": [],
   "source": [
    "# Run the field simulation for all PAs\n",
    "targframe, contamframe, results = fs.field_simulation(ra, dec, subarray, plot=False, multi=False)"
   ]
  },
  {
   "cell_type": "code",
   "execution_count": null,
   "id": "2d440f82-2df6-46ba-8154-79e8cfae278c",
   "metadata": {},
   "outputs": [],
   "source": [
    "# Get bad PA list from missing angles between 0 and 360\n",
    "badPAs = [j for j in np.arange(0, 360) if j not in [i['pa'] for i in results]]\n",
    "\n",
    "# Make old contam plot. Some reshaping required.\n",
    "simframe = np.zeros((362, 2048, 256))\n",
    "simframe[0, :, :] = (targframe[0]).T[::-1, ::-1]\n",
    "simframe[1, :, :] = (targframe[1]).T[::-1, ::-1]\n",
    "simframe[2:, :, :] = contamframe.swapaxes(1, 2)[:, ::-1, ::-1]\n",
    "contam_plot = cf.contam(simframe, subarray, targetName=target, badPAs=badPAs)\n",
    "show(contam_plot)"
   ]
  },
  {
   "cell_type": "markdown",
   "id": "1f347b68-2c76-4245-8aa5-9ccccb2ed718",
   "metadata": {},
   "source": [
    "### Explore contamination for all valid position angles\n",
    "You can also simulate each field individually for a closer visual inspection with an interactive plot. We'll just use the results from above. Drag the slider to see the simulated contamination at each visible PA. The grey areas indicate position angles where the target is not visible."
   ]
  },
  {
   "cell_type": "code",
   "execution_count": null,
   "id": "2f590d2e-4199-4b0e-a297-d7f3ecbf07a6",
   "metadata": {},
   "outputs": [],
   "source": [
    "interactive_plot = fs.contam_slider_plot(results)\n",
    "show(interactive_plot)"
   ]
  },
  {
   "cell_type": "markdown",
   "id": "398ab0fd-7c6a-4bce-8fcb-5834a90ff970",
   "metadata": {},
   "source": [
    "## Validation Tests\n",
    "Below are some tests to show how well the Contamination and Visibility Tool is predicting the locations of contaminant traces. The `calc_vpa3` function also accepts on-sky SOSS data as a quality check for the output simulations."
   ]
  },
  {
   "cell_type": "markdown",
   "id": "9726b720-7084-4ff9-9f62-3507d2d072e0",
   "metadata": {},
   "source": [
    "### Download the data\n",
    "First, lets's download the data we need to test the Contamination and Visibility Tool from MAST. Let's use WASP-39 as our example. Feel free to change it to your target of choice! The code accepts only a single 2D frame at a time so let's just use the 2D `_rate.fits` data product."
   ]
  },
  {
   "cell_type": "code",
   "execution_count": null,
   "id": "64ba55e4-906f-4ba4-bda3-c4baacd8632a",
   "metadata": {},
   "outputs": [],
   "source": [
    "# Specify the observation\n",
    "observation = Observations.query_criteria(instrument_name='NIRISS/SOSS', filters='CLEAR;GR700XD', target_name='WASP-39')\n",
    "\n",
    "# Get the data products\n",
    "data_products = Observations.get_product_list(observation)\n",
    "\n",
    "# Filter them to get rates only\n",
    "rate_file = Observations.filter_products(data_products, dataproduct_type='spectrum', productType='SCIENCE', productSubGroupDescription='RATE')[2]\n",
    "\n",
    "# Download the data\n",
    "dl_table = Observations.download_products(rate_file)\n",
    "\n",
    "# Get the path to the rate file\n",
    "rate_path = dl_table['Local Path'][0]"
   ]
  },
  {
   "cell_type": "markdown",
   "id": "acc5b684-6cda-499f-bc88-4a46109f4808",
   "metadata": {},
   "source": [
    "### Load the data into the session\n",
    "Now we can read in the data and get the target RA, Dec, and position angle we want to replicate."
   ]
  },
  {
   "cell_type": "code",
   "execution_count": null,
   "id": "f0fc7bae-b1e4-4086-ba93-43b49be1e80c",
   "metadata": {},
   "outputs": [],
   "source": [
    "# Observation parameters\n",
    "rate_data = fits.getdata(rate_path)\n",
    "ra = fits.getval(rate_path, 'TARG_RA')\n",
    "dec = fits.getval(rate_path, 'TARG_DEC')\n",
    "pa = int(fits.getval(rate_path, 'GS_V3_PA'))\n",
    "obsdate = fits.getval(rate_path, 'DATE-BEG')[:4]\n",
    "subarray = 'NIS_' + fits.getval(rate_path, 'SUBARRAY')"
   ]
  },
  {
   "cell_type": "markdown",
   "id": "2f34e256-bd9e-49a5-a341-d2a5b821b2db",
   "metadata": {},
   "source": [
    "### Find all nearby sources\n",
    "Next, we have to search the neighborhood for our target as well as any potentially contaminanting sources. The `find_sources` function also accepts a `target_date` to specify the calendar year when the observations were taken so that proper motions of the sources can be accounted for. It is set to the current year by default but we will supply a 4-digit year from the observation `obsdate` so we know it matches."
   ]
  },
  {
   "cell_type": "code",
   "execution_count": null,
   "id": "b5fba590-8964-4992-a150-65d342991572",
   "metadata": {},
   "outputs": [],
   "source": [
    "# Find all sources (including the target) in the field of view\n",
    "sources = fs.find_sources(ra, dec, target_date=obsdate, verbose=False)"
   ]
  },
  {
   "cell_type": "markdown",
   "id": "d92af0ff-920a-469b-8217-1a3b24242524",
   "metadata": {},
   "source": [
    "### Run the Contamination and Visibility Tool\n",
    "Now that we have our data and observation parameters, we can run the tool."
   ]
  },
  {
   "cell_type": "code",
   "execution_count": null,
   "id": "c9c5255f-2ab1-4c37-a992-1ef95546a244",
   "metadata": {},
   "outputs": [],
   "source": [
    "# Calculate contamination\n",
    "result_onsky, plot_onsky = fs.calc_v3pa(pa, sources, subarray, data=rate_data, plot=True, verbose=False)\n",
    "\n",
    "# Plot it!\n",
    "show(plot_onsky)"
   ]
  },
  {
   "cell_type": "code",
   "execution_count": null,
   "id": "cc62fc83-48fe-4ed3-8e57-7d0730974cea",
   "metadata": {},
   "outputs": [],
   "source": [
    "# For comparison, let's see what the simulation looks like\n",
    "result_sim, plot_sim = fs.calc_v3pa(pa, sources, subarray, plot=True, verbose=False)\n",
    "\n",
    "# Plot it!\n",
    "show(plot_sim)"
   ]
  },
  {
   "cell_type": "code",
   "execution_count": null,
   "id": "d8134c6f-3c7d-43b3-bb4a-624d98725deb",
   "metadata": {},
   "outputs": [],
   "source": []
  }
 ],
 "metadata": {
  "kernelspec": {
   "display_name": "exoctk-3.9",
   "language": "python",
   "name": "exoctk-3.9"
  },
  "language_info": {
   "codemirror_mode": {
    "name": "ipython",
    "version": 3
   },
   "file_extension": ".py",
   "mimetype": "text/x-python",
   "name": "python",
   "nbconvert_exporter": "python",
   "pygments_lexer": "ipython3",
   "version": "3.9.1"
  }
 },
 "nbformat": 4,
 "nbformat_minor": 5
}
