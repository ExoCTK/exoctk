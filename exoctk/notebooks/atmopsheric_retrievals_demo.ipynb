{
 "cells": [
  {
   "cell_type": "markdown",
   "metadata": {},
   "source": [
    "# Atmopsheric Retrievals with ExoCTK\n",
    "\n",
    "*This notebook demonstrates the use of ExoCTK's `platon_wrapper` module.  As indicated by its name, this module is a wrapper around the `platon.retreiver.run_multinest` and `platon.retriever.run_emcee` methods, which runs nested sampling and EMCEE to retrieve atmospheric parameters, respectively.  For further information about `platon`, see the [project documentation](https://platon.readthedocs.io/en/latest/), the [API docs for the `retriever` module](https://platon.readthedocs.io/en/latest/source/platon.html#module-platon.retriever), or the [GitHub repository](https://github.com/ideasrule/platon).*\n",
    "\n",
    "*Note that some of the examples provided below are minimal, bare-bones examples that are meant to show how users may use the software while not taking much computation time to complete.  The parameters used and the corresponding results are not indicitive of a true scientific use case.  For a more comprehensive and robust examples, see the `examples.py` module in the `exoctk.atmospheric_retrievals` subpackage.*"
   ]
  },
  {
   "cell_type": "code",
   "execution_count": null,
   "metadata": {},
   "outputs": [],
   "source": [
    "# Required imports\n",
    "from IPython.display import Image\n",
    "import numpy as np\n",
    "from platon.constants import R_sun, R_jup, M_jup\n",
    "from exoctk.atmospheric_retrievals.platon_wrapper import PlatonWrapper"
   ]
  },
  {
   "cell_type": "markdown",
   "metadata": {},
   "source": [
    "*The `PlatonWrapper` object requires the user to supply a dictionary containing initial guesses of parameters that they wish to fit.  Note that `Rs`, `Mp`, `Rp`, and `T` must be supplied, while the others are optional.*\n",
    "\n",
    "*Note that `Rs` are in units of solar radii, `Mp` are in units of Jupiter masses, and `Rp` is is units of Jupiter radii.*"
   ]
  },
  {
   "cell_type": "code",
   "execution_count": null,
   "metadata": {},
   "outputs": [],
   "source": [
    "params = {\n",
    "    'Rs': 1.19,  # Required\n",
    "    'Mp': 0.73,  # Required\n",
    "    'Rp': 1.4,  # Required\n",
    "    'T': 1200.0,  # Required\n",
    "    'logZ': 0,  # Optional\n",
    "    'CO_ratio': 0.53,  # Optional\n",
    "    'log_cloudtop_P': 4,  # Optional\n",
    "    'log_scatt_factor': 0,  # Optional\n",
    "    'scatt_slope': 4,  # Optional\n",
    "    'error_multiple': 1,  # Optional\n",
    "    'T_star': 6091}  # Optional"
   ]
  },
  {
   "cell_type": "markdown",
   "metadata": {},
   "source": [
    "*In order to perform the retrieval, users must instantiate a `PlatonWrapper` object and set the parameters*"
   ]
  },
  {
   "cell_type": "code",
   "execution_count": null,
   "metadata": {},
   "outputs": [],
   "source": [
    "pw = PlatonWrapper()\n",
    "pw.set_parameters(params)"
   ]
  },
  {
   "cell_type": "markdown",
   "metadata": {},
   "source": [
    "*Users may add additional fitting constraints via the `fit_info` attribute.  Note that all of these optional.*"
   ]
  },
  {
   "cell_type": "code",
   "execution_count": null,
   "metadata": {},
   "outputs": [],
   "source": [
    "R_guess = 1.4 * R_jup\n",
    "T_guess = 1200\n",
    "pw.fit_info.add_gaussian_fit_param('Rs', 0.02*R_sun)\n",
    "pw.fit_info.add_gaussian_fit_param('Mp', 0.04*M_jup)\n",
    "pw.fit_info.add_uniform_fit_param('Rp', 0.9*R_guess, 1.1*R_guess)\n",
    "pw.fit_info.add_uniform_fit_param('T', 0.5*T_guess, 1.5*T_guess)\n",
    "pw.fit_info.add_uniform_fit_param(\"log_scatt_factor\", 0, 1)\n",
    "pw.fit_info.add_uniform_fit_param(\"logZ\", -1, 3)\n",
    "pw.fit_info.add_uniform_fit_param(\"log_cloudtop_P\", -0.99, 5)\n",
    "pw.fit_info.add_uniform_fit_param(\"error_multiple\", 0.5, 5)"
   ]
  },
  {
   "cell_type": "markdown",
   "metadata": {},
   "source": [
    "*Prior to performing the retrieval, users must define `bins`, `depths`, and `errors` attributes.  The `bins` atribute must be a list of lists, with each element being the lower and upper bounds of the wavelenth bin.  The `depths` and `errors` attributes are both 1-dimensional `numpy` arrays.*"
   ]
  },
  {
   "cell_type": "code",
   "execution_count": null,
   "metadata": {},
   "outputs": [],
   "source": [
    "pw.wavelengths = 1e-6*np.array([1.119, 1.1387])\n",
    "pw.bins = [[w-0.0095e-6, w+0.0095e-6] for w in pw.wavelengths]\n",
    "pw.depths = 1e-6 * np.array([14512.7, 14546.5])\n",
    "pw.errors = 1e-6 * np.array([50.6, 35.5])"
   ]
  },
  {
   "cell_type": "markdown",
   "metadata": {},
   "source": [
    "*With everything defined, users can now perform the retreival.  Users may choose to use the the EMCEE method (`emcee`) or the Multinested Sampling method (`multinest`)*"
   ]
  },
  {
   "cell_type": "markdown",
   "metadata": {},
   "source": [
    "### EMCEE Method"
   ]
  },
  {
   "cell_type": "code",
   "execution_count": null,
   "metadata": {},
   "outputs": [],
   "source": [
    "pw.retrieve('emcee')\n",
    "pw.make_plot()"
   ]
  },
  {
   "cell_type": "markdown",
   "metadata": {},
   "source": [
    "*Results are stored as a corner plot in the location given by the `output_plot` attribute*"
   ]
  },
  {
   "cell_type": "code",
   "execution_count": null,
   "metadata": {},
   "outputs": [],
   "source": [
    "Image(filename='../atmospheric_retrievals/{}'.format(pw.output_plot))"
   ]
  },
  {
   "cell_type": "markdown",
   "metadata": {},
   "source": [
    "### Mulinested Sampling Method"
   ]
  },
  {
   "cell_type": "code",
   "execution_count": null,
   "metadata": {},
   "outputs": [],
   "source": [
    "pw.retrieve('multinest')\n",
    "pw.save_results()\n",
    "pw.make_plot()"
   ]
  },
  {
   "cell_type": "markdown",
   "metadata": {},
   "source": [
    "*Results are stored as (1) a text file in the location given by the `output_results` attribute and (2) as a corner plot in the location given by the `output_plot` attribute*"
   ]
  },
  {
   "cell_type": "code",
   "execution_count": null,
   "metadata": {},
   "outputs": [],
   "source": [
    "with open(pw.output_results, 'r') as f:\n",
    "    results = f.readlines()\n",
    "print(results)"
   ]
  },
  {
   "cell_type": "code",
   "execution_count": null,
   "metadata": {},
   "outputs": [],
   "source": [
    "Image(filename='../atmospheric_retrievals/{}'.format(pw.output_plot))"
   ]
  },
  {
   "cell_type": "code",
   "execution_count": null,
   "metadata": {},
   "outputs": [],
   "source": []
  }
 ],
 "metadata": {
  "kernelspec": {
   "display_name": "Python 3",
   "language": "python",
   "name": "python3"
  },
  "language_info": {
   "codemirror_mode": {
    "name": "ipython",
    "version": 3
   },
   "file_extension": ".py",
   "mimetype": "text/x-python",
   "name": "python",
   "nbconvert_exporter": "python",
   "pygments_lexer": "ipython3",
   "version": "3.6.7"
  }
 },
 "nbformat": 4,
 "nbformat_minor": 2
}
