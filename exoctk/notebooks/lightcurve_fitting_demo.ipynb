{
 "cells": [
  {
   "cell_type": "markdown",
   "metadata": {},
   "source": [
    "# Light Curve Fitting with ExoCTK\n",
    "ExoCTK performs light curve fitting with the `exoctk.lightcurve_fitting` tool. This notebook will show you how to do it. \n",
    "\n",
    "First, some imports and a toy light curve to work with:"
   ]
  },
  {
   "cell_type": "code",
   "execution_count": 48,
   "metadata": {},
   "outputs": [
    {
     "data": {
      "text/html": [
       "\n",
       "    <div class=\"bk-root\">\n",
       "        <a href=\"https://bokeh.pydata.org\" target=\"_blank\" class=\"bk-logo bk-logo-small bk-logo-notebook\"></a>\n",
       "        <span id=\"11288\">Loading BokehJS ...</span>\n",
       "    </div>"
      ]
     },
     "metadata": {},
     "output_type": "display_data"
    },
    {
     "data": {
      "application/javascript": [
       "\n",
       "(function(root) {\n",
       "  function now() {\n",
       "    return new Date();\n",
       "  }\n",
       "\n",
       "  var force = true;\n",
       "\n",
       "  if (typeof (root._bokeh_onload_callbacks) === \"undefined\" || force === true) {\n",
       "    root._bokeh_onload_callbacks = [];\n",
       "    root._bokeh_is_loading = undefined;\n",
       "  }\n",
       "\n",
       "  var JS_MIME_TYPE = 'application/javascript';\n",
       "  var HTML_MIME_TYPE = 'text/html';\n",
       "  var EXEC_MIME_TYPE = 'application/vnd.bokehjs_exec.v0+json';\n",
       "  var CLASS_NAME = 'output_bokeh rendered_html';\n",
       "\n",
       "  /**\n",
       "   * Render data to the DOM node\n",
       "   */\n",
       "  function render(props, node) {\n",
       "    var script = document.createElement(\"script\");\n",
       "    node.appendChild(script);\n",
       "  }\n",
       "\n",
       "  /**\n",
       "   * Handle when an output is cleared or removed\n",
       "   */\n",
       "  function handleClearOutput(event, handle) {\n",
       "    var cell = handle.cell;\n",
       "\n",
       "    var id = cell.output_area._bokeh_element_id;\n",
       "    var server_id = cell.output_area._bokeh_server_id;\n",
       "    // Clean up Bokeh references\n",
       "    if (id != null && id in Bokeh.index) {\n",
       "      Bokeh.index[id].model.document.clear();\n",
       "      delete Bokeh.index[id];\n",
       "    }\n",
       "\n",
       "    if (server_id !== undefined) {\n",
       "      // Clean up Bokeh references\n",
       "      var cmd = \"from bokeh.io.state import curstate; print(curstate().uuid_to_server['\" + server_id + \"'].get_sessions()[0].document.roots[0]._id)\";\n",
       "      cell.notebook.kernel.execute(cmd, {\n",
       "        iopub: {\n",
       "          output: function(msg) {\n",
       "            var id = msg.content.text.trim();\n",
       "            if (id in Bokeh.index) {\n",
       "              Bokeh.index[id].model.document.clear();\n",
       "              delete Bokeh.index[id];\n",
       "            }\n",
       "          }\n",
       "        }\n",
       "      });\n",
       "      // Destroy server and session\n",
       "      var cmd = \"import bokeh.io.notebook as ion; ion.destroy_server('\" + server_id + \"')\";\n",
       "      cell.notebook.kernel.execute(cmd);\n",
       "    }\n",
       "  }\n",
       "\n",
       "  /**\n",
       "   * Handle when a new output is added\n",
       "   */\n",
       "  function handleAddOutput(event, handle) {\n",
       "    var output_area = handle.output_area;\n",
       "    var output = handle.output;\n",
       "\n",
       "    // limit handleAddOutput to display_data with EXEC_MIME_TYPE content only\n",
       "    if ((output.output_type != \"display_data\") || (!output.data.hasOwnProperty(EXEC_MIME_TYPE))) {\n",
       "      return\n",
       "    }\n",
       "\n",
       "    var toinsert = output_area.element.find(\".\" + CLASS_NAME.split(' ')[0]);\n",
       "\n",
       "    if (output.metadata[EXEC_MIME_TYPE][\"id\"] !== undefined) {\n",
       "      toinsert[toinsert.length - 1].firstChild.textContent = output.data[JS_MIME_TYPE];\n",
       "      // store reference to embed id on output_area\n",
       "      output_area._bokeh_element_id = output.metadata[EXEC_MIME_TYPE][\"id\"];\n",
       "    }\n",
       "    if (output.metadata[EXEC_MIME_TYPE][\"server_id\"] !== undefined) {\n",
       "      var bk_div = document.createElement(\"div\");\n",
       "      bk_div.innerHTML = output.data[HTML_MIME_TYPE];\n",
       "      var script_attrs = bk_div.children[0].attributes;\n",
       "      for (var i = 0; i < script_attrs.length; i++) {\n",
       "        toinsert[toinsert.length - 1].firstChild.setAttribute(script_attrs[i].name, script_attrs[i].value);\n",
       "      }\n",
       "      // store reference to server id on output_area\n",
       "      output_area._bokeh_server_id = output.metadata[EXEC_MIME_TYPE][\"server_id\"];\n",
       "    }\n",
       "  }\n",
       "\n",
       "  function register_renderer(events, OutputArea) {\n",
       "\n",
       "    function append_mime(data, metadata, element) {\n",
       "      // create a DOM node to render to\n",
       "      var toinsert = this.create_output_subarea(\n",
       "        metadata,\n",
       "        CLASS_NAME,\n",
       "        EXEC_MIME_TYPE\n",
       "      );\n",
       "      this.keyboard_manager.register_events(toinsert);\n",
       "      // Render to node\n",
       "      var props = {data: data, metadata: metadata[EXEC_MIME_TYPE]};\n",
       "      render(props, toinsert[toinsert.length - 1]);\n",
       "      element.append(toinsert);\n",
       "      return toinsert\n",
       "    }\n",
       "\n",
       "    /* Handle when an output is cleared or removed */\n",
       "    events.on('clear_output.CodeCell', handleClearOutput);\n",
       "    events.on('delete.Cell', handleClearOutput);\n",
       "\n",
       "    /* Handle when a new output is added */\n",
       "    events.on('output_added.OutputArea', handleAddOutput);\n",
       "\n",
       "    /**\n",
       "     * Register the mime type and append_mime function with output_area\n",
       "     */\n",
       "    OutputArea.prototype.register_mime_type(EXEC_MIME_TYPE, append_mime, {\n",
       "      /* Is output safe? */\n",
       "      safe: true,\n",
       "      /* Index of renderer in `output_area.display_order` */\n",
       "      index: 0\n",
       "    });\n",
       "  }\n",
       "\n",
       "  // register the mime type if in Jupyter Notebook environment and previously unregistered\n",
       "  if (root.Jupyter !== undefined) {\n",
       "    var events = require('base/js/events');\n",
       "    var OutputArea = require('notebook/js/outputarea').OutputArea;\n",
       "\n",
       "    if (OutputArea.prototype.mime_types().indexOf(EXEC_MIME_TYPE) == -1) {\n",
       "      register_renderer(events, OutputArea);\n",
       "    }\n",
       "  }\n",
       "\n",
       "  \n",
       "  if (typeof (root._bokeh_timeout) === \"undefined\" || force === true) {\n",
       "    root._bokeh_timeout = Date.now() + 5000;\n",
       "    root._bokeh_failed_load = false;\n",
       "  }\n",
       "\n",
       "  var NB_LOAD_WARNING = {'data': {'text/html':\n",
       "     \"<div style='background-color: #fdd'>\\n\"+\n",
       "     \"<p>\\n\"+\n",
       "     \"BokehJS does not appear to have successfully loaded. If loading BokehJS from CDN, this \\n\"+\n",
       "     \"may be due to a slow or bad network connection. Possible fixes:\\n\"+\n",
       "     \"</p>\\n\"+\n",
       "     \"<ul>\\n\"+\n",
       "     \"<li>re-rerun `output_notebook()` to attempt to load from CDN again, or</li>\\n\"+\n",
       "     \"<li>use INLINE resources instead, as so:</li>\\n\"+\n",
       "     \"</ul>\\n\"+\n",
       "     \"<code>\\n\"+\n",
       "     \"from bokeh.resources import INLINE\\n\"+\n",
       "     \"output_notebook(resources=INLINE)\\n\"+\n",
       "     \"</code>\\n\"+\n",
       "     \"</div>\"}};\n",
       "\n",
       "  function display_loaded() {\n",
       "    var el = document.getElementById(\"11288\");\n",
       "    if (el != null) {\n",
       "      el.textContent = \"BokehJS is loading...\";\n",
       "    }\n",
       "    if (root.Bokeh !== undefined) {\n",
       "      if (el != null) {\n",
       "        el.textContent = \"BokehJS \" + root.Bokeh.version + \" successfully loaded.\";\n",
       "      }\n",
       "    } else if (Date.now() < root._bokeh_timeout) {\n",
       "      setTimeout(display_loaded, 100)\n",
       "    }\n",
       "  }\n",
       "\n",
       "\n",
       "  function run_callbacks() {\n",
       "    try {\n",
       "      root._bokeh_onload_callbacks.forEach(function(callback) { callback() });\n",
       "    }\n",
       "    finally {\n",
       "      delete root._bokeh_onload_callbacks\n",
       "    }\n",
       "    console.info(\"Bokeh: all callbacks have finished\");\n",
       "  }\n",
       "\n",
       "  function load_libs(js_urls, callback) {\n",
       "    root._bokeh_onload_callbacks.push(callback);\n",
       "    if (root._bokeh_is_loading > 0) {\n",
       "      console.log(\"Bokeh: BokehJS is being loaded, scheduling callback at\", now());\n",
       "      return null;\n",
       "    }\n",
       "    if (js_urls == null || js_urls.length === 0) {\n",
       "      run_callbacks();\n",
       "      return null;\n",
       "    }\n",
       "    console.log(\"Bokeh: BokehJS not loaded, scheduling load and callback at\", now());\n",
       "    root._bokeh_is_loading = js_urls.length;\n",
       "    for (var i = 0; i < js_urls.length; i++) {\n",
       "      var url = js_urls[i];\n",
       "      var s = document.createElement('script');\n",
       "      s.src = url;\n",
       "      s.async = false;\n",
       "      s.onreadystatechange = s.onload = function() {\n",
       "        root._bokeh_is_loading--;\n",
       "        if (root._bokeh_is_loading === 0) {\n",
       "          console.log(\"Bokeh: all BokehJS libraries loaded\");\n",
       "          run_callbacks()\n",
       "        }\n",
       "      };\n",
       "      s.onerror = function() {\n",
       "        console.warn(\"failed to load library \" + url);\n",
       "      };\n",
       "      console.log(\"Bokeh: injecting script tag for BokehJS library: \", url);\n",
       "      document.getElementsByTagName(\"head\")[0].appendChild(s);\n",
       "    }\n",
       "  };var element = document.getElementById(\"11288\");\n",
       "  if (element == null) {\n",
       "    console.log(\"Bokeh: ERROR: autoload.js configured with elementid '11288' but no matching script tag was found. \")\n",
       "    return false;\n",
       "  }\n",
       "\n",
       "  var js_urls = [\"https://cdn.pydata.org/bokeh/release/bokeh-1.0.4.min.js\", \"https://cdn.pydata.org/bokeh/release/bokeh-widgets-1.0.4.min.js\", \"https://cdn.pydata.org/bokeh/release/bokeh-tables-1.0.4.min.js\", \"https://cdn.pydata.org/bokeh/release/bokeh-gl-1.0.4.min.js\"];\n",
       "\n",
       "  var inline_js = [\n",
       "    function(Bokeh) {\n",
       "      Bokeh.set_log_level(\"info\");\n",
       "    },\n",
       "    \n",
       "    function(Bokeh) {\n",
       "      \n",
       "    },\n",
       "    function(Bokeh) {\n",
       "      console.log(\"Bokeh: injecting CSS: https://cdn.pydata.org/bokeh/release/bokeh-1.0.4.min.css\");\n",
       "      Bokeh.embed.inject_css(\"https://cdn.pydata.org/bokeh/release/bokeh-1.0.4.min.css\");\n",
       "      console.log(\"Bokeh: injecting CSS: https://cdn.pydata.org/bokeh/release/bokeh-widgets-1.0.4.min.css\");\n",
       "      Bokeh.embed.inject_css(\"https://cdn.pydata.org/bokeh/release/bokeh-widgets-1.0.4.min.css\");\n",
       "      console.log(\"Bokeh: injecting CSS: https://cdn.pydata.org/bokeh/release/bokeh-tables-1.0.4.min.css\");\n",
       "      Bokeh.embed.inject_css(\"https://cdn.pydata.org/bokeh/release/bokeh-tables-1.0.4.min.css\");\n",
       "    }\n",
       "  ];\n",
       "\n",
       "  function run_inline_js() {\n",
       "    \n",
       "    if ((root.Bokeh !== undefined) || (force === true)) {\n",
       "      for (var i = 0; i < inline_js.length; i++) {\n",
       "        inline_js[i].call(root, root.Bokeh);\n",
       "      }if (force === true) {\n",
       "        display_loaded();\n",
       "      }} else if (Date.now() < root._bokeh_timeout) {\n",
       "      setTimeout(run_inline_js, 100);\n",
       "    } else if (!root._bokeh_failed_load) {\n",
       "      console.log(\"Bokeh: BokehJS failed to load within specified timeout.\");\n",
       "      root._bokeh_failed_load = true;\n",
       "    } else if (force !== true) {\n",
       "      var cell = $(document.getElementById(\"11288\")).parents('.cell').data().cell;\n",
       "      cell.output_area.append_execute_result(NB_LOAD_WARNING)\n",
       "    }\n",
       "\n",
       "  }\n",
       "\n",
       "  if (root._bokeh_is_loading === 0) {\n",
       "    console.log(\"Bokeh: BokehJS loaded, going straight to plotting\");\n",
       "    run_inline_js();\n",
       "  } else {\n",
       "    load_libs(js_urls, function() {\n",
       "      console.log(\"Bokeh: BokehJS plotting callback run at\", now());\n",
       "      run_inline_js();\n",
       "    });\n",
       "  }\n",
       "}(window));"
      ],
      "application/vnd.bokehjs_load.v0+json": "\n(function(root) {\n  function now() {\n    return new Date();\n  }\n\n  var force = true;\n\n  if (typeof (root._bokeh_onload_callbacks) === \"undefined\" || force === true) {\n    root._bokeh_onload_callbacks = [];\n    root._bokeh_is_loading = undefined;\n  }\n\n  \n\n  \n  if (typeof (root._bokeh_timeout) === \"undefined\" || force === true) {\n    root._bokeh_timeout = Date.now() + 5000;\n    root._bokeh_failed_load = false;\n  }\n\n  var NB_LOAD_WARNING = {'data': {'text/html':\n     \"<div style='background-color: #fdd'>\\n\"+\n     \"<p>\\n\"+\n     \"BokehJS does not appear to have successfully loaded. If loading BokehJS from CDN, this \\n\"+\n     \"may be due to a slow or bad network connection. Possible fixes:\\n\"+\n     \"</p>\\n\"+\n     \"<ul>\\n\"+\n     \"<li>re-rerun `output_notebook()` to attempt to load from CDN again, or</li>\\n\"+\n     \"<li>use INLINE resources instead, as so:</li>\\n\"+\n     \"</ul>\\n\"+\n     \"<code>\\n\"+\n     \"from bokeh.resources import INLINE\\n\"+\n     \"output_notebook(resources=INLINE)\\n\"+\n     \"</code>\\n\"+\n     \"</div>\"}};\n\n  function display_loaded() {\n    var el = document.getElementById(\"11288\");\n    if (el != null) {\n      el.textContent = \"BokehJS is loading...\";\n    }\n    if (root.Bokeh !== undefined) {\n      if (el != null) {\n        el.textContent = \"BokehJS \" + root.Bokeh.version + \" successfully loaded.\";\n      }\n    } else if (Date.now() < root._bokeh_timeout) {\n      setTimeout(display_loaded, 100)\n    }\n  }\n\n\n  function run_callbacks() {\n    try {\n      root._bokeh_onload_callbacks.forEach(function(callback) { callback() });\n    }\n    finally {\n      delete root._bokeh_onload_callbacks\n    }\n    console.info(\"Bokeh: all callbacks have finished\");\n  }\n\n  function load_libs(js_urls, callback) {\n    root._bokeh_onload_callbacks.push(callback);\n    if (root._bokeh_is_loading > 0) {\n      console.log(\"Bokeh: BokehJS is being loaded, scheduling callback at\", now());\n      return null;\n    }\n    if (js_urls == null || js_urls.length === 0) {\n      run_callbacks();\n      return null;\n    }\n    console.log(\"Bokeh: BokehJS not loaded, scheduling load and callback at\", now());\n    root._bokeh_is_loading = js_urls.length;\n    for (var i = 0; i < js_urls.length; i++) {\n      var url = js_urls[i];\n      var s = document.createElement('script');\n      s.src = url;\n      s.async = false;\n      s.onreadystatechange = s.onload = function() {\n        root._bokeh_is_loading--;\n        if (root._bokeh_is_loading === 0) {\n          console.log(\"Bokeh: all BokehJS libraries loaded\");\n          run_callbacks()\n        }\n      };\n      s.onerror = function() {\n        console.warn(\"failed to load library \" + url);\n      };\n      console.log(\"Bokeh: injecting script tag for BokehJS library: \", url);\n      document.getElementsByTagName(\"head\")[0].appendChild(s);\n    }\n  };var element = document.getElementById(\"11288\");\n  if (element == null) {\n    console.log(\"Bokeh: ERROR: autoload.js configured with elementid '11288' but no matching script tag was found. \")\n    return false;\n  }\n\n  var js_urls = [\"https://cdn.pydata.org/bokeh/release/bokeh-1.0.4.min.js\", \"https://cdn.pydata.org/bokeh/release/bokeh-widgets-1.0.4.min.js\", \"https://cdn.pydata.org/bokeh/release/bokeh-tables-1.0.4.min.js\", \"https://cdn.pydata.org/bokeh/release/bokeh-gl-1.0.4.min.js\"];\n\n  var inline_js = [\n    function(Bokeh) {\n      Bokeh.set_log_level(\"info\");\n    },\n    \n    function(Bokeh) {\n      \n    },\n    function(Bokeh) {\n      console.log(\"Bokeh: injecting CSS: https://cdn.pydata.org/bokeh/release/bokeh-1.0.4.min.css\");\n      Bokeh.embed.inject_css(\"https://cdn.pydata.org/bokeh/release/bokeh-1.0.4.min.css\");\n      console.log(\"Bokeh: injecting CSS: https://cdn.pydata.org/bokeh/release/bokeh-widgets-1.0.4.min.css\");\n      Bokeh.embed.inject_css(\"https://cdn.pydata.org/bokeh/release/bokeh-widgets-1.0.4.min.css\");\n      console.log(\"Bokeh: injecting CSS: https://cdn.pydata.org/bokeh/release/bokeh-tables-1.0.4.min.css\");\n      Bokeh.embed.inject_css(\"https://cdn.pydata.org/bokeh/release/bokeh-tables-1.0.4.min.css\");\n    }\n  ];\n\n  function run_inline_js() {\n    \n    if ((root.Bokeh !== undefined) || (force === true)) {\n      for (var i = 0; i < inline_js.length; i++) {\n        inline_js[i].call(root, root.Bokeh);\n      }if (force === true) {\n        display_loaded();\n      }} else if (Date.now() < root._bokeh_timeout) {\n      setTimeout(run_inline_js, 100);\n    } else if (!root._bokeh_failed_load) {\n      console.log(\"Bokeh: BokehJS failed to load within specified timeout.\");\n      root._bokeh_failed_load = true;\n    } else if (force !== true) {\n      var cell = $(document.getElementById(\"11288\")).parents('.cell').data().cell;\n      cell.output_area.append_execute_result(NB_LOAD_WARNING)\n    }\n\n  }\n\n  if (root._bokeh_is_loading === 0) {\n    console.log(\"Bokeh: BokehJS loaded, going straight to plotting\");\n    run_inline_js();\n  } else {\n    load_libs(js_urls, function() {\n      console.log(\"Bokeh: BokehJS plotting callback run at\", now());\n      run_inline_js();\n    });\n  }\n}(window));"
     },
     "metadata": {},
     "output_type": "display_data"
    }
   ],
   "source": [
    "# Imports\n",
    "import numpy as np\n",
    "import astropy.units as q\n",
    "from exoctk.lightcurve_fitting.lightcurve import LightCurve\n",
    "from exoctk.lightcurve_fitting.parameters import Parameters\n",
    "from exoctk.lightcurve_fitting.models import PolynomialModel, TransitModel\n",
    "from bokeh.io import output_notebook\n",
    "output_notebook()"
   ]
  },
  {
   "cell_type": "code",
   "execution_count": 49,
   "metadata": {
    "collapsed": true
   },
   "outputs": [],
   "source": [
    "# Toy data\n",
    "time = np.linspace(0, 1, 100)\n",
    "raw_flux = [0.95 if 35<i<60 else 1 for i in range(100)]\n",
    "unc = np.random.uniform(low=1E-4, high=0.01, size=100)\n",
    "flux = np.random.normal(raw_flux, scale=unc)\n",
    "flux[55:60] *= np.linspace(1, 1.05, 5)\n",
    "flux[36:41] *= np.linspace(1.05, 1., 5)"
   ]
  },
  {
   "cell_type": "markdown",
   "metadata": {},
   "source": [
    "## Create a light curve\n",
    "Creating a light curve instance is simple. Just pass `exoctk.lightcurve_fitting.lightcurve.LightCurve()` a `time` and `flux` array. You can also pass it the associated uncertainty with the `unc` argument.\n",
    "\n",
    "The `units` argument is just the units of the given time axis, in this case 'day'."
   ]
  },
  {
   "cell_type": "code",
   "execution_count": 50,
   "metadata": {},
   "outputs": [
    {
     "data": {
      "text/html": [
       "\n",
       "\n",
       "\n",
       "\n",
       "\n",
       "\n",
       "  <div class=\"bk-root\" id=\"c50da1cb-ca6d-4fa7-9e4b-3a0a1f04f224\" data-root-id=\"11289\"></div>\n"
      ]
     },
     "metadata": {},
     "output_type": "display_data"
    },
    {
     "data": {
      "application/javascript": [
       "(function(root) {\n",
       "  function embed_document(root) {\n",
       "    \n",
       "  var docs_json = {\"7c0ad03b-0e73-4d36-adf9-6cbe43a15144\":{\"roots\":{\"references\":[{\"attributes\":{},\"id\":\"11309\",\"type\":\"WheelZoomTool\"},{\"attributes\":{\"below\":[{\"id\":\"11298\",\"type\":\"LinearAxis\"}],\"left\":[{\"id\":\"11303\",\"type\":\"LinearAxis\"}],\"plot_height\":400,\"plot_width\":800,\"renderers\":[{\"id\":\"11298\",\"type\":\"LinearAxis\"},{\"id\":\"11302\",\"type\":\"Grid\"},{\"id\":\"11303\",\"type\":\"LinearAxis\"},{\"id\":\"11307\",\"type\":\"Grid\"},{\"id\":\"11316\",\"type\":\"BoxAnnotation\"},{\"id\":\"11335\",\"type\":\"Legend\"},{\"id\":\"11326\",\"type\":\"GlyphRenderer\"}],\"title\":{\"id\":\"11328\",\"type\":\"Title\"},\"toolbar\":{\"id\":\"11314\",\"type\":\"Toolbar\"},\"x_range\":{\"id\":\"11290\",\"type\":\"DataRange1d\"},\"x_scale\":{\"id\":\"11294\",\"type\":\"LinearScale\"},\"y_range\":{\"id\":\"11292\",\"type\":\"DataRange1d\"},\"y_scale\":{\"id\":\"11296\",\"type\":\"LinearScale\"}},\"id\":\"11289\",\"subtype\":\"Figure\",\"type\":\"Plot\"},{\"attributes\":{\"callback\":null,\"data\":{\"x\":{\"__ndarray__\":\"AAAAAAAAAABbv1Kg1q+EP1u/UqDWr5Q/CB988MEHnz9bv1Kg1q+kPzJvZ0jM26k/CB988MEHrz9wZ0jM2xmyP1u/UqDWr7Q/RhdddNFFtz8yb2dIzNu5Px3HcRzHcbw/CB988MEHvz96O0Ni3s7AP3BnSMzbGcI/ZZNNNtlkwz9bv1Kg1q/EP1HrVwrU+sU/RhdddNFFxz88Q2LezpDIPzJvZ0jM28k/J5tssskmyz8dx3Ecx3HMPxPzdobEvM0/CB988MEHzz9/pUCtXynQP3o7Q2LeztA/ddFFF1100T9wZ0jM2xnSP2r9SoFav9I/ZZNNNtlk0z9gKVDrVwrUP1u/UqDWr9Q/VlVVVVVV1T9R61cK1PrVP0yBWr9SoNY/RhdddNFF1z9BrV8pUOvXPzxDYt7OkNg/N9lkk0022T8yb2dIzNvZPy0Fav1Kgdo/J5tssskm2z8iMW9nSMzbPx3HcRzHcdw/GF100UUX3T8T83aGxLzdPw6JeTtDYt4/CB988MEH3z8DtX6lQK3fP3+lQK1fKeA/ffDBBx984D96O0Ni3s7gP3eGxLydIeE/ddFFF1104T9yHMdxHMfhP3BnSMzbGeI/bbLJJpts4j9q/UqBWr/iP2hIzNsZEuM/ZZNNNtlk4z9j3s6QmLfjP2ApUOtXCuQ/XnTRRRdd5D9bv1Kg1q/kP1gK1PqVAuU/VlVVVVVV5T9ToNavFKjlP1HrVwrU+uU/TjbZZJNN5j9MgVq/UqDmP0nM2xkS8+Y/RhdddNFF5z9EYt7OkJjnP0GtXylQ6+c/P/jggw8+6D88Q2LezpDoPzmO4ziO4+g/N9lkk0026T80JObtDInpPzJvZ0jM2+k/L7rooosu6j8tBWr9SoHqPypQ61cK1Oo/J5tssskm6z8l5u0MiXnrPyIxb2dIzOs/IHzwwQcf7D8dx3Ecx3HsPxsS83aGxOw/GF100UUX7T8VqPUrBWrtPxPzdobEvO0/ED744IMP7j8OiXk7Q2LuPwvU+pUCte4/CB988MEH7z8Gav1KgVrvPwO1fqVAre8/AAAAAAAA8D8=\",\"dtype\":\"float64\",\"shape\":[100]},\"y\":{\"__ndarray__\":\"2t05hjX57z/rzKepMRXwPxEMNJkgFfA/35CDppzP7z+olSyOAwTwP82xxUbY8u8/X7Te77Wh7z+Zn4lmZRfwP+cAoEJP5O8/z/XJEQ3p7z/lF9FQGdrvP4p7RJtGAPA/pLUg2pIF8D/HMNGmaxzwP4y/MJVw7u8/0Oj+rYUB8D/qKWRdE+XvPxXCjGTKBPA/G9S8Y+627z9eJy6w6P3vP6/KZOrT5O8/DIVFbCHl7z/B11HtMt7vP6kSHGCM6u8/FKlZAQDH7z8PxsT+TgbwP7rxVtW8APA/ZlVZ0tcB8D+uOarbOxLwP7VVLgcs9u8/umtEXhn47z+YPwTo5PHvP6+ICknBD/A/10ZXP8cy8D9kpV4a2PzvP5yd3RJABPA/7hCWXEsP8D9FsSWnu6fvP/T1G5+NWu8/KISl+IvG7j/BZ7ZJyGTuP44zESh9cu4/xTt5vO8B7j988Stu0XLuP+7pAf44jO4/wm1JkM9r7j9RE4jB3oTuP2eCFc0YWu4/Lpa76/bd7j9pvyt7DpruP39PUYHNde4/y54vgr4c7j9rLIdY21buPwhiLlYpNe4/6GJt+nE57j8BS4ka+cLuPyMnxg/4cu4/hZdRwj2i7z/UEdp/9sbvP7x+j7zM3+8/BesaxJMq8D/kI+btU9rvP7bNgNBKKfA/n6CmGOoP8D/diyRnuuvvPzgwNfbT8u8/YMECp0z87z8ipdFYdQfwP7EEaAsQ5e8/gDDgRvUB8D/Ll0tEUQfwP3fAY7uHDPA//6KI3gkD8D9kUnQaVNjvPzXgwvQpCfA/vvdfIVTN7z/QUg8SUcHvP3+uzfPzBvA/9HtShl0I8D/jBoS7SSfwP8lts3M1A/A/qS5zQiv57z/Q5K4CLgbwP6dsX8YKJPA/f5hjli7Y7z/cbVlB5w3wP6rJOKDYvu8/nnH7YI/P7z/cHJUKj63vP0l+NZ3j8e8/ZIP9LgCl7z+W06/b9evvPykl9IJWJPA/EHicYvmn7z/c32MLkxDwP2j+zNLuCvA/nSn2oBP+7z8SKi2UZgrwPxSS0IOhBvA/FipZe1cA8D8=\",\"dtype\":\"float64\",\"shape\":[100]}},\"selected\":{\"id\":\"11693\",\"type\":\"Selection\"},\"selection_policy\":{\"id\":\"11694\",\"type\":\"UnionRenderers\"}},\"id\":\"11323\",\"type\":\"ColumnDataSource\"},{\"attributes\":{\"plot\":{\"id\":\"11289\",\"subtype\":\"Figure\",\"type\":\"Plot\"},\"ticker\":{\"id\":\"11299\",\"type\":\"BasicTicker\"}},\"id\":\"11302\",\"type\":\"Grid\"},{\"attributes\":{},\"id\":\"11308\",\"type\":\"PanTool\"},{\"attributes\":{\"fill_color\":{\"value\":\"#1f77b4\"},\"line_color\":{\"value\":\"#1f77b4\"},\"x\":{\"field\":\"x\"},\"y\":{\"field\":\"y\"}},\"id\":\"11324\",\"type\":\"Circle\"},{\"attributes\":{\"fill_alpha\":{\"value\":0.1},\"fill_color\":{\"value\":\"#1f77b4\"},\"line_alpha\":{\"value\":0.1},\"line_color\":{\"value\":\"#1f77b4\"},\"x\":{\"field\":\"x\"},\"y\":{\"field\":\"y\"}},\"id\":\"11325\",\"type\":\"Circle\"},{\"attributes\":{},\"id\":\"11304\",\"type\":\"BasicTicker\"},{\"attributes\":{\"axis_label\":\"MJD\",\"formatter\":{\"id\":\"11330\",\"type\":\"BasicTickFormatter\"},\"plot\":{\"id\":\"11289\",\"subtype\":\"Figure\",\"type\":\"Plot\"},\"ticker\":{\"id\":\"11299\",\"type\":\"BasicTicker\"}},\"id\":\"11298\",\"type\":\"LinearAxis\"},{\"attributes\":{\"callback\":null},\"id\":\"11292\",\"type\":\"DataRange1d\"},{\"attributes\":{\"overlay\":{\"id\":\"11316\",\"type\":\"BoxAnnotation\"}},\"id\":\"11310\",\"type\":\"BoxZoomTool\"},{\"attributes\":{\"dimension\":1,\"plot\":{\"id\":\"11289\",\"subtype\":\"Figure\",\"type\":\"Plot\"},\"ticker\":{\"id\":\"11304\",\"type\":\"BasicTicker\"}},\"id\":\"11307\",\"type\":\"Grid\"},{\"attributes\":{},\"id\":\"11294\",\"type\":\"LinearScale\"},{\"attributes\":{},\"id\":\"11299\",\"type\":\"BasicTicker\"},{\"attributes\":{\"plot\":null,\"text\":\"\"},\"id\":\"11328\",\"type\":\"Title\"},{\"attributes\":{},\"id\":\"11296\",\"type\":\"LinearScale\"},{\"attributes\":{\"axis_label\":\"Flux\",\"formatter\":{\"id\":\"11332\",\"type\":\"BasicTickFormatter\"},\"plot\":{\"id\":\"11289\",\"subtype\":\"Figure\",\"type\":\"Plot\"},\"ticker\":{\"id\":\"11304\",\"type\":\"BasicTicker\"}},\"id\":\"11303\",\"type\":\"LinearAxis\"},{\"attributes\":{},\"id\":\"11311\",\"type\":\"SaveTool\"},{\"attributes\":{},\"id\":\"11693\",\"type\":\"Selection\"},{\"attributes\":{\"active_drag\":\"auto\",\"active_inspect\":\"auto\",\"active_multi\":null,\"active_scroll\":\"auto\",\"active_tap\":\"auto\",\"tools\":[{\"id\":\"11308\",\"type\":\"PanTool\"},{\"id\":\"11309\",\"type\":\"WheelZoomTool\"},{\"id\":\"11310\",\"type\":\"BoxZoomTool\"},{\"id\":\"11311\",\"type\":\"SaveTool\"},{\"id\":\"11312\",\"type\":\"ResetTool\"},{\"id\":\"11313\",\"type\":\"HelpTool\"}]},\"id\":\"11314\",\"type\":\"Toolbar\"},{\"attributes\":{},\"id\":\"11330\",\"type\":\"BasicTickFormatter\"},{\"attributes\":{\"items\":[{\"id\":\"11336\",\"type\":\"LegendItem\"}],\"plot\":{\"id\":\"11289\",\"subtype\":\"Figure\",\"type\":\"Plot\"}},\"id\":\"11335\",\"type\":\"Legend\"},{\"attributes\":{\"data_source\":{\"id\":\"11323\",\"type\":\"ColumnDataSource\"},\"glyph\":{\"id\":\"11324\",\"type\":\"Circle\"},\"hover_glyph\":null,\"muted_glyph\":null,\"nonselection_glyph\":{\"id\":\"11325\",\"type\":\"Circle\"},\"selection_glyph\":null,\"view\":{\"id\":\"11327\",\"type\":\"CDSView\"}},\"id\":\"11326\",\"type\":\"GlyphRenderer\"},{\"attributes\":{\"source\":{\"id\":\"11323\",\"type\":\"ColumnDataSource\"}},\"id\":\"11327\",\"type\":\"CDSView\"},{\"attributes\":{},\"id\":\"11313\",\"type\":\"HelpTool\"},{\"attributes\":{},\"id\":\"11332\",\"type\":\"BasicTickFormatter\"},{\"attributes\":{},\"id\":\"11694\",\"type\":\"UnionRenderers\"},{\"attributes\":{\"callback\":null},\"id\":\"11290\",\"type\":\"DataRange1d\"},{\"attributes\":{\"label\":{\"value\":\"Data\"},\"renderers\":[{\"id\":\"11326\",\"type\":\"GlyphRenderer\"}]},\"id\":\"11336\",\"type\":\"LegendItem\"},{\"attributes\":{},\"id\":\"11312\",\"type\":\"ResetTool\"},{\"attributes\":{\"bottom_units\":\"screen\",\"fill_alpha\":{\"value\":0.5},\"fill_color\":{\"value\":\"lightgrey\"},\"left_units\":\"screen\",\"level\":\"overlay\",\"line_alpha\":{\"value\":1.0},\"line_color\":{\"value\":\"black\"},\"line_dash\":[4,4],\"line_width\":{\"value\":2},\"plot\":null,\"render_mode\":\"css\",\"right_units\":\"screen\",\"top_units\":\"screen\"},\"id\":\"11316\",\"type\":\"BoxAnnotation\"}],\"root_ids\":[\"11289\"]},\"title\":\"Bokeh Application\",\"version\":\"1.0.4\"}};\n",
       "  var render_items = [{\"docid\":\"7c0ad03b-0e73-4d36-adf9-6cbe43a15144\",\"roots\":{\"11289\":\"c50da1cb-ca6d-4fa7-9e4b-3a0a1f04f224\"}}];\n",
       "  root.Bokeh.embed.embed_items_notebook(docs_json, render_items);\n",
       "\n",
       "  }\n",
       "  if (root.Bokeh !== undefined) {\n",
       "    embed_document(root);\n",
       "  } else {\n",
       "    var attempts = 0;\n",
       "    var timer = setInterval(function(root) {\n",
       "      if (root.Bokeh !== undefined) {\n",
       "        embed_document(root);\n",
       "        clearInterval(timer);\n",
       "      }\n",
       "      attempts++;\n",
       "      if (attempts > 100) {\n",
       "        console.log(\"Bokeh: ERROR: Unable to run BokehJS code because BokehJS library is missing\");\n",
       "        clearInterval(timer);\n",
       "      }\n",
       "    }, 10, root)\n",
       "  }\n",
       "})(window);"
      ],
      "application/vnd.bokehjs_exec.v0+json": ""
     },
     "metadata": {
      "application/vnd.bokehjs_exec.v0+json": {
       "id": "11289"
      }
     },
     "output_type": "display_data"
    }
   ],
   "source": [
    "# Instantiate a lightcurve\n",
    "lc = LightCurve(time, flux, unc, name='Data')\n",
    "lc.plot()"
   ]
  },
  {
   "cell_type": "markdown",
   "metadata": {},
   "source": [
    "## Create some models to fit to the light curve\n",
    "Now that we have our light curve data loaded, let's create some models to fit to it.\n",
    "\n",
    "First we'll create a simple linear model by passing some polynomial coefficients to the `PolynomialModel` class."
   ]
  },
  {
   "cell_type": "code",
   "execution_count": 51,
   "metadata": {},
   "outputs": [
    {
     "data": {
      "text/html": [
       "\n",
       "\n",
       "\n",
       "\n",
       "\n",
       "\n",
       "  <div class=\"bk-root\" id=\"2404c9e5-ae05-4967-aa90-39c932db619a\" data-root-id=\"11750\"></div>\n"
      ]
     },
     "metadata": {},
     "output_type": "display_data"
    },
    {
     "data": {
      "application/javascript": [
       "(function(root) {\n",
       "  function embed_document(root) {\n",
       "    \n",
       "  var docs_json = {\"568d07db-701c-415f-a4d9-8a476158e61f\":{\"roots\":{\"references\":[{\"attributes\":{},\"id\":\"11760\",\"type\":\"BasicTicker\"},{\"attributes\":{\"below\":[{\"id\":\"11759\",\"type\":\"LinearAxis\"}],\"left\":[{\"id\":\"11764\",\"type\":\"LinearAxis\"}],\"plot_height\":400,\"plot_width\":800,\"renderers\":[{\"id\":\"11759\",\"type\":\"LinearAxis\"},{\"id\":\"11763\",\"type\":\"Grid\"},{\"id\":\"11764\",\"type\":\"LinearAxis\"},{\"id\":\"11768\",\"type\":\"Grid\"},{\"id\":\"11777\",\"type\":\"BoxAnnotation\"},{\"id\":\"11796\",\"type\":\"Legend\"},{\"id\":\"11787\",\"type\":\"GlyphRenderer\"}],\"title\":{\"id\":\"11789\",\"type\":\"Title\"},\"toolbar\":{\"id\":\"11775\",\"type\":\"Toolbar\"},\"x_range\":{\"id\":\"11751\",\"type\":\"DataRange1d\"},\"x_scale\":{\"id\":\"11755\",\"type\":\"LinearScale\"},\"y_range\":{\"id\":\"11753\",\"type\":\"DataRange1d\"},\"y_scale\":{\"id\":\"11757\",\"type\":\"LinearScale\"}},\"id\":\"11750\",\"subtype\":\"Figure\",\"type\":\"Plot\"},{\"attributes\":{},\"id\":\"11793\",\"type\":\"BasicTickFormatter\"},{\"attributes\":{\"callback\":null,\"data\":{\"x\":{\"__ndarray__\":\"AAAAAAAAAABbv1Kg1q+EP1u/UqDWr5Q/CB988MEHnz9bv1Kg1q+kPzJvZ0jM26k/CB988MEHrz9wZ0jM2xmyP1u/UqDWr7Q/RhdddNFFtz8yb2dIzNu5Px3HcRzHcbw/CB988MEHvz96O0Ni3s7AP3BnSMzbGcI/ZZNNNtlkwz9bv1Kg1q/EP1HrVwrU+sU/RhdddNFFxz88Q2LezpDIPzJvZ0jM28k/J5tssskmyz8dx3Ecx3HMPxPzdobEvM0/CB988MEHzz9/pUCtXynQP3o7Q2LeztA/ddFFF1100T9wZ0jM2xnSP2r9SoFav9I/ZZNNNtlk0z9gKVDrVwrUP1u/UqDWr9Q/VlVVVVVV1T9R61cK1PrVP0yBWr9SoNY/RhdddNFF1z9BrV8pUOvXPzxDYt7OkNg/N9lkk0022T8yb2dIzNvZPy0Fav1Kgdo/J5tssskm2z8iMW9nSMzbPx3HcRzHcdw/GF100UUX3T8T83aGxLzdPw6JeTtDYt4/CB988MEH3z8DtX6lQK3fP3+lQK1fKeA/ffDBBx984D96O0Ni3s7gP3eGxLydIeE/ddFFF1104T9yHMdxHMfhP3BnSMzbGeI/bbLJJpts4j9q/UqBWr/iP2hIzNsZEuM/ZZNNNtlk4z9j3s6QmLfjP2ApUOtXCuQ/XnTRRRdd5D9bv1Kg1q/kP1gK1PqVAuU/VlVVVVVV5T9ToNavFKjlP1HrVwrU+uU/TjbZZJNN5j9MgVq/UqDmP0nM2xkS8+Y/RhdddNFF5z9EYt7OkJjnP0GtXylQ6+c/P/jggw8+6D88Q2LezpDoPzmO4ziO4+g/N9lkk0026T80JObtDInpPzJvZ0jM2+k/L7rooosu6j8tBWr9SoHqPypQ61cK1Oo/J5tssskm6z8l5u0MiXnrPyIxb2dIzOs/IHzwwQcf7D8dx3Ecx3HsPxsS83aGxOw/GF100UUX7T8VqPUrBWrtPxPzdobEvO0/ED744IMP7j8OiXk7Q2LuPwvU+pUCte4/CB988MEH7z8Gav1KgVrvPwO1fqVAre8/AAAAAAAA8D8=\",\"dtype\":\"float64\",\"shape\":[100]},\"y\":{\"__ndarray__\":\"TDeJQWDl7z87WAHZauXvPyp5eXB15e8/GZrxB4Dl7z8Iu2mfiuXvP/fb4TaV5e8/5vxZzp/l7z/VHdJlquXvP8Q+Sv205e8/s1/ClL/l7z+hgDosyuXvP5ChssPU5e8/f8IqW9/l7z9u46Ly6eXvP10EG4r05e8/TCWTIf/l7z87Rgu5CebvPypng1AU5u8/GYj75x7m7z8IqXN/KebvP/fJ6xY05u8/5upjrj7m7z/VC9xFSebvP8QsVN1T5u8/s03MdF7m7z+ibkQMaebvP5GPvKNz5u8/gLA0O37m7z9v0azSiObvP17yJGqT5u8/TROdAZ7m7z88NBWZqObvPytVjTCz5u8/GnYFyL3m7z8Jl31fyObvP/i39fbS5u8/59htjt3m7z/W+eUl6ObvP8UaXr3y5u8/tDvWVP3m7z+jXE7sB+fvP5J9xoMS5+8/gZ4+Gx3n7z9wv7ayJ+fvP1/gLkoy5+8/TgGn4Tzn7z89Ih95R+fvPyxDlxBS5+8/G2QPqFzn7z8KhYc/Z+fvP/il/9Zx5+8/58Z3bnzn7z/W5+8Fh+fvP8UIaJ2R5+8/tCngNJzn7z+jSljMpufvP5Jr0GOx5+8/gYxI+7vn7z9wrcCSxufvP1/OOCrR5+8/Tu+wwdvn7z89EClZ5ufvPywxofDw5+8/G1IZiPvn7z8Kc5EfBujvP/mTCbcQ6O8/6LSBThvo7z/X1fnlJejvP8b2cX0w6O8/tRfqFDvo7z+kOGKsRejvP5NZ2kNQ6O8/gnpS21ro7z9xm8pyZejvP2C8Qgpw6O8/T926oXro7z8+/jI5hejvPy0fq9CP6O8/HEAjaJro7z8LYZv/pOjvP/qBE5ev6O8/6aKLLrro7z/YwwPGxOjvP8fke13P6O8/tgX09Nno7z+lJmyM5OjvP5RH5CPv6O8/g2hcu/no7z9yidRSBOnvP2GqTOoO6e8/T8vEgRnp7z8+7DwZJOnvPy0NtbAu6e8/HC4tSDnp7z8LT6XfQ+nvP/pvHXdO6e8/6ZCVDlnp7z/YsQ2mY+nvP8fShT1u6e8/tvP91Hjp7z8=\",\"dtype\":\"float64\",\"shape\":[100]}},\"selected\":{\"id\":\"12163\",\"type\":\"Selection\"},\"selection_policy\":{\"id\":\"12164\",\"type\":\"UnionRenderers\"}},\"id\":\"11784\",\"type\":\"ColumnDataSource\"},{\"attributes\":{\"source\":{\"id\":\"11784\",\"type\":\"ColumnDataSource\"}},\"id\":\"11788\",\"type\":\"CDSView\"},{\"attributes\":{},\"id\":\"12163\",\"type\":\"Selection\"},{\"attributes\":{},\"id\":\"11773\",\"type\":\"ResetTool\"},{\"attributes\":{\"axis_label\":\"MJD\",\"formatter\":{\"id\":\"11791\",\"type\":\"BasicTickFormatter\"},\"plot\":{\"id\":\"11750\",\"subtype\":\"Figure\",\"type\":\"Plot\"},\"ticker\":{\"id\":\"11760\",\"type\":\"BasicTicker\"}},\"id\":\"11759\",\"type\":\"LinearAxis\"},{\"attributes\":{\"line_color\":\"blue\",\"x\":{\"field\":\"x\"},\"y\":{\"field\":\"y\"}},\"id\":\"11785\",\"type\":\"Line\"},{\"attributes\":{\"overlay\":{\"id\":\"11777\",\"type\":\"BoxAnnotation\"}},\"id\":\"11771\",\"type\":\"BoxZoomTool\"},{\"attributes\":{\"bottom_units\":\"screen\",\"fill_alpha\":{\"value\":0.5},\"fill_color\":{\"value\":\"lightgrey\"},\"left_units\":\"screen\",\"level\":\"overlay\",\"line_alpha\":{\"value\":1.0},\"line_color\":{\"value\":\"black\"},\"line_dash\":[4,4],\"line_width\":{\"value\":2},\"plot\":null,\"render_mode\":\"css\",\"right_units\":\"screen\",\"top_units\":\"screen\"},\"id\":\"11777\",\"type\":\"BoxAnnotation\"},{\"attributes\":{\"data_source\":{\"id\":\"11784\",\"type\":\"ColumnDataSource\"},\"glyph\":{\"id\":\"11785\",\"type\":\"Line\"},\"hover_glyph\":null,\"muted_glyph\":null,\"nonselection_glyph\":{\"id\":\"11786\",\"type\":\"Line\"},\"selection_glyph\":null,\"view\":{\"id\":\"11788\",\"type\":\"CDSView\"}},\"id\":\"11787\",\"type\":\"GlyphRenderer\"},{\"attributes\":{\"callback\":null},\"id\":\"11751\",\"type\":\"DataRange1d\"},{\"attributes\":{},\"id\":\"11755\",\"type\":\"LinearScale\"},{\"attributes\":{},\"id\":\"11772\",\"type\":\"SaveTool\"},{\"attributes\":{\"dimension\":1,\"plot\":{\"id\":\"11750\",\"subtype\":\"Figure\",\"type\":\"Plot\"},\"ticker\":{\"id\":\"11765\",\"type\":\"BasicTicker\"}},\"id\":\"11768\",\"type\":\"Grid\"},{\"attributes\":{},\"id\":\"11791\",\"type\":\"BasicTickFormatter\"},{\"attributes\":{},\"id\":\"11774\",\"type\":\"HelpTool\"},{\"attributes\":{},\"id\":\"11757\",\"type\":\"LinearScale\"},{\"attributes\":{},\"id\":\"11770\",\"type\":\"WheelZoomTool\"},{\"attributes\":{\"plot\":null,\"text\":\"\"},\"id\":\"11789\",\"type\":\"Title\"},{\"attributes\":{\"items\":[{\"id\":\"11797\",\"type\":\"LegendItem\"}],\"plot\":{\"id\":\"11750\",\"subtype\":\"Figure\",\"type\":\"Plot\"}},\"id\":\"11796\",\"type\":\"Legend\"},{\"attributes\":{\"label\":{\"value\":\"linear\"},\"renderers\":[{\"id\":\"11787\",\"type\":\"GlyphRenderer\"}]},\"id\":\"11797\",\"type\":\"LegendItem\"},{\"attributes\":{\"line_alpha\":0.1,\"line_color\":\"#1f77b4\",\"x\":{\"field\":\"x\"},\"y\":{\"field\":\"y\"}},\"id\":\"11786\",\"type\":\"Line\"},{\"attributes\":{},\"id\":\"11765\",\"type\":\"BasicTicker\"},{\"attributes\":{},\"id\":\"12164\",\"type\":\"UnionRenderers\"},{\"attributes\":{\"plot\":{\"id\":\"11750\",\"subtype\":\"Figure\",\"type\":\"Plot\"},\"ticker\":{\"id\":\"11760\",\"type\":\"BasicTicker\"}},\"id\":\"11763\",\"type\":\"Grid\"},{\"attributes\":{\"active_drag\":\"auto\",\"active_inspect\":\"auto\",\"active_multi\":null,\"active_scroll\":\"auto\",\"active_tap\":\"auto\",\"tools\":[{\"id\":\"11769\",\"type\":\"PanTool\"},{\"id\":\"11770\",\"type\":\"WheelZoomTool\"},{\"id\":\"11771\",\"type\":\"BoxZoomTool\"},{\"id\":\"11772\",\"type\":\"SaveTool\"},{\"id\":\"11773\",\"type\":\"ResetTool\"},{\"id\":\"11774\",\"type\":\"HelpTool\"}]},\"id\":\"11775\",\"type\":\"Toolbar\"},{\"attributes\":{},\"id\":\"11769\",\"type\":\"PanTool\"},{\"attributes\":{\"callback\":null},\"id\":\"11753\",\"type\":\"DataRange1d\"},{\"attributes\":{\"axis_label\":\"Flux\",\"formatter\":{\"id\":\"11793\",\"type\":\"BasicTickFormatter\"},\"plot\":{\"id\":\"11750\",\"subtype\":\"Figure\",\"type\":\"Plot\"},\"ticker\":{\"id\":\"11765\",\"type\":\"BasicTicker\"}},\"id\":\"11764\",\"type\":\"LinearAxis\"}],\"root_ids\":[\"11750\"]},\"title\":\"Bokeh Application\",\"version\":\"1.0.4\"}};\n",
       "  var render_items = [{\"docid\":\"568d07db-701c-415f-a4d9-8a476158e61f\",\"roots\":{\"11750\":\"2404c9e5-ae05-4967-aa90-39c932db619a\"}}];\n",
       "  root.Bokeh.embed.embed_items_notebook(docs_json, render_items);\n",
       "\n",
       "  }\n",
       "  if (root.Bokeh !== undefined) {\n",
       "    embed_document(root);\n",
       "  } else {\n",
       "    var attempts = 0;\n",
       "    var timer = setInterval(function(root) {\n",
       "      if (root.Bokeh !== undefined) {\n",
       "        embed_document(root);\n",
       "        clearInterval(timer);\n",
       "      }\n",
       "      attempts++;\n",
       "      if (attempts > 100) {\n",
       "        console.log(\"Bokeh: ERROR: Unable to run BokehJS code because BokehJS library is missing\");\n",
       "        clearInterval(timer);\n",
       "      }\n",
       "    }, 10, root)\n",
       "  }\n",
       "})(window);"
      ],
      "application/vnd.bokehjs_exec.v0+json": ""
     },
     "metadata": {
      "application/vnd.bokehjs_exec.v0+json": {
       "id": "11750"
      }
     },
     "output_type": "display_data"
    }
   ],
   "source": [
    "# Create a PolynomialModel instance with coeffs [c0, c1]. Also give it a name and format for fun.\n",
    "lin_model = PolynomialModel(c1=0.0005, c0=0.997, name='linear', fmt='g--')\n",
    "\n",
    "# Plot it\n",
    "lin_model.plot(time, draw=True)"
   ]
  },
  {
   "cell_type": "markdown",
   "metadata": {},
   "source": [
    "Let's also create a transit model with the `ExoCTK.lightcurve_fitting.models.TransitModel` class. We can pass the arguments `rp`, `per`, `t0`, etc. directly to the `TransitModel` instance, or we can create a `ExoCTK.lightcurve_fitting.parameters.Parameters` instance first like so:"
   ]
  },
  {
   "cell_type": "code",
   "execution_count": 52,
   "metadata": {},
   "outputs": [
    {
     "data": {
      "text/html": [
       "\n",
       "\n",
       "\n",
       "\n",
       "\n",
       "\n",
       "  <div class=\"bk-root\" id=\"582c7ea4-d41f-4076-ab85-ba0f548a1f08\" data-root-id=\"12220\"></div>\n"
      ]
     },
     "metadata": {},
     "output_type": "display_data"
    },
    {
     "data": {
      "application/javascript": [
       "(function(root) {\n",
       "  function embed_document(root) {\n",
       "    \n",
       "  var docs_json = {\"6dfcca64-1040-4fb2-b9b2-042f2dcd2ec1\":{\"roots\":{\"references\":[{\"attributes\":{},\"id\":\"12244\",\"type\":\"HelpTool\"},{\"attributes\":{\"dimension\":1,\"plot\":{\"id\":\"12220\",\"subtype\":\"Figure\",\"type\":\"Plot\"},\"ticker\":{\"id\":\"12235\",\"type\":\"BasicTicker\"}},\"id\":\"12238\",\"type\":\"Grid\"},{\"attributes\":{\"bottom_units\":\"screen\",\"fill_alpha\":{\"value\":0.5},\"fill_color\":{\"value\":\"lightgrey\"},\"left_units\":\"screen\",\"level\":\"overlay\",\"line_alpha\":{\"value\":1.0},\"line_color\":{\"value\":\"black\"},\"line_dash\":[4,4],\"line_width\":{\"value\":2},\"plot\":null,\"render_mode\":\"css\",\"right_units\":\"screen\",\"top_units\":\"screen\"},\"id\":\"12247\",\"type\":\"BoxAnnotation\"},{\"attributes\":{\"source\":{\"id\":\"12254\",\"type\":\"ColumnDataSource\"}},\"id\":\"12258\",\"type\":\"CDSView\"},{\"attributes\":{\"data_source\":{\"id\":\"12254\",\"type\":\"ColumnDataSource\"},\"glyph\":{\"id\":\"12255\",\"type\":\"Line\"},\"hover_glyph\":null,\"muted_glyph\":null,\"nonselection_glyph\":{\"id\":\"12256\",\"type\":\"Line\"},\"selection_glyph\":null,\"view\":{\"id\":\"12258\",\"type\":\"CDSView\"}},\"id\":\"12257\",\"type\":\"GlyphRenderer\"},{\"attributes\":{},\"id\":\"12227\",\"type\":\"LinearScale\"},{\"attributes\":{\"callback\":null,\"data\":{\"x\":{\"__ndarray__\":\"AAAAAAAAAABbv1Kg1q+EP1u/UqDWr5Q/CB988MEHnz9bv1Kg1q+kPzJvZ0jM26k/CB988MEHrz9wZ0jM2xmyP1u/UqDWr7Q/RhdddNFFtz8yb2dIzNu5Px3HcRzHcbw/CB988MEHvz96O0Ni3s7AP3BnSMzbGcI/ZZNNNtlkwz9bv1Kg1q/EP1HrVwrU+sU/RhdddNFFxz88Q2LezpDIPzJvZ0jM28k/J5tssskmyz8dx3Ecx3HMPxPzdobEvM0/CB988MEHzz9/pUCtXynQP3o7Q2LeztA/ddFFF1100T9wZ0jM2xnSP2r9SoFav9I/ZZNNNtlk0z9gKVDrVwrUP1u/UqDWr9Q/VlVVVVVV1T9R61cK1PrVP0yBWr9SoNY/RhdddNFF1z9BrV8pUOvXPzxDYt7OkNg/N9lkk0022T8yb2dIzNvZPy0Fav1Kgdo/J5tssskm2z8iMW9nSMzbPx3HcRzHcdw/GF100UUX3T8T83aGxLzdPw6JeTtDYt4/CB988MEH3z8DtX6lQK3fP3+lQK1fKeA/ffDBBx984D96O0Ni3s7gP3eGxLydIeE/ddFFF1104T9yHMdxHMfhP3BnSMzbGeI/bbLJJpts4j9q/UqBWr/iP2hIzNsZEuM/ZZNNNtlk4z9j3s6QmLfjP2ApUOtXCuQ/XnTRRRdd5D9bv1Kg1q/kP1gK1PqVAuU/VlVVVVVV5T9ToNavFKjlP1HrVwrU+uU/TjbZZJNN5j9MgVq/UqDmP0nM2xkS8+Y/RhdddNFF5z9EYt7OkJjnP0GtXylQ6+c/P/jggw8+6D88Q2LezpDoPzmO4ziO4+g/N9lkk0026T80JObtDInpPzJvZ0jM2+k/L7rooosu6j8tBWr9SoHqPypQ61cK1Oo/J5tssskm6z8l5u0MiXnrPyIxb2dIzOs/IHzwwQcf7D8dx3Ecx3HsPxsS83aGxOw/GF100UUX7T8VqPUrBWrtPxPzdobEvO0/ED744IMP7j8OiXk7Q2LuPwvU+pUCte4/CB988MEH7z8Gav1KgVrvPwO1fqVAre8/AAAAAAAA8D8=\",\"dtype\":\"float64\",\"shape\":[100]},\"y\":{\"__ndarray__\":\"AAAAAAAA8D8AAAAAAADwPwAAAAAAAPA/AAAAAAAA8D8AAAAAAADwPwAAAAAAAPA/AAAAAAAA8D8AAAAAAADwPwAAAAAAAPA/AAAAAAAA8D8AAAAAAADwPwAAAAAAAPA/AAAAAAAA8D8AAAAAAADwPwAAAAAAAPA/AAAAAAAA8D8AAAAAAADwPwAAAAAAAPA/AAAAAAAA8D8AAAAAAADwPwAAAAAAAPA/AAAAAAAA8D8AAAAAAADwPwAAAAAAAPA/AAAAAAAA8D8AAAAAAADwPwAAAAAAAPA/AAAAAAAA8D8AAAAAAADwPwAAAAAAAPA/AAAAAAAA8D8AAAAAAADwPwAAAAAAAPA/AAAAAAAA8D8AAAAAAADwPwAAAAAAAPA/AAAAAAAA8D8nhJoOA9nvPzxeCUJqeu8/b7vtK/cG7z9TEqFfhZvuP4cou32fc+4/f0pEedNf7j/M0jaih1DuPyj14IzTRO4/OD3zuEk87j+piV9lrjbuPx3kaQLhM+4/pm1NBNMz7j9tqEAYhDbuP0w+FSACPO4/EGfxBm1E7j+sRLwV/0/uP1XOQQwjX+4/5vqJ6bhy7j/KxjlJG5juP2cWGNZEAu8/EAzcjgl27z+AAZW68dXvPwAAAAAAAPA/AAAAAAAA8D8AAAAAAADwPwAAAAAAAPA/AAAAAAAA8D8AAAAAAADwPwAAAAAAAPA/AAAAAAAA8D8AAAAAAADwPwAAAAAAAPA/AAAAAAAA8D8AAAAAAADwPwAAAAAAAPA/AAAAAAAA8D8AAAAAAADwPwAAAAAAAPA/AAAAAAAA8D8AAAAAAADwPwAAAAAAAPA/AAAAAAAA8D8AAAAAAADwPwAAAAAAAPA/AAAAAAAA8D8AAAAAAADwPwAAAAAAAPA/AAAAAAAA8D8AAAAAAADwPwAAAAAAAPA/AAAAAAAA8D8AAAAAAADwPwAAAAAAAPA/AAAAAAAA8D8AAAAAAADwPwAAAAAAAPA/AAAAAAAA8D8AAAAAAADwPwAAAAAAAPA/AAAAAAAA8D8AAAAAAADwPwAAAAAAAPA/AAAAAAAA8D8=\",\"dtype\":\"float64\",\"shape\":[100]}},\"selected\":{\"id\":\"12642\",\"type\":\"Selection\"},\"selection_policy\":{\"id\":\"12643\",\"type\":\"UnionRenderers\"}},\"id\":\"12254\",\"type\":\"ColumnDataSource\"},{\"attributes\":{\"axis_label\":\"MJD\",\"formatter\":{\"id\":\"12261\",\"type\":\"BasicTickFormatter\"},\"plot\":{\"id\":\"12220\",\"subtype\":\"Figure\",\"type\":\"Plot\"},\"ticker\":{\"id\":\"12230\",\"type\":\"BasicTicker\"}},\"id\":\"12229\",\"type\":\"LinearAxis\"},{\"attributes\":{},\"id\":\"12242\",\"type\":\"SaveTool\"},{\"attributes\":{\"active_drag\":\"auto\",\"active_inspect\":\"auto\",\"active_multi\":null,\"active_scroll\":\"auto\",\"active_tap\":\"auto\",\"tools\":[{\"id\":\"12239\",\"type\":\"PanTool\"},{\"id\":\"12240\",\"type\":\"WheelZoomTool\"},{\"id\":\"12241\",\"type\":\"BoxZoomTool\"},{\"id\":\"12242\",\"type\":\"SaveTool\"},{\"id\":\"12243\",\"type\":\"ResetTool\"},{\"id\":\"12244\",\"type\":\"HelpTool\"}]},\"id\":\"12245\",\"type\":\"Toolbar\"},{\"attributes\":{},\"id\":\"12643\",\"type\":\"UnionRenderers\"},{\"attributes\":{\"line_alpha\":0.1,\"line_color\":\"#1f77b4\",\"x\":{\"field\":\"x\"},\"y\":{\"field\":\"y\"}},\"id\":\"12256\",\"type\":\"Line\"},{\"attributes\":{},\"id\":\"12225\",\"type\":\"LinearScale\"},{\"attributes\":{\"items\":[{\"id\":\"12267\",\"type\":\"LegendItem\"}],\"plot\":{\"id\":\"12220\",\"subtype\":\"Figure\",\"type\":\"Plot\"}},\"id\":\"12266\",\"type\":\"Legend\"},{\"attributes\":{},\"id\":\"12239\",\"type\":\"PanTool\"},{\"attributes\":{\"plot\":{\"id\":\"12220\",\"subtype\":\"Figure\",\"type\":\"Plot\"},\"ticker\":{\"id\":\"12230\",\"type\":\"BasicTicker\"}},\"id\":\"12233\",\"type\":\"Grid\"},{\"attributes\":{},\"id\":\"12263\",\"type\":\"BasicTickFormatter\"},{\"attributes\":{\"label\":{\"value\":\"transit\"},\"renderers\":[{\"id\":\"12257\",\"type\":\"GlyphRenderer\"}]},\"id\":\"12267\",\"type\":\"LegendItem\"},{\"attributes\":{},\"id\":\"12642\",\"type\":\"Selection\"},{\"attributes\":{},\"id\":\"12243\",\"type\":\"ResetTool\"},{\"attributes\":{},\"id\":\"12230\",\"type\":\"BasicTicker\"},{\"attributes\":{\"line_color\":\"blue\",\"x\":{\"field\":\"x\"},\"y\":{\"field\":\"y\"}},\"id\":\"12255\",\"type\":\"Line\"},{\"attributes\":{\"callback\":null},\"id\":\"12221\",\"type\":\"DataRange1d\"},{\"attributes\":{\"below\":[{\"id\":\"12229\",\"type\":\"LinearAxis\"}],\"left\":[{\"id\":\"12234\",\"type\":\"LinearAxis\"}],\"plot_height\":400,\"plot_width\":800,\"renderers\":[{\"id\":\"12229\",\"type\":\"LinearAxis\"},{\"id\":\"12233\",\"type\":\"Grid\"},{\"id\":\"12234\",\"type\":\"LinearAxis\"},{\"id\":\"12238\",\"type\":\"Grid\"},{\"id\":\"12247\",\"type\":\"BoxAnnotation\"},{\"id\":\"12266\",\"type\":\"Legend\"},{\"id\":\"12257\",\"type\":\"GlyphRenderer\"}],\"title\":{\"id\":\"12259\",\"type\":\"Title\"},\"toolbar\":{\"id\":\"12245\",\"type\":\"Toolbar\"},\"x_range\":{\"id\":\"12221\",\"type\":\"DataRange1d\"},\"x_scale\":{\"id\":\"12225\",\"type\":\"LinearScale\"},\"y_range\":{\"id\":\"12223\",\"type\":\"DataRange1d\"},\"y_scale\":{\"id\":\"12227\",\"type\":\"LinearScale\"}},\"id\":\"12220\",\"subtype\":\"Figure\",\"type\":\"Plot\"},{\"attributes\":{},\"id\":\"12240\",\"type\":\"WheelZoomTool\"},{\"attributes\":{\"plot\":null,\"text\":\"\"},\"id\":\"12259\",\"type\":\"Title\"},{\"attributes\":{},\"id\":\"12261\",\"type\":\"BasicTickFormatter\"},{\"attributes\":{\"overlay\":{\"id\":\"12247\",\"type\":\"BoxAnnotation\"}},\"id\":\"12241\",\"type\":\"BoxZoomTool\"},{\"attributes\":{\"callback\":null},\"id\":\"12223\",\"type\":\"DataRange1d\"},{\"attributes\":{\"axis_label\":\"Flux\",\"formatter\":{\"id\":\"12263\",\"type\":\"BasicTickFormatter\"},\"plot\":{\"id\":\"12220\",\"subtype\":\"Figure\",\"type\":\"Plot\"},\"ticker\":{\"id\":\"12235\",\"type\":\"BasicTicker\"}},\"id\":\"12234\",\"type\":\"LinearAxis\"},{\"attributes\":{},\"id\":\"12235\",\"type\":\"BasicTicker\"}],\"root_ids\":[\"12220\"]},\"title\":\"Bokeh Application\",\"version\":\"1.0.4\"}};\n",
       "  var render_items = [{\"docid\":\"6dfcca64-1040-4fb2-b9b2-042f2dcd2ec1\",\"roots\":{\"12220\":\"582c7ea4-d41f-4076-ab85-ba0f548a1f08\"}}];\n",
       "  root.Bokeh.embed.embed_items_notebook(docs_json, render_items);\n",
       "\n",
       "  }\n",
       "  if (root.Bokeh !== undefined) {\n",
       "    embed_document(root);\n",
       "  } else {\n",
       "    var attempts = 0;\n",
       "    var timer = setInterval(function(root) {\n",
       "      if (root.Bokeh !== undefined) {\n",
       "        embed_document(root);\n",
       "        clearInterval(timer);\n",
       "      }\n",
       "      attempts++;\n",
       "      if (attempts > 100) {\n",
       "        console.log(\"Bokeh: ERROR: Unable to run BokehJS code because BokehJS library is missing\");\n",
       "        clearInterval(timer);\n",
       "      }\n",
       "    }, 10, root)\n",
       "  }\n",
       "})(window);"
      ],
      "application/vnd.bokehjs_exec.v0+json": ""
     },
     "metadata": {
      "application/vnd.bokehjs_exec.v0+json": {
       "id": "12220"
      }
     },
     "output_type": "display_data"
    }
   ],
   "source": [
    "# Set the intial parameters\n",
    "params = Parameters()\n",
    "params.rp = 0.22, 'free', 0.0, 0.4\n",
    "params.per = 10.721490, 'fixed'\n",
    "params.t0 = 0.48, 'free', 0, 1\n",
    "params.inc = 89.7, 'free', 80., 90.\n",
    "params.a = 18.2, 'free', 15., 20.\n",
    "params.ecc = 0., 'fixed'\n",
    "params.w = 90., 'fixed'\n",
    "params.limb_dark = '4-parameter', 'independent'\n",
    "params.transittype = 'primary', 'independent'\n",
    "params.u1 = 0.1, 'free', 0., 1.\n",
    "params.u2 = 0.1, 'free', 0., 1.\n",
    "params.u3 = 0.1, 'free', 0., 1.\n",
    "params.u4 = 0.1, 'free', 0., 1.\n",
    "\n",
    "# Make the transit model\n",
    "t_model = TransitModel(parameters=params, name='transit', fmt='r--')\n",
    "\n",
    "# Plot it\n",
    "t_model.plot(time, draw=True)"
   ]
  },
  {
   "cell_type": "markdown",
   "metadata": {},
   "source": [
    "An arbitrary number of models can then be multiplied to produce a `ExoCTK.lightcurve_fitting.models.CompositeModel` to fit to the data."
   ]
  },
  {
   "cell_type": "code",
   "execution_count": 55,
   "metadata": {},
   "outputs": [
    {
     "data": {
      "text/html": [
       "\n",
       "\n",
       "\n",
       "\n",
       "\n",
       "\n",
       "  <div class=\"bk-root\" id=\"310c152d-0b5b-4308-9c44-a7469ad6fd41\" data-root-id=\"13808\"></div>\n"
      ]
     },
     "metadata": {},
     "output_type": "display_data"
    },
    {
     "data": {
      "application/javascript": [
       "(function(root) {\n",
       "  function embed_document(root) {\n",
       "    \n",
       "  var docs_json = {\"97c5e285-d0ca-46df-bc49-705d2988d495\":{\"roots\":{\"references\":[{\"attributes\":{\"line_color\":\"#2ca02c\",\"x\":{\"field\":\"x\"},\"y\":{\"field\":\"y\"}},\"id\":\"13872\",\"type\":\"Line\"},{\"attributes\":{},\"id\":\"13831\",\"type\":\"ResetTool\"},{\"attributes\":{\"source\":{\"id\":\"13871\",\"type\":\"ColumnDataSource\"}},\"id\":\"13875\",\"type\":\"CDSView\"},{\"attributes\":{},\"id\":\"13849\",\"type\":\"BasicTickFormatter\"},{\"attributes\":{\"callback\":null,\"data\":{\"x\":{\"__ndarray__\":\"AAAAAAAAAABbv1Kg1q+EP1u/UqDWr5Q/CB988MEHnz9bv1Kg1q+kPzJvZ0jM26k/CB988MEHrz9wZ0jM2xmyP1u/UqDWr7Q/RhdddNFFtz8yb2dIzNu5Px3HcRzHcbw/CB988MEHvz96O0Ni3s7AP3BnSMzbGcI/ZZNNNtlkwz9bv1Kg1q/EP1HrVwrU+sU/RhdddNFFxz88Q2LezpDIPzJvZ0jM28k/J5tssskmyz8dx3Ecx3HMPxPzdobEvM0/CB988MEHzz9/pUCtXynQP3o7Q2LeztA/ddFFF1100T9wZ0jM2xnSP2r9SoFav9I/ZZNNNtlk0z9gKVDrVwrUP1u/UqDWr9Q/VlVVVVVV1T9R61cK1PrVP0yBWr9SoNY/RhdddNFF1z9BrV8pUOvXPzxDYt7OkNg/N9lkk0022T8yb2dIzNvZPy0Fav1Kgdo/J5tssskm2z8iMW9nSMzbPx3HcRzHcdw/GF100UUX3T8T83aGxLzdPw6JeTtDYt4/CB988MEH3z8DtX6lQK3fP3+lQK1fKeA/ffDBBx984D96O0Ni3s7gP3eGxLydIeE/ddFFF1104T9yHMdxHMfhP3BnSMzbGeI/bbLJJpts4j9q/UqBWr/iP2hIzNsZEuM/ZZNNNtlk4z9j3s6QmLfjP2ApUOtXCuQ/XnTRRRdd5D9bv1Kg1q/kP1gK1PqVAuU/VlVVVVVV5T9ToNavFKjlP1HrVwrU+uU/TjbZZJNN5j9MgVq/UqDmP0nM2xkS8+Y/RhdddNFF5z9EYt7OkJjnP0GtXylQ6+c/P/jggw8+6D88Q2LezpDoPzmO4ziO4+g/N9lkk0026T80JObtDInpPzJvZ0jM2+k/L7rooosu6j8tBWr9SoHqPypQ61cK1Oo/J5tssskm6z8l5u0MiXnrPyIxb2dIzOs/IHzwwQcf7D8dx3Ecx3HsPxsS83aGxOw/GF100UUX7T8VqPUrBWrtPxPzdobEvO0/ED744IMP7j8OiXk7Q2LuPwvU+pUCte4/CB988MEH7z8Gav1KgVrvPwO1fqVAre8/AAAAAAAA8D8=\",\"dtype\":\"float64\",\"shape\":[100]},\"y\":{\"__ndarray__\":\"TDeJQWDl7z87WAHZauXvPyp5eXB15e8/GZrxB4Dl7z8Iu2mfiuXvP/fb4TaV5e8/5vxZzp/l7z/VHdJlquXvP8Q+Sv205e8/s1/ClL/l7z+hgDosyuXvP5ChssPU5e8/f8IqW9/l7z9u46Ly6eXvP10EG4r05e8/TCWTIf/l7z87Rgu5CebvPypng1AU5u8/GYj75x7m7z8IqXN/KebvP/fJ6xY05u8/5upjrj7m7z/VC9xFSebvP8QsVN1T5u8/s03MdF7m7z+ibkQMaebvP5GPvKNz5u8/gLA0O37m7z9v0azSiObvP17yJGqT5u8/TROdAZ7m7z88NBWZqObvPytVjTCz5u8/GnYFyL3m7z8Jl31fyObvP/i39fbS5u8/59htjt3m7z+onSzHCcDvP4rfvpPFYe8/4j5uJLfu7j+5dHlzo4PuP93ckMfmW+4/ln3BPDRI7j9/d7JT/jjuP+nxUFldLe4/MayaJeQk7j+tcM8oVx/uP0dMOe+VHO4/JFgP+5Ec7j+jK4L8Sh/uPzaIds3OJO4/vvZmQz0t7j85Lo990DjuP++LXO3yR+4/07Co6oNb7j8cNVTs04DuP76PlvW26u4/rnk5KC5e7z+rvoIj2L3vP1/OOCrR5+8/Tu+wwdvn7z89EClZ5ufvPywxofDw5+8/G1IZiPvn7z8Kc5EfBujvP/mTCbcQ6O8/6LSBThvo7z/X1fnlJejvP8b2cX0w6O8/tRfqFDvo7z+kOGKsRejvP5NZ2kNQ6O8/gnpS21ro7z9xm8pyZejvP2C8Qgpw6O8/T926oXro7z8+/jI5hejvPy0fq9CP6O8/HEAjaJro7z8LYZv/pOjvP/qBE5ev6O8/6aKLLrro7z/YwwPGxOjvP8fke13P6O8/tgX09Nno7z+lJmyM5OjvP5RH5CPv6O8/g2hcu/no7z9yidRSBOnvP2GqTOoO6e8/T8vEgRnp7z8+7DwZJOnvPy0NtbAu6e8/HC4tSDnp7z8LT6XfQ+nvP/pvHXdO6e8/6ZCVDlnp7z/YsQ2mY+nvP8fShT1u6e8/tvP91Hjp7z8=\",\"dtype\":\"float64\",\"shape\":[100]}},\"selected\":{\"id\":\"13867\",\"type\":\"Selection\"},\"selection_policy\":{\"id\":\"13868\",\"type\":\"UnionRenderers\"}},\"id\":\"13842\",\"type\":\"ColumnDataSource\"},{\"attributes\":{},\"id\":\"13830\",\"type\":\"SaveTool\"},{\"attributes\":{},\"id\":\"13884\",\"type\":\"Selection\"},{\"attributes\":{\"callback\":null},\"id\":\"13809\",\"type\":\"DataRange1d\"},{\"attributes\":{},\"id\":\"13813\",\"type\":\"LinearScale\"},{\"attributes\":{},\"id\":\"14302\",\"type\":\"UnionRenderers\"},{\"attributes\":{},\"id\":\"13885\",\"type\":\"UnionRenderers\"},{\"attributes\":{\"bottom_units\":\"screen\",\"fill_alpha\":{\"value\":0.5},\"fill_color\":{\"value\":\"lightgrey\"},\"left_units\":\"screen\",\"level\":\"overlay\",\"line_alpha\":{\"value\":1.0},\"line_color\":{\"value\":\"black\"},\"line_dash\":[4,4],\"line_width\":{\"value\":2},\"plot\":null,\"render_mode\":\"css\",\"right_units\":\"screen\",\"top_units\":\"screen\"},\"id\":\"13835\",\"type\":\"BoxAnnotation\"},{\"attributes\":{},\"id\":\"13818\",\"type\":\"BasicTicker\"},{\"attributes\":{},\"id\":\"13868\",\"type\":\"UnionRenderers\"},{\"attributes\":{\"callback\":null,\"data\":{\"x\":{\"__ndarray__\":\"AAAAAAAAAABbv1Kg1q+EP1u/UqDWr5Q/CB988MEHnz9bv1Kg1q+kPzJvZ0jM26k/CB988MEHrz9wZ0jM2xmyP1u/UqDWr7Q/RhdddNFFtz8yb2dIzNu5Px3HcRzHcbw/CB988MEHvz96O0Ni3s7AP3BnSMzbGcI/ZZNNNtlkwz9bv1Kg1q/EP1HrVwrU+sU/RhdddNFFxz88Q2LezpDIPzJvZ0jM28k/J5tssskmyz8dx3Ecx3HMPxPzdobEvM0/CB988MEHzz9/pUCtXynQP3o7Q2LeztA/ddFFF1100T9wZ0jM2xnSP2r9SoFav9I/ZZNNNtlk0z9gKVDrVwrUP1u/UqDWr9Q/VlVVVVVV1T9R61cK1PrVP0yBWr9SoNY/RhdddNFF1z9BrV8pUOvXPzxDYt7OkNg/N9lkk0022T8yb2dIzNvZPy0Fav1Kgdo/J5tssskm2z8iMW9nSMzbPx3HcRzHcdw/GF100UUX3T8T83aGxLzdPw6JeTtDYt4/CB988MEH3z8DtX6lQK3fP3+lQK1fKeA/ffDBBx984D96O0Ni3s7gP3eGxLydIeE/ddFFF1104T9yHMdxHMfhP3BnSMzbGeI/bbLJJpts4j9q/UqBWr/iP2hIzNsZEuM/ZZNNNtlk4z9j3s6QmLfjP2ApUOtXCuQ/XnTRRRdd5D9bv1Kg1q/kP1gK1PqVAuU/VlVVVVVV5T9ToNavFKjlP1HrVwrU+uU/TjbZZJNN5j9MgVq/UqDmP0nM2xkS8+Y/RhdddNFF5z9EYt7OkJjnP0GtXylQ6+c/P/jggw8+6D88Q2LezpDoPzmO4ziO4+g/N9lkk0026T80JObtDInpPzJvZ0jM2+k/L7rooosu6j8tBWr9SoHqPypQ61cK1Oo/J5tssskm6z8l5u0MiXnrPyIxb2dIzOs/IHzwwQcf7D8dx3Ecx3HsPxsS83aGxOw/GF100UUX7T8VqPUrBWrtPxPzdobEvO0/ED744IMP7j8OiXk7Q2LuPwvU+pUCte4/CB988MEH7z8Gav1KgVrvPwO1fqVAre8/AAAAAAAA8D8=\",\"dtype\":\"float64\",\"shape\":[100]},\"y\":{\"__ndarray__\":\"TDeJQWDl7z87WAHZauXvPyp5eXB15e8/GZrxB4Dl7z8Iu2mfiuXvP/fb4TaV5e8/5vxZzp/l7z/VHdJlquXvP8Q+Sv205e8/s1/ClL/l7z+hgDosyuXvP5ChssPU5e8/f8IqW9/l7z9u46Ly6eXvP10EG4r05e8/TCWTIf/l7z87Rgu5CebvPypng1AU5u8/GYj75x7m7z8IqXN/KebvP/fJ6xY05u8/5upjrj7m7z/VC9xFSebvP8QsVN1T5u8/s03MdF7m7z+ibkQMaebvP5GPvKNz5u8/gLA0O37m7z9v0azSiObvP17yJGqT5u8/TROdAZ7m7z88NBWZqObvPytVjTCz5u8/GnYFyL3m7z8Jl31fyObvP/i39fbS5u8/59htjt3m7z/W+eUl6ObvP8UaXr3y5u8/tDvWVP3m7z+jXE7sB+fvP5J9xoMS5+8/gZ4+Gx3n7z9wv7ayJ+fvP1/gLkoy5+8/TgGn4Tzn7z89Ih95R+fvPyxDlxBS5+8/G2QPqFzn7z8KhYc/Z+fvP/il/9Zx5+8/58Z3bnzn7z/W5+8Fh+fvP8UIaJ2R5+8/tCngNJzn7z+jSljMpufvP5Jr0GOx5+8/gYxI+7vn7z9wrcCSxufvP1/OOCrR5+8/Tu+wwdvn7z89EClZ5ufvPywxofDw5+8/G1IZiPvn7z8Kc5EfBujvP/mTCbcQ6O8/6LSBThvo7z/X1fnlJejvP8b2cX0w6O8/tRfqFDvo7z+kOGKsRejvP5NZ2kNQ6O8/gnpS21ro7z9xm8pyZejvP2C8Qgpw6O8/T926oXro7z8+/jI5hejvPy0fq9CP6O8/HEAjaJro7z8LYZv/pOjvP/qBE5ev6O8/6aKLLrro7z/YwwPGxOjvP8fke13P6O8/tgX09Nno7z+lJmyM5OjvP5RH5CPv6O8/g2hcu/no7z9yidRSBOnvP2GqTOoO6e8/T8vEgRnp7z8+7DwZJOnvPy0NtbAu6e8/HC4tSDnp7z8LT6XfQ+nvP/pvHXdO6e8/6ZCVDlnp7z/YsQ2mY+nvP8fShT1u6e8/tvP91Hjp7z8=\",\"dtype\":\"float64\",\"shape\":[100]}},\"selected\":{\"id\":\"14301\",\"type\":\"Selection\"},\"selection_policy\":{\"id\":\"14302\",\"type\":\"UnionRenderers\"}},\"id\":\"13871\",\"type\":\"ColumnDataSource\"},{\"attributes\":{\"active_drag\":\"auto\",\"active_inspect\":\"auto\",\"active_multi\":null,\"active_scroll\":\"auto\",\"active_tap\":\"auto\",\"tools\":[{\"id\":\"13827\",\"type\":\"PanTool\"},{\"id\":\"13828\",\"type\":\"WheelZoomTool\"},{\"id\":\"13829\",\"type\":\"BoxZoomTool\"},{\"id\":\"13830\",\"type\":\"SaveTool\"},{\"id\":\"13831\",\"type\":\"ResetTool\"},{\"id\":\"13832\",\"type\":\"HelpTool\"}]},\"id\":\"13833\",\"type\":\"Toolbar\"},{\"attributes\":{\"dimension\":1,\"plot\":{\"id\":\"13808\",\"subtype\":\"Figure\",\"type\":\"Plot\"},\"ticker\":{\"id\":\"13823\",\"type\":\"BasicTicker\"}},\"id\":\"13826\",\"type\":\"Grid\"},{\"attributes\":{},\"id\":\"13815\",\"type\":\"LinearScale\"},{\"attributes\":{\"source\":{\"id\":\"13856\",\"type\":\"ColumnDataSource\"}},\"id\":\"13860\",\"type\":\"CDSView\"},{\"attributes\":{\"label\":{\"value\":\"composite\"},\"renderers\":[{\"id\":\"13845\",\"type\":\"GlyphRenderer\"}]},\"id\":\"13855\",\"type\":\"LegendItem\"},{\"attributes\":{\"plot\":null,\"text\":\"\"},\"id\":\"13847\",\"type\":\"Title\"},{\"attributes\":{\"label\":{\"value\":\"linear\"},\"renderers\":[{\"id\":\"13874\",\"type\":\"GlyphRenderer\"}]},\"id\":\"13887\",\"type\":\"LegendItem\"},{\"attributes\":{\"items\":[{\"id\":\"13855\",\"type\":\"LegendItem\"},{\"id\":\"13870\",\"type\":\"LegendItem\"},{\"id\":\"13887\",\"type\":\"LegendItem\"}],\"plot\":{\"id\":\"13808\",\"subtype\":\"Figure\",\"type\":\"Plot\"}},\"id\":\"13854\",\"type\":\"Legend\"},{\"attributes\":{},\"id\":\"13867\",\"type\":\"Selection\"},{\"attributes\":{\"line_color\":\"#ff7f0e\",\"x\":{\"field\":\"x\"},\"y\":{\"field\":\"y\"}},\"id\":\"13857\",\"type\":\"Line\"},{\"attributes\":{\"axis_label\":\"MJD\",\"formatter\":{\"id\":\"13849\",\"type\":\"BasicTickFormatter\"},\"plot\":{\"id\":\"13808\",\"subtype\":\"Figure\",\"type\":\"Plot\"},\"ticker\":{\"id\":\"13818\",\"type\":\"BasicTicker\"}},\"id\":\"13817\",\"type\":\"LinearAxis\"},{\"attributes\":{},\"id\":\"13828\",\"type\":\"WheelZoomTool\"},{\"attributes\":{\"line_alpha\":0.1,\"line_color\":\"#1f77b4\",\"x\":{\"field\":\"x\"},\"y\":{\"field\":\"y\"}},\"id\":\"13873\",\"type\":\"Line\"},{\"attributes\":{\"callback\":null,\"data\":{\"x\":{\"__ndarray__\":\"AAAAAAAAAABbv1Kg1q+EP1u/UqDWr5Q/CB988MEHnz9bv1Kg1q+kPzJvZ0jM26k/CB988MEHrz9wZ0jM2xmyP1u/UqDWr7Q/RhdddNFFtz8yb2dIzNu5Px3HcRzHcbw/CB988MEHvz96O0Ni3s7AP3BnSMzbGcI/ZZNNNtlkwz9bv1Kg1q/EP1HrVwrU+sU/RhdddNFFxz88Q2LezpDIPzJvZ0jM28k/J5tssskmyz8dx3Ecx3HMPxPzdobEvM0/CB988MEHzz9/pUCtXynQP3o7Q2LeztA/ddFFF1100T9wZ0jM2xnSP2r9SoFav9I/ZZNNNtlk0z9gKVDrVwrUP1u/UqDWr9Q/VlVVVVVV1T9R61cK1PrVP0yBWr9SoNY/RhdddNFF1z9BrV8pUOvXPzxDYt7OkNg/N9lkk0022T8yb2dIzNvZPy0Fav1Kgdo/J5tssskm2z8iMW9nSMzbPx3HcRzHcdw/GF100UUX3T8T83aGxLzdPw6JeTtDYt4/CB988MEH3z8DtX6lQK3fP3+lQK1fKeA/ffDBBx984D96O0Ni3s7gP3eGxLydIeE/ddFFF1104T9yHMdxHMfhP3BnSMzbGeI/bbLJJpts4j9q/UqBWr/iP2hIzNsZEuM/ZZNNNtlk4z9j3s6QmLfjP2ApUOtXCuQ/XnTRRRdd5D9bv1Kg1q/kP1gK1PqVAuU/VlVVVVVV5T9ToNavFKjlP1HrVwrU+uU/TjbZZJNN5j9MgVq/UqDmP0nM2xkS8+Y/RhdddNFF5z9EYt7OkJjnP0GtXylQ6+c/P/jggw8+6D88Q2LezpDoPzmO4ziO4+g/N9lkk0026T80JObtDInpPzJvZ0jM2+k/L7rooosu6j8tBWr9SoHqPypQ61cK1Oo/J5tssskm6z8l5u0MiXnrPyIxb2dIzOs/IHzwwQcf7D8dx3Ecx3HsPxsS83aGxOw/GF100UUX7T8VqPUrBWrtPxPzdobEvO0/ED744IMP7j8OiXk7Q2LuPwvU+pUCte4/CB988MEH7z8Gav1KgVrvPwO1fqVAre8/AAAAAAAA8D8=\",\"dtype\":\"float64\",\"shape\":[100]},\"y\":{\"__ndarray__\":\"AAAAAAAA8D8AAAAAAADwPwAAAAAAAPA/AAAAAAAA8D8AAAAAAADwPwAAAAAAAPA/AAAAAAAA8D8AAAAAAADwPwAAAAAAAPA/AAAAAAAA8D8AAAAAAADwPwAAAAAAAPA/AAAAAAAA8D8AAAAAAADwPwAAAAAAAPA/AAAAAAAA8D8AAAAAAADwPwAAAAAAAPA/AAAAAAAA8D8AAAAAAADwPwAAAAAAAPA/AAAAAAAA8D8AAAAAAADwPwAAAAAAAPA/AAAAAAAA8D8AAAAAAADwPwAAAAAAAPA/AAAAAAAA8D8AAAAAAADwPwAAAAAAAPA/AAAAAAAA8D8AAAAAAADwPwAAAAAAAPA/AAAAAAAA8D8AAAAAAADwPwAAAAAAAPA/AAAAAAAA8D8nhJoOA9nvPzxeCUJqeu8/b7vtK/cG7z9TEqFfhZvuP4cou32fc+4/f0pEedNf7j/M0jaih1DuPyj14IzTRO4/OD3zuEk87j+piV9lrjbuPx3kaQLhM+4/pm1NBNMz7j9tqEAYhDbuP0w+FSACPO4/EGfxBm1E7j+sRLwV/0/uP1XOQQwjX+4/5vqJ6bhy7j/KxjlJG5juP2cWGNZEAu8/EAzcjgl27z+AAZW68dXvPwAAAAAAAPA/AAAAAAAA8D8AAAAAAADwPwAAAAAAAPA/AAAAAAAA8D8AAAAAAADwPwAAAAAAAPA/AAAAAAAA8D8AAAAAAADwPwAAAAAAAPA/AAAAAAAA8D8AAAAAAADwPwAAAAAAAPA/AAAAAAAA8D8AAAAAAADwPwAAAAAAAPA/AAAAAAAA8D8AAAAAAADwPwAAAAAAAPA/AAAAAAAA8D8AAAAAAADwPwAAAAAAAPA/AAAAAAAA8D8AAAAAAADwPwAAAAAAAPA/AAAAAAAA8D8AAAAAAADwPwAAAAAAAPA/AAAAAAAA8D8AAAAAAADwPwAAAAAAAPA/AAAAAAAA8D8AAAAAAADwPwAAAAAAAPA/AAAAAAAA8D8AAAAAAADwPwAAAAAAAPA/AAAAAAAA8D8AAAAAAADwPwAAAAAAAPA/AAAAAAAA8D8=\",\"dtype\":\"float64\",\"shape\":[100]}},\"selected\":{\"id\":\"13884\",\"type\":\"Selection\"},\"selection_policy\":{\"id\":\"13885\",\"type\":\"UnionRenderers\"}},\"id\":\"13856\",\"type\":\"ColumnDataSource\"},{\"attributes\":{},\"id\":\"14301\",\"type\":\"Selection\"},{\"attributes\":{\"below\":[{\"id\":\"13817\",\"type\":\"LinearAxis\"}],\"left\":[{\"id\":\"13822\",\"type\":\"LinearAxis\"}],\"plot_height\":400,\"plot_width\":800,\"renderers\":[{\"id\":\"13817\",\"type\":\"LinearAxis\"},{\"id\":\"13821\",\"type\":\"Grid\"},{\"id\":\"13822\",\"type\":\"LinearAxis\"},{\"id\":\"13826\",\"type\":\"Grid\"},{\"id\":\"13835\",\"type\":\"BoxAnnotation\"},{\"id\":\"13854\",\"type\":\"Legend\"},{\"id\":\"13845\",\"type\":\"GlyphRenderer\"},{\"id\":\"13859\",\"type\":\"GlyphRenderer\"},{\"id\":\"13874\",\"type\":\"GlyphRenderer\"}],\"title\":{\"id\":\"13847\",\"type\":\"Title\"},\"toolbar\":{\"id\":\"13833\",\"type\":\"Toolbar\"},\"x_range\":{\"id\":\"13809\",\"type\":\"DataRange1d\"},\"x_scale\":{\"id\":\"13813\",\"type\":\"LinearScale\"},\"y_range\":{\"id\":\"13811\",\"type\":\"DataRange1d\"},\"y_scale\":{\"id\":\"13815\",\"type\":\"LinearScale\"}},\"id\":\"13808\",\"subtype\":\"Figure\",\"type\":\"Plot\"},{\"attributes\":{\"line_alpha\":0.1,\"line_color\":\"#1f77b4\",\"x\":{\"field\":\"x\"},\"y\":{\"field\":\"y\"}},\"id\":\"13858\",\"type\":\"Line\"},{\"attributes\":{\"line_color\":\"blue\",\"x\":{\"field\":\"x\"},\"y\":{\"field\":\"y\"}},\"id\":\"13843\",\"type\":\"Line\"},{\"attributes\":{},\"id\":\"13851\",\"type\":\"BasicTickFormatter\"},{\"attributes\":{\"line_alpha\":0.1,\"line_color\":\"#1f77b4\",\"x\":{\"field\":\"x\"},\"y\":{\"field\":\"y\"}},\"id\":\"13844\",\"type\":\"Line\"},{\"attributes\":{\"label\":{\"value\":\"transit\"},\"renderers\":[{\"id\":\"13859\",\"type\":\"GlyphRenderer\"}]},\"id\":\"13870\",\"type\":\"LegendItem\"},{\"attributes\":{},\"id\":\"13832\",\"type\":\"HelpTool\"},{\"attributes\":{},\"id\":\"13827\",\"type\":\"PanTool\"},{\"attributes\":{\"callback\":null},\"id\":\"13811\",\"type\":\"DataRange1d\"},{\"attributes\":{\"overlay\":{\"id\":\"13835\",\"type\":\"BoxAnnotation\"}},\"id\":\"13829\",\"type\":\"BoxZoomTool\"},{\"attributes\":{\"axis_label\":\"Flux\",\"formatter\":{\"id\":\"13851\",\"type\":\"BasicTickFormatter\"},\"plot\":{\"id\":\"13808\",\"subtype\":\"Figure\",\"type\":\"Plot\"},\"ticker\":{\"id\":\"13823\",\"type\":\"BasicTicker\"}},\"id\":\"13822\",\"type\":\"LinearAxis\"},{\"attributes\":{\"data_source\":{\"id\":\"13856\",\"type\":\"ColumnDataSource\"},\"glyph\":{\"id\":\"13857\",\"type\":\"Line\"},\"hover_glyph\":null,\"muted_glyph\":null,\"nonselection_glyph\":{\"id\":\"13858\",\"type\":\"Line\"},\"selection_glyph\":null,\"view\":{\"id\":\"13860\",\"type\":\"CDSView\"}},\"id\":\"13859\",\"type\":\"GlyphRenderer\"},{\"attributes\":{\"data_source\":{\"id\":\"13871\",\"type\":\"ColumnDataSource\"},\"glyph\":{\"id\":\"13872\",\"type\":\"Line\"},\"hover_glyph\":null,\"muted_glyph\":null,\"nonselection_glyph\":{\"id\":\"13873\",\"type\":\"Line\"},\"selection_glyph\":null,\"view\":{\"id\":\"13875\",\"type\":\"CDSView\"}},\"id\":\"13874\",\"type\":\"GlyphRenderer\"},{\"attributes\":{},\"id\":\"13823\",\"type\":\"BasicTicker\"},{\"attributes\":{\"source\":{\"id\":\"13842\",\"type\":\"ColumnDataSource\"}},\"id\":\"13846\",\"type\":\"CDSView\"},{\"attributes\":{\"data_source\":{\"id\":\"13842\",\"type\":\"ColumnDataSource\"},\"glyph\":{\"id\":\"13843\",\"type\":\"Line\"},\"hover_glyph\":null,\"muted_glyph\":null,\"nonselection_glyph\":{\"id\":\"13844\",\"type\":\"Line\"},\"selection_glyph\":null,\"view\":{\"id\":\"13846\",\"type\":\"CDSView\"}},\"id\":\"13845\",\"type\":\"GlyphRenderer\"},{\"attributes\":{\"plot\":{\"id\":\"13808\",\"subtype\":\"Figure\",\"type\":\"Plot\"},\"ticker\":{\"id\":\"13818\",\"type\":\"BasicTicker\"}},\"id\":\"13821\",\"type\":\"Grid\"}],\"root_ids\":[\"13808\"]},\"title\":\"Bokeh Application\",\"version\":\"1.0.4\"}};\n",
       "  var render_items = [{\"docid\":\"97c5e285-d0ca-46df-bc49-705d2988d495\",\"roots\":{\"13808\":\"310c152d-0b5b-4308-9c44-a7469ad6fd41\"}}];\n",
       "  root.Bokeh.embed.embed_items_notebook(docs_json, render_items);\n",
       "\n",
       "  }\n",
       "  if (root.Bokeh !== undefined) {\n",
       "    embed_document(root);\n",
       "  } else {\n",
       "    var attempts = 0;\n",
       "    var timer = setInterval(function(root) {\n",
       "      if (root.Bokeh !== undefined) {\n",
       "        embed_document(root);\n",
       "        clearInterval(timer);\n",
       "      }\n",
       "      attempts++;\n",
       "      if (attempts > 100) {\n",
       "        console.log(\"Bokeh: ERROR: Unable to run BokehJS code because BokehJS library is missing\");\n",
       "        clearInterval(timer);\n",
       "      }\n",
       "    }, 10, root)\n",
       "  }\n",
       "})(window);"
      ],
      "application/vnd.bokehjs_exec.v0+json": ""
     },
     "metadata": {
      "application/vnd.bokehjs_exec.v0+json": {
       "id": "13808"
      }
     },
     "output_type": "display_data"
    }
   ],
   "source": [
    "# Make a new model by multiplying some model components (which don't necessarily overlap)\n",
    "comp_model = t_model*lin_model\n",
    "comp_model.name = 'composite'\n",
    "\n",
    "# Plot it\n",
    "comp_model.plot(time, components=True, draw=True)"
   ]
  },
  {
   "cell_type": "markdown",
   "metadata": {},
   "source": [
    "## Fit the model to the light curve data\n",
    "To fit a model to the data, we need to supply the `LightCurve.fit()` method with a `Model` instance and then specify our choice of fitting routine. Here we'll use the `lmfit` fitter with our composite model create above."
   ]
  },
  {
   "cell_type": "code",
   "execution_count": 56,
   "metadata": {},
   "outputs": [
    {
     "name": "stdout",
     "output_type": "stream",
     "text": [
      "[[Model]]\n",
      "    Model(eval)\n",
      "[[Fit Statistics]]\n",
      "    # fitting method   = Powell\n",
      "    # function evals   = 121\n",
      "    # data points      = 100\n",
      "    # variables        = 10\n",
      "    chi-square         = 414.814389\n",
      "    reduced chi-square = 4.60904877\n",
      "    Akaike info crit   = 162.266098\n",
      "    Bayesian info crit = 188.317800\n",
      "[[Variables]]\n",
      "    t0:   0.77970522 (init = 0.48)\n",
      "    c0:   3.58492896 (init = 0.997)\n",
      "    u1:   0.99798367 (init = 0.1)\n",
      "    per:  10.72149 (fixed)\n",
      "    u4:   0.99798367 (init = 0.1)\n",
      "    w:    90 (fixed)\n",
      "    ecc:  0 (fixed)\n",
      "    u2:   0.99798367 (init = 0.1)\n",
      "    inc:  81.8991217 (init = 89.7)\n",
      "    c1:   2.58842896 (init = 0.0005)\n",
      "    rp:   0.28762222 (init = 0.22)\n",
      "    a:    18.1665144 (init = 18.2)\n",
      "    u3:   0.99798367 (init = 0.1)\n",
      "\n"
     ]
    },
    {
     "data": {
      "text/html": [
       "\n",
       "\n",
       "\n",
       "\n",
       "\n",
       "\n",
       "  <div class=\"bk-root\" id=\"648e00d5-56cc-4e13-ad17-e18af3e782ac\" data-root-id=\"14382\"></div>\n"
      ]
     },
     "metadata": {},
     "output_type": "display_data"
    },
    {
     "data": {
      "application/javascript": [
       "(function(root) {\n",
       "  function embed_document(root) {\n",
       "    \n",
       "  var docs_json = {\"9f3c1cfe-fc7f-40de-a768-0527d9ac3567\":{\"roots\":{\"references\":[{\"attributes\":{\"line_alpha\":0.1,\"line_color\":\"#1f77b4\",\"x\":{\"field\":\"x\"},\"y\":{\"field\":\"y\"}},\"id\":\"14432\",\"type\":\"Line\"},{\"attributes\":{\"plot\":{\"id\":\"14382\",\"subtype\":\"Figure\",\"type\":\"Plot\"},\"ticker\":{\"id\":\"14392\",\"type\":\"BasicTicker\"}},\"id\":\"14395\",\"type\":\"Grid\"},{\"attributes\":{},\"id\":\"14442\",\"type\":\"UnionRenderers\"},{\"attributes\":{\"bottom_units\":\"screen\",\"fill_alpha\":{\"value\":0.5},\"fill_color\":{\"value\":\"lightgrey\"},\"left_units\":\"screen\",\"level\":\"overlay\",\"line_alpha\":{\"value\":1.0},\"line_color\":{\"value\":\"black\"},\"line_dash\":[4,4],\"line_width\":{\"value\":2},\"plot\":null,\"render_mode\":\"css\",\"right_units\":\"screen\",\"top_units\":\"screen\"},\"id\":\"14409\",\"type\":\"BoxAnnotation\"},{\"attributes\":{},\"id\":\"14406\",\"type\":\"HelpTool\"},{\"attributes\":{\"active_drag\":\"auto\",\"active_inspect\":\"auto\",\"active_multi\":null,\"active_scroll\":\"auto\",\"active_tap\":\"auto\",\"tools\":[{\"id\":\"14401\",\"type\":\"PanTool\"},{\"id\":\"14402\",\"type\":\"WheelZoomTool\"},{\"id\":\"14403\",\"type\":\"BoxZoomTool\"},{\"id\":\"14404\",\"type\":\"SaveTool\"},{\"id\":\"14405\",\"type\":\"ResetTool\"},{\"id\":\"14406\",\"type\":\"HelpTool\"}]},\"id\":\"14407\",\"type\":\"Toolbar\"},{\"attributes\":{},\"id\":\"14389\",\"type\":\"LinearScale\"},{\"attributes\":{\"callback\":null,\"data\":{\"x\":{\"__ndarray__\":\"AAAAAAAAAABbv1Kg1q+EP1u/UqDWr5Q/CB988MEHnz9bv1Kg1q+kPzJvZ0jM26k/CB988MEHrz9wZ0jM2xmyP1u/UqDWr7Q/RhdddNFFtz8yb2dIzNu5Px3HcRzHcbw/CB988MEHvz96O0Ni3s7AP3BnSMzbGcI/ZZNNNtlkwz9bv1Kg1q/EP1HrVwrU+sU/RhdddNFFxz88Q2LezpDIPzJvZ0jM28k/J5tssskmyz8dx3Ecx3HMPxPzdobEvM0/CB988MEHzz9/pUCtXynQP3o7Q2LeztA/ddFFF1100T9wZ0jM2xnSP2r9SoFav9I/ZZNNNtlk0z9gKVDrVwrUP1u/UqDWr9Q/VlVVVVVV1T9R61cK1PrVP0yBWr9SoNY/RhdddNFF1z9BrV8pUOvXPzxDYt7OkNg/N9lkk0022T8yb2dIzNvZPy0Fav1Kgdo/J5tssskm2z8iMW9nSMzbPx3HcRzHcdw/GF100UUX3T8T83aGxLzdPw6JeTtDYt4/CB988MEH3z8DtX6lQK3fP3+lQK1fKeA/ffDBBx984D96O0Ni3s7gP3eGxLydIeE/ddFFF1104T9yHMdxHMfhP3BnSMzbGeI/bbLJJpts4j9q/UqBWr/iP2hIzNsZEuM/ZZNNNtlk4z9j3s6QmLfjP2ApUOtXCuQ/XnTRRRdd5D9bv1Kg1q/kP1gK1PqVAuU/VlVVVVVV5T9ToNavFKjlP1HrVwrU+uU/TjbZZJNN5j9MgVq/UqDmP0nM2xkS8+Y/RhdddNFF5z9EYt7OkJjnP0GtXylQ6+c/P/jggw8+6D88Q2LezpDoPzmO4ziO4+g/N9lkk0026T80JObtDInpPzJvZ0jM2+k/L7rooosu6j8tBWr9SoHqPypQ61cK1Oo/J5tssskm6z8l5u0MiXnrPyIxb2dIzOs/IHzwwQcf7D8dx3Ecx3HsPxsS83aGxOw/GF100UUX7T8VqPUrBWrtPxPzdobEvO0/ED744IMP7j8OiXk7Q2LuPwvU+pUCte4/CB988MEH7z8Gav1KgVrvPwO1fqVAre8/AAAAAAAA8D8=\",\"dtype\":\"float64\",\"shape\":[100]},\"y\":{\"__ndarray__\":\"TDeJQWDl7z87WAHZauXvPyp5eXB15e8/GZrxB4Dl7z8Iu2mfiuXvP/fb4TaV5e8/5vxZzp/l7z/VHdJlquXvP8Q+Sv205e8/s1/ClL/l7z+hgDosyuXvP5ChssPU5e8/f8IqW9/l7z9u46Ly6eXvP10EG4r05e8/TCWTIf/l7z87Rgu5CebvPypng1AU5u8/GYj75x7m7z8IqXN/KebvP/fJ6xY05u8/5upjrj7m7z/VC9xFSebvP8QsVN1T5u8/s03MdF7m7z+ibkQMaebvP5GPvKNz5u8/gLA0O37m7z9v0azSiObvP17yJGqT5u8/TROdAZ7m7z88NBWZqObvPytVjTCz5u8/GnYFyL3m7z8Jl31fyObvP/i39fbS5u8/59htjt3m7z+onSzHCcDvP4rfvpPFYe8/4j5uJLfu7j+5dHlzo4PuP93ckMfmW+4/ln3BPDRI7j9/d7JT/jjuP+nxUFldLe4/MayaJeQk7j+tcM8oVx/uP0dMOe+VHO4/JFgP+5Ec7j+jK4L8Sh/uPzaIds3OJO4/vvZmQz0t7j85Lo990DjuP++LXO3yR+4/07Co6oNb7j8cNVTs04DuP76PlvW26u4/rnk5KC5e7z+rvoIj2L3vP1/OOCrR5+8/Tu+wwdvn7z89EClZ5ufvPywxofDw5+8/G1IZiPvn7z8Kc5EfBujvP/mTCbcQ6O8/6LSBThvo7z/X1fnlJejvP8b2cX0w6O8/tRfqFDvo7z+kOGKsRejvP5NZ2kNQ6O8/gnpS21ro7z9xm8pyZejvP2C8Qgpw6O8/T926oXro7z8+/jI5hejvPy0fq9CP6O8/HEAjaJro7z8LYZv/pOjvP/qBE5ev6O8/6aKLLrro7z/YwwPGxOjvP8fke13P6O8/tgX09Nno7z+lJmyM5OjvP5RH5CPv6O8/g2hcu/no7z9yidRSBOnvP2GqTOoO6e8/T8vEgRnp7z8+7DwZJOnvPy0NtbAu6e8/HC4tSDnp7z8LT6XfQ+nvP/pvHXdO6e8/6ZCVDlnp7z/YsQ2mY+nvP8fShT1u6e8/tvP91Hjp7z8=\",\"dtype\":\"float64\",\"shape\":[100]}},\"selected\":{\"id\":\"14869\",\"type\":\"Selection\"},\"selection_policy\":{\"id\":\"14870\",\"type\":\"UnionRenderers\"}},\"id\":\"14430\",\"type\":\"ColumnDataSource\"},{\"attributes\":{\"axis_label\":\"Flux\",\"formatter\":{\"id\":\"14425\",\"type\":\"BasicTickFormatter\"},\"plot\":{\"id\":\"14382\",\"subtype\":\"Figure\",\"type\":\"Plot\"},\"ticker\":{\"id\":\"14397\",\"type\":\"BasicTicker\"}},\"id\":\"14396\",\"type\":\"LinearAxis\"},{\"attributes\":{\"source\":{\"id\":\"14430\",\"type\":\"ColumnDataSource\"}},\"id\":\"14434\",\"type\":\"CDSView\"},{\"attributes\":{},\"id\":\"14870\",\"type\":\"UnionRenderers\"},{\"attributes\":{},\"id\":\"14404\",\"type\":\"SaveTool\"},{\"attributes\":{\"axis_label\":\"MJD\",\"formatter\":{\"id\":\"14423\",\"type\":\"BasicTickFormatter\"},\"plot\":{\"id\":\"14382\",\"subtype\":\"Figure\",\"type\":\"Plot\"},\"ticker\":{\"id\":\"14392\",\"type\":\"BasicTicker\"}},\"id\":\"14391\",\"type\":\"LinearAxis\"},{\"attributes\":{},\"id\":\"14405\",\"type\":\"ResetTool\"},{\"attributes\":{},\"id\":\"14869\",\"type\":\"Selection\"},{\"attributes\":{\"items\":[{\"id\":\"14429\",\"type\":\"LegendItem\"},{\"id\":\"14444\",\"type\":\"LegendItem\"}],\"plot\":{\"id\":\"14382\",\"subtype\":\"Figure\",\"type\":\"Plot\"}},\"id\":\"14428\",\"type\":\"Legend\"},{\"attributes\":{\"dimension\":1,\"plot\":{\"id\":\"14382\",\"subtype\":\"Figure\",\"type\":\"Plot\"},\"ticker\":{\"id\":\"14397\",\"type\":\"BasicTicker\"}},\"id\":\"14400\",\"type\":\"Grid\"},{\"attributes\":{},\"id\":\"14423\",\"type\":\"BasicTickFormatter\"},{\"attributes\":{},\"id\":\"14397\",\"type\":\"BasicTicker\"},{\"attributes\":{\"line_color\":\"#1f77b4\",\"x\":{\"field\":\"x\"},\"y\":{\"field\":\"y\"}},\"id\":\"14431\",\"type\":\"Line\"},{\"attributes\":{\"label\":{\"value\":\"t0:0.78, c0:3.58, u1:1.0, per:10.72, u4:1.0, w:90.0, ecc:0.0, u2:1.0, inc:81.9, c1:2.59, rp:0.29, a:18.17, u3:1.0\"},\"renderers\":[{\"id\":\"14433\",\"type\":\"GlyphRenderer\"}]},\"id\":\"14444\",\"type\":\"LegendItem\"},{\"attributes\":{\"label\":{\"value\":\"Data\"},\"renderers\":[{\"id\":\"14419\",\"type\":\"GlyphRenderer\"}]},\"id\":\"14429\",\"type\":\"LegendItem\"},{\"attributes\":{\"overlay\":{\"id\":\"14409\",\"type\":\"BoxAnnotation\"}},\"id\":\"14403\",\"type\":\"BoxZoomTool\"},{\"attributes\":{},\"id\":\"14441\",\"type\":\"Selection\"},{\"attributes\":{},\"id\":\"14402\",\"type\":\"WheelZoomTool\"},{\"attributes\":{\"data_source\":{\"id\":\"14416\",\"type\":\"ColumnDataSource\"},\"glyph\":{\"id\":\"14417\",\"type\":\"Circle\"},\"hover_glyph\":null,\"muted_glyph\":null,\"nonselection_glyph\":{\"id\":\"14418\",\"type\":\"Circle\"},\"selection_glyph\":null,\"view\":{\"id\":\"14420\",\"type\":\"CDSView\"}},\"id\":\"14419\",\"type\":\"GlyphRenderer\"},{\"attributes\":{\"source\":{\"id\":\"14416\",\"type\":\"ColumnDataSource\"}},\"id\":\"14420\",\"type\":\"CDSView\"},{\"attributes\":{},\"id\":\"14387\",\"type\":\"LinearScale\"},{\"attributes\":{\"fill_color\":{\"value\":\"#1f77b4\"},\"line_color\":{\"value\":\"#1f77b4\"},\"x\":{\"field\":\"x\"},\"y\":{\"field\":\"y\"}},\"id\":\"14417\",\"type\":\"Circle\"},{\"attributes\":{},\"id\":\"14392\",\"type\":\"BasicTicker\"},{\"attributes\":{},\"id\":\"14401\",\"type\":\"PanTool\"},{\"attributes\":{},\"id\":\"14425\",\"type\":\"BasicTickFormatter\"},{\"attributes\":{\"callback\":null},\"id\":\"14385\",\"type\":\"DataRange1d\"},{\"attributes\":{\"plot\":null,\"text\":\"\"},\"id\":\"14421\",\"type\":\"Title\"},{\"attributes\":{\"below\":[{\"id\":\"14391\",\"type\":\"LinearAxis\"}],\"left\":[{\"id\":\"14396\",\"type\":\"LinearAxis\"}],\"plot_height\":400,\"plot_width\":800,\"renderers\":[{\"id\":\"14391\",\"type\":\"LinearAxis\"},{\"id\":\"14395\",\"type\":\"Grid\"},{\"id\":\"14396\",\"type\":\"LinearAxis\"},{\"id\":\"14400\",\"type\":\"Grid\"},{\"id\":\"14409\",\"type\":\"BoxAnnotation\"},{\"id\":\"14428\",\"type\":\"Legend\"},{\"id\":\"14419\",\"type\":\"GlyphRenderer\"},{\"id\":\"14433\",\"type\":\"GlyphRenderer\"}],\"title\":{\"id\":\"14421\",\"type\":\"Title\"},\"toolbar\":{\"id\":\"14407\",\"type\":\"Toolbar\"},\"x_range\":{\"id\":\"14383\",\"type\":\"DataRange1d\"},\"x_scale\":{\"id\":\"14387\",\"type\":\"LinearScale\"},\"y_range\":{\"id\":\"14385\",\"type\":\"DataRange1d\"},\"y_scale\":{\"id\":\"14389\",\"type\":\"LinearScale\"}},\"id\":\"14382\",\"subtype\":\"Figure\",\"type\":\"Plot\"},{\"attributes\":{\"callback\":null},\"id\":\"14383\",\"type\":\"DataRange1d\"},{\"attributes\":{\"callback\":null,\"data\":{\"x\":{\"__ndarray__\":\"AAAAAAAAAABbv1Kg1q+EP1u/UqDWr5Q/CB988MEHnz9bv1Kg1q+kPzJvZ0jM26k/CB988MEHrz9wZ0jM2xmyP1u/UqDWr7Q/RhdddNFFtz8yb2dIzNu5Px3HcRzHcbw/CB988MEHvz96O0Ni3s7AP3BnSMzbGcI/ZZNNNtlkwz9bv1Kg1q/EP1HrVwrU+sU/RhdddNFFxz88Q2LezpDIPzJvZ0jM28k/J5tssskmyz8dx3Ecx3HMPxPzdobEvM0/CB988MEHzz9/pUCtXynQP3o7Q2LeztA/ddFFF1100T9wZ0jM2xnSP2r9SoFav9I/ZZNNNtlk0z9gKVDrVwrUP1u/UqDWr9Q/VlVVVVVV1T9R61cK1PrVP0yBWr9SoNY/RhdddNFF1z9BrV8pUOvXPzxDYt7OkNg/N9lkk0022T8yb2dIzNvZPy0Fav1Kgdo/J5tssskm2z8iMW9nSMzbPx3HcRzHcdw/GF100UUX3T8T83aGxLzdPw6JeTtDYt4/CB988MEH3z8DtX6lQK3fP3+lQK1fKeA/ffDBBx984D96O0Ni3s7gP3eGxLydIeE/ddFFF1104T9yHMdxHMfhP3BnSMzbGeI/bbLJJpts4j9q/UqBWr/iP2hIzNsZEuM/ZZNNNtlk4z9j3s6QmLfjP2ApUOtXCuQ/XnTRRRdd5D9bv1Kg1q/kP1gK1PqVAuU/VlVVVVVV5T9ToNavFKjlP1HrVwrU+uU/TjbZZJNN5j9MgVq/UqDmP0nM2xkS8+Y/RhdddNFF5z9EYt7OkJjnP0GtXylQ6+c/P/jggw8+6D88Q2LezpDoPzmO4ziO4+g/N9lkk0026T80JObtDInpPzJvZ0jM2+k/L7rooosu6j8tBWr9SoHqPypQ61cK1Oo/J5tssskm6z8l5u0MiXnrPyIxb2dIzOs/IHzwwQcf7D8dx3Ecx3HsPxsS83aGxOw/GF100UUX7T8VqPUrBWrtPxPzdobEvO0/ED744IMP7j8OiXk7Q2LuPwvU+pUCte4/CB988MEH7z8Gav1KgVrvPwO1fqVAre8/AAAAAAAA8D8=\",\"dtype\":\"float64\",\"shape\":[100]},\"y\":{\"__ndarray__\":\"2t05hjX57z/rzKepMRXwPxEMNJkgFfA/35CDppzP7z+olSyOAwTwP82xxUbY8u8/X7Te77Wh7z+Zn4lmZRfwP+cAoEJP5O8/z/XJEQ3p7z/lF9FQGdrvP4p7RJtGAPA/pLUg2pIF8D/HMNGmaxzwP4y/MJVw7u8/0Oj+rYUB8D/qKWRdE+XvPxXCjGTKBPA/G9S8Y+627z9eJy6w6P3vP6/KZOrT5O8/DIVFbCHl7z/B11HtMt7vP6kSHGCM6u8/FKlZAQDH7z8PxsT+TgbwP7rxVtW8APA/ZlVZ0tcB8D+uOarbOxLwP7VVLgcs9u8/umtEXhn47z+YPwTo5PHvP6+ICknBD/A/10ZXP8cy8D9kpV4a2PzvP5yd3RJABPA/7hCWXEsP8D9FsSWnu6fvP/T1G5+NWu8/KISl+IvG7j/BZ7ZJyGTuP44zESh9cu4/xTt5vO8B7j988Stu0XLuP+7pAf44jO4/wm1JkM9r7j9RE4jB3oTuP2eCFc0YWu4/Lpa76/bd7j9pvyt7DpruP39PUYHNde4/y54vgr4c7j9rLIdY21buPwhiLlYpNe4/6GJt+nE57j8BS4ka+cLuPyMnxg/4cu4/hZdRwj2i7z/UEdp/9sbvP7x+j7zM3+8/BesaxJMq8D/kI+btU9rvP7bNgNBKKfA/n6CmGOoP8D/diyRnuuvvPzgwNfbT8u8/YMECp0z87z8ipdFYdQfwP7EEaAsQ5e8/gDDgRvUB8D/Ll0tEUQfwP3fAY7uHDPA//6KI3gkD8D9kUnQaVNjvPzXgwvQpCfA/vvdfIVTN7z/QUg8SUcHvP3+uzfPzBvA/9HtShl0I8D/jBoS7SSfwP8lts3M1A/A/qS5zQiv57z/Q5K4CLgbwP6dsX8YKJPA/f5hjli7Y7z/cbVlB5w3wP6rJOKDYvu8/nnH7YI/P7z/cHJUKj63vP0l+NZ3j8e8/ZIP9LgCl7z+W06/b9evvPykl9IJWJPA/EHicYvmn7z/c32MLkxDwP2j+zNLuCvA/nSn2oBP+7z8SKi2UZgrwPxSS0IOhBvA/FipZe1cA8D8=\",\"dtype\":\"float64\",\"shape\":[100]}},\"selected\":{\"id\":\"14441\",\"type\":\"Selection\"},\"selection_policy\":{\"id\":\"14442\",\"type\":\"UnionRenderers\"}},\"id\":\"14416\",\"type\":\"ColumnDataSource\"},{\"attributes\":{\"fill_alpha\":{\"value\":0.1},\"fill_color\":{\"value\":\"#1f77b4\"},\"line_alpha\":{\"value\":0.1},\"line_color\":{\"value\":\"#1f77b4\"},\"x\":{\"field\":\"x\"},\"y\":{\"field\":\"y\"}},\"id\":\"14418\",\"type\":\"Circle\"},{\"attributes\":{\"data_source\":{\"id\":\"14430\",\"type\":\"ColumnDataSource\"},\"glyph\":{\"id\":\"14431\",\"type\":\"Line\"},\"hover_glyph\":null,\"muted_glyph\":null,\"nonselection_glyph\":{\"id\":\"14432\",\"type\":\"Line\"},\"selection_glyph\":null,\"view\":{\"id\":\"14434\",\"type\":\"CDSView\"}},\"id\":\"14433\",\"type\":\"GlyphRenderer\"}],\"root_ids\":[\"14382\"]},\"title\":\"Bokeh Application\",\"version\":\"1.0.4\"}};\n",
       "  var render_items = [{\"docid\":\"9f3c1cfe-fc7f-40de-a768-0527d9ac3567\",\"roots\":{\"14382\":\"648e00d5-56cc-4e13-ad17-e18af3e782ac\"}}];\n",
       "  root.Bokeh.embed.embed_items_notebook(docs_json, render_items);\n",
       "\n",
       "  }\n",
       "  if (root.Bokeh !== undefined) {\n",
       "    embed_document(root);\n",
       "  } else {\n",
       "    var attempts = 0;\n",
       "    var timer = setInterval(function(root) {\n",
       "      if (root.Bokeh !== undefined) {\n",
       "        embed_document(root);\n",
       "        clearInterval(timer);\n",
       "      }\n",
       "      attempts++;\n",
       "      if (attempts > 100) {\n",
       "        console.log(\"Bokeh: ERROR: Unable to run BokehJS code because BokehJS library is missing\");\n",
       "        clearInterval(timer);\n",
       "      }\n",
       "    }, 10, root)\n",
       "  }\n",
       "})(window);"
      ],
      "application/vnd.bokehjs_exec.v0+json": ""
     },
     "metadata": {
      "application/vnd.bokehjs_exec.v0+json": {
       "id": "14382"
      }
     },
     "output_type": "display_data"
    }
   ],
   "source": [
    "# Create a new model instance from the best fit parameters\n",
    "lc.fit(comp_model, fitter='lmfit', method='powell')\n",
    "\n",
    "# Plot it\n",
    "lc.plot()"
   ]
  },
  {
   "cell_type": "code",
   "execution_count": null,
   "metadata": {
    "collapsed": true
   },
   "outputs": [],
   "source": []
  }
 ],
 "metadata": {
  "anaconda-cloud": {},
  "kernelspec": {
   "display_name": "Astroconda",
   "language": "python",
   "name": "astroconda_kernel"
  },
  "language_info": {
   "codemirror_mode": {
    "name": "ipython",
    "version": 3
   },
   "file_extension": ".py",
   "mimetype": "text/x-python",
   "name": "python",
   "nbconvert_exporter": "python",
   "pygments_lexer": "ipython3",
   "version": "3.5.2"
  }
 },
 "nbformat": 4,
 "nbformat_minor": 1
}
