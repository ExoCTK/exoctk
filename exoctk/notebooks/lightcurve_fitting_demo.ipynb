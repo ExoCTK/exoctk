{
 "cells": [
  {
   "cell_type": "markdown",
   "metadata": {},
   "source": [
    "# Light Curve Fitting with ExoCTK\n",
    "ExoCTK performs light curve fitting with the `exoctk.lightcurve_fitting` tool. This notebook will show you how to do it. \n",
    "\n",
    "First, some imports and a toy light curve to work with:"
   ]
  },
  {
   "cell_type": "code",
   "execution_count": 1,
   "metadata": {},
   "outputs": [
    {
     "data": {
      "text/html": [
       "\n",
       "    <div class=\"bk-root\">\n",
       "        <a href=\"https://bokeh.pydata.org\" target=\"_blank\" class=\"bk-logo bk-logo-small bk-logo-notebook\"></a>\n",
       "        <span id=\"1001\">Loading BokehJS ...</span>\n",
       "    </div>"
      ]
     },
     "metadata": {},
     "output_type": "display_data"
    },
    {
     "data": {
      "application/javascript": [
       "\n",
       "(function(root) {\n",
       "  function now() {\n",
       "    return new Date();\n",
       "  }\n",
       "\n",
       "  var force = true;\n",
       "\n",
       "  if (typeof (root._bokeh_onload_callbacks) === \"undefined\" || force === true) {\n",
       "    root._bokeh_onload_callbacks = [];\n",
       "    root._bokeh_is_loading = undefined;\n",
       "  }\n",
       "\n",
       "  var JS_MIME_TYPE = 'application/javascript';\n",
       "  var HTML_MIME_TYPE = 'text/html';\n",
       "  var EXEC_MIME_TYPE = 'application/vnd.bokehjs_exec.v0+json';\n",
       "  var CLASS_NAME = 'output_bokeh rendered_html';\n",
       "\n",
       "  /**\n",
       "   * Render data to the DOM node\n",
       "   */\n",
       "  function render(props, node) {\n",
       "    var script = document.createElement(\"script\");\n",
       "    node.appendChild(script);\n",
       "  }\n",
       "\n",
       "  /**\n",
       "   * Handle when an output is cleared or removed\n",
       "   */\n",
       "  function handleClearOutput(event, handle) {\n",
       "    var cell = handle.cell;\n",
       "\n",
       "    var id = cell.output_area._bokeh_element_id;\n",
       "    var server_id = cell.output_area._bokeh_server_id;\n",
       "    // Clean up Bokeh references\n",
       "    if (id != null && id in Bokeh.index) {\n",
       "      Bokeh.index[id].model.document.clear();\n",
       "      delete Bokeh.index[id];\n",
       "    }\n",
       "\n",
       "    if (server_id !== undefined) {\n",
       "      // Clean up Bokeh references\n",
       "      var cmd = \"from bokeh.io.state import curstate; print(curstate().uuid_to_server['\" + server_id + \"'].get_sessions()[0].document.roots[0]._id)\";\n",
       "      cell.notebook.kernel.execute(cmd, {\n",
       "        iopub: {\n",
       "          output: function(msg) {\n",
       "            var id = msg.content.text.trim();\n",
       "            if (id in Bokeh.index) {\n",
       "              Bokeh.index[id].model.document.clear();\n",
       "              delete Bokeh.index[id];\n",
       "            }\n",
       "          }\n",
       "        }\n",
       "      });\n",
       "      // Destroy server and session\n",
       "      var cmd = \"import bokeh.io.notebook as ion; ion.destroy_server('\" + server_id + \"')\";\n",
       "      cell.notebook.kernel.execute(cmd);\n",
       "    }\n",
       "  }\n",
       "\n",
       "  /**\n",
       "   * Handle when a new output is added\n",
       "   */\n",
       "  function handleAddOutput(event, handle) {\n",
       "    var output_area = handle.output_area;\n",
       "    var output = handle.output;\n",
       "\n",
       "    // limit handleAddOutput to display_data with EXEC_MIME_TYPE content only\n",
       "    if ((output.output_type != \"display_data\") || (!output.data.hasOwnProperty(EXEC_MIME_TYPE))) {\n",
       "      return\n",
       "    }\n",
       "\n",
       "    var toinsert = output_area.element.find(\".\" + CLASS_NAME.split(' ')[0]);\n",
       "\n",
       "    if (output.metadata[EXEC_MIME_TYPE][\"id\"] !== undefined) {\n",
       "      toinsert[toinsert.length - 1].firstChild.textContent = output.data[JS_MIME_TYPE];\n",
       "      // store reference to embed id on output_area\n",
       "      output_area._bokeh_element_id = output.metadata[EXEC_MIME_TYPE][\"id\"];\n",
       "    }\n",
       "    if (output.metadata[EXEC_MIME_TYPE][\"server_id\"] !== undefined) {\n",
       "      var bk_div = document.createElement(\"div\");\n",
       "      bk_div.innerHTML = output.data[HTML_MIME_TYPE];\n",
       "      var script_attrs = bk_div.children[0].attributes;\n",
       "      for (var i = 0; i < script_attrs.length; i++) {\n",
       "        toinsert[toinsert.length - 1].firstChild.setAttribute(script_attrs[i].name, script_attrs[i].value);\n",
       "      }\n",
       "      // store reference to server id on output_area\n",
       "      output_area._bokeh_server_id = output.metadata[EXEC_MIME_TYPE][\"server_id\"];\n",
       "    }\n",
       "  }\n",
       "\n",
       "  function register_renderer(events, OutputArea) {\n",
       "\n",
       "    function append_mime(data, metadata, element) {\n",
       "      // create a DOM node to render to\n",
       "      var toinsert = this.create_output_subarea(\n",
       "        metadata,\n",
       "        CLASS_NAME,\n",
       "        EXEC_MIME_TYPE\n",
       "      );\n",
       "      this.keyboard_manager.register_events(toinsert);\n",
       "      // Render to node\n",
       "      var props = {data: data, metadata: metadata[EXEC_MIME_TYPE]};\n",
       "      render(props, toinsert[toinsert.length - 1]);\n",
       "      element.append(toinsert);\n",
       "      return toinsert\n",
       "    }\n",
       "\n",
       "    /* Handle when an output is cleared or removed */\n",
       "    events.on('clear_output.CodeCell', handleClearOutput);\n",
       "    events.on('delete.Cell', handleClearOutput);\n",
       "\n",
       "    /* Handle when a new output is added */\n",
       "    events.on('output_added.OutputArea', handleAddOutput);\n",
       "\n",
       "    /**\n",
       "     * Register the mime type and append_mime function with output_area\n",
       "     */\n",
       "    OutputArea.prototype.register_mime_type(EXEC_MIME_TYPE, append_mime, {\n",
       "      /* Is output safe? */\n",
       "      safe: true,\n",
       "      /* Index of renderer in `output_area.display_order` */\n",
       "      index: 0\n",
       "    });\n",
       "  }\n",
       "\n",
       "  // register the mime type if in Jupyter Notebook environment and previously unregistered\n",
       "  if (root.Jupyter !== undefined) {\n",
       "    var events = require('base/js/events');\n",
       "    var OutputArea = require('notebook/js/outputarea').OutputArea;\n",
       "\n",
       "    if (OutputArea.prototype.mime_types().indexOf(EXEC_MIME_TYPE) == -1) {\n",
       "      register_renderer(events, OutputArea);\n",
       "    }\n",
       "  }\n",
       "\n",
       "  \n",
       "  if (typeof (root._bokeh_timeout) === \"undefined\" || force === true) {\n",
       "    root._bokeh_timeout = Date.now() + 5000;\n",
       "    root._bokeh_failed_load = false;\n",
       "  }\n",
       "\n",
       "  var NB_LOAD_WARNING = {'data': {'text/html':\n",
       "     \"<div style='background-color: #fdd'>\\n\"+\n",
       "     \"<p>\\n\"+\n",
       "     \"BokehJS does not appear to have successfully loaded. If loading BokehJS from CDN, this \\n\"+\n",
       "     \"may be due to a slow or bad network connection. Possible fixes:\\n\"+\n",
       "     \"</p>\\n\"+\n",
       "     \"<ul>\\n\"+\n",
       "     \"<li>re-rerun `output_notebook()` to attempt to load from CDN again, or</li>\\n\"+\n",
       "     \"<li>use INLINE resources instead, as so:</li>\\n\"+\n",
       "     \"</ul>\\n\"+\n",
       "     \"<code>\\n\"+\n",
       "     \"from bokeh.resources import INLINE\\n\"+\n",
       "     \"output_notebook(resources=INLINE)\\n\"+\n",
       "     \"</code>\\n\"+\n",
       "     \"</div>\"}};\n",
       "\n",
       "  function display_loaded() {\n",
       "    var el = document.getElementById(\"1001\");\n",
       "    if (el != null) {\n",
       "      el.textContent = \"BokehJS is loading...\";\n",
       "    }\n",
       "    if (root.Bokeh !== undefined) {\n",
       "      if (el != null) {\n",
       "        el.textContent = \"BokehJS \" + root.Bokeh.version + \" successfully loaded.\";\n",
       "      }\n",
       "    } else if (Date.now() < root._bokeh_timeout) {\n",
       "      setTimeout(display_loaded, 100)\n",
       "    }\n",
       "  }\n",
       "\n",
       "\n",
       "  function run_callbacks() {\n",
       "    try {\n",
       "      root._bokeh_onload_callbacks.forEach(function(callback) { callback() });\n",
       "    }\n",
       "    finally {\n",
       "      delete root._bokeh_onload_callbacks\n",
       "    }\n",
       "    console.info(\"Bokeh: all callbacks have finished\");\n",
       "  }\n",
       "\n",
       "  function load_libs(js_urls, callback) {\n",
       "    root._bokeh_onload_callbacks.push(callback);\n",
       "    if (root._bokeh_is_loading > 0) {\n",
       "      console.log(\"Bokeh: BokehJS is being loaded, scheduling callback at\", now());\n",
       "      return null;\n",
       "    }\n",
       "    if (js_urls == null || js_urls.length === 0) {\n",
       "      run_callbacks();\n",
       "      return null;\n",
       "    }\n",
       "    console.log(\"Bokeh: BokehJS not loaded, scheduling load and callback at\", now());\n",
       "    root._bokeh_is_loading = js_urls.length;\n",
       "    for (var i = 0; i < js_urls.length; i++) {\n",
       "      var url = js_urls[i];\n",
       "      var s = document.createElement('script');\n",
       "      s.src = url;\n",
       "      s.async = false;\n",
       "      s.onreadystatechange = s.onload = function() {\n",
       "        root._bokeh_is_loading--;\n",
       "        if (root._bokeh_is_loading === 0) {\n",
       "          console.log(\"Bokeh: all BokehJS libraries loaded\");\n",
       "          run_callbacks()\n",
       "        }\n",
       "      };\n",
       "      s.onerror = function() {\n",
       "        console.warn(\"failed to load library \" + url);\n",
       "      };\n",
       "      console.log(\"Bokeh: injecting script tag for BokehJS library: \", url);\n",
       "      document.getElementsByTagName(\"head\")[0].appendChild(s);\n",
       "    }\n",
       "  };var element = document.getElementById(\"1001\");\n",
       "  if (element == null) {\n",
       "    console.log(\"Bokeh: ERROR: autoload.js configured with elementid '1001' but no matching script tag was found. \")\n",
       "    return false;\n",
       "  }\n",
       "\n",
       "  var js_urls = [\"https://cdn.pydata.org/bokeh/release/bokeh-1.0.2.min.js\", \"https://cdn.pydata.org/bokeh/release/bokeh-widgets-1.0.2.min.js\", \"https://cdn.pydata.org/bokeh/release/bokeh-tables-1.0.2.min.js\", \"https://cdn.pydata.org/bokeh/release/bokeh-gl-1.0.2.min.js\"];\n",
       "\n",
       "  var inline_js = [\n",
       "    function(Bokeh) {\n",
       "      Bokeh.set_log_level(\"info\");\n",
       "    },\n",
       "    \n",
       "    function(Bokeh) {\n",
       "      \n",
       "    },\n",
       "    function(Bokeh) {\n",
       "      console.log(\"Bokeh: injecting CSS: https://cdn.pydata.org/bokeh/release/bokeh-1.0.2.min.css\");\n",
       "      Bokeh.embed.inject_css(\"https://cdn.pydata.org/bokeh/release/bokeh-1.0.2.min.css\");\n",
       "      console.log(\"Bokeh: injecting CSS: https://cdn.pydata.org/bokeh/release/bokeh-widgets-1.0.2.min.css\");\n",
       "      Bokeh.embed.inject_css(\"https://cdn.pydata.org/bokeh/release/bokeh-widgets-1.0.2.min.css\");\n",
       "      console.log(\"Bokeh: injecting CSS: https://cdn.pydata.org/bokeh/release/bokeh-tables-1.0.2.min.css\");\n",
       "      Bokeh.embed.inject_css(\"https://cdn.pydata.org/bokeh/release/bokeh-tables-1.0.2.min.css\");\n",
       "    }\n",
       "  ];\n",
       "\n",
       "  function run_inline_js() {\n",
       "    \n",
       "    if ((root.Bokeh !== undefined) || (force === true)) {\n",
       "      for (var i = 0; i < inline_js.length; i++) {\n",
       "        inline_js[i].call(root, root.Bokeh);\n",
       "      }if (force === true) {\n",
       "        display_loaded();\n",
       "      }} else if (Date.now() < root._bokeh_timeout) {\n",
       "      setTimeout(run_inline_js, 100);\n",
       "    } else if (!root._bokeh_failed_load) {\n",
       "      console.log(\"Bokeh: BokehJS failed to load within specified timeout.\");\n",
       "      root._bokeh_failed_load = true;\n",
       "    } else if (force !== true) {\n",
       "      var cell = $(document.getElementById(\"1001\")).parents('.cell').data().cell;\n",
       "      cell.output_area.append_execute_result(NB_LOAD_WARNING)\n",
       "    }\n",
       "\n",
       "  }\n",
       "\n",
       "  if (root._bokeh_is_loading === 0) {\n",
       "    console.log(\"Bokeh: BokehJS loaded, going straight to plotting\");\n",
       "    run_inline_js();\n",
       "  } else {\n",
       "    load_libs(js_urls, function() {\n",
       "      console.log(\"Bokeh: BokehJS plotting callback run at\", now());\n",
       "      run_inline_js();\n",
       "    });\n",
       "  }\n",
       "}(window));"
      ],
      "application/vnd.bokehjs_load.v0+json": "\n(function(root) {\n  function now() {\n    return new Date();\n  }\n\n  var force = true;\n\n  if (typeof (root._bokeh_onload_callbacks) === \"undefined\" || force === true) {\n    root._bokeh_onload_callbacks = [];\n    root._bokeh_is_loading = undefined;\n  }\n\n  \n\n  \n  if (typeof (root._bokeh_timeout) === \"undefined\" || force === true) {\n    root._bokeh_timeout = Date.now() + 5000;\n    root._bokeh_failed_load = false;\n  }\n\n  var NB_LOAD_WARNING = {'data': {'text/html':\n     \"<div style='background-color: #fdd'>\\n\"+\n     \"<p>\\n\"+\n     \"BokehJS does not appear to have successfully loaded. If loading BokehJS from CDN, this \\n\"+\n     \"may be due to a slow or bad network connection. Possible fixes:\\n\"+\n     \"</p>\\n\"+\n     \"<ul>\\n\"+\n     \"<li>re-rerun `output_notebook()` to attempt to load from CDN again, or</li>\\n\"+\n     \"<li>use INLINE resources instead, as so:</li>\\n\"+\n     \"</ul>\\n\"+\n     \"<code>\\n\"+\n     \"from bokeh.resources import INLINE\\n\"+\n     \"output_notebook(resources=INLINE)\\n\"+\n     \"</code>\\n\"+\n     \"</div>\"}};\n\n  function display_loaded() {\n    var el = document.getElementById(\"1001\");\n    if (el != null) {\n      el.textContent = \"BokehJS is loading...\";\n    }\n    if (root.Bokeh !== undefined) {\n      if (el != null) {\n        el.textContent = \"BokehJS \" + root.Bokeh.version + \" successfully loaded.\";\n      }\n    } else if (Date.now() < root._bokeh_timeout) {\n      setTimeout(display_loaded, 100)\n    }\n  }\n\n\n  function run_callbacks() {\n    try {\n      root._bokeh_onload_callbacks.forEach(function(callback) { callback() });\n    }\n    finally {\n      delete root._bokeh_onload_callbacks\n    }\n    console.info(\"Bokeh: all callbacks have finished\");\n  }\n\n  function load_libs(js_urls, callback) {\n    root._bokeh_onload_callbacks.push(callback);\n    if (root._bokeh_is_loading > 0) {\n      console.log(\"Bokeh: BokehJS is being loaded, scheduling callback at\", now());\n      return null;\n    }\n    if (js_urls == null || js_urls.length === 0) {\n      run_callbacks();\n      return null;\n    }\n    console.log(\"Bokeh: BokehJS not loaded, scheduling load and callback at\", now());\n    root._bokeh_is_loading = js_urls.length;\n    for (var i = 0; i < js_urls.length; i++) {\n      var url = js_urls[i];\n      var s = document.createElement('script');\n      s.src = url;\n      s.async = false;\n      s.onreadystatechange = s.onload = function() {\n        root._bokeh_is_loading--;\n        if (root._bokeh_is_loading === 0) {\n          console.log(\"Bokeh: all BokehJS libraries loaded\");\n          run_callbacks()\n        }\n      };\n      s.onerror = function() {\n        console.warn(\"failed to load library \" + url);\n      };\n      console.log(\"Bokeh: injecting script tag for BokehJS library: \", url);\n      document.getElementsByTagName(\"head\")[0].appendChild(s);\n    }\n  };var element = document.getElementById(\"1001\");\n  if (element == null) {\n    console.log(\"Bokeh: ERROR: autoload.js configured with elementid '1001' but no matching script tag was found. \")\n    return false;\n  }\n\n  var js_urls = [\"https://cdn.pydata.org/bokeh/release/bokeh-1.0.2.min.js\", \"https://cdn.pydata.org/bokeh/release/bokeh-widgets-1.0.2.min.js\", \"https://cdn.pydata.org/bokeh/release/bokeh-tables-1.0.2.min.js\", \"https://cdn.pydata.org/bokeh/release/bokeh-gl-1.0.2.min.js\"];\n\n  var inline_js = [\n    function(Bokeh) {\n      Bokeh.set_log_level(\"info\");\n    },\n    \n    function(Bokeh) {\n      \n    },\n    function(Bokeh) {\n      console.log(\"Bokeh: injecting CSS: https://cdn.pydata.org/bokeh/release/bokeh-1.0.2.min.css\");\n      Bokeh.embed.inject_css(\"https://cdn.pydata.org/bokeh/release/bokeh-1.0.2.min.css\");\n      console.log(\"Bokeh: injecting CSS: https://cdn.pydata.org/bokeh/release/bokeh-widgets-1.0.2.min.css\");\n      Bokeh.embed.inject_css(\"https://cdn.pydata.org/bokeh/release/bokeh-widgets-1.0.2.min.css\");\n      console.log(\"Bokeh: injecting CSS: https://cdn.pydata.org/bokeh/release/bokeh-tables-1.0.2.min.css\");\n      Bokeh.embed.inject_css(\"https://cdn.pydata.org/bokeh/release/bokeh-tables-1.0.2.min.css\");\n    }\n  ];\n\n  function run_inline_js() {\n    \n    if ((root.Bokeh !== undefined) || (force === true)) {\n      for (var i = 0; i < inline_js.length; i++) {\n        inline_js[i].call(root, root.Bokeh);\n      }if (force === true) {\n        display_loaded();\n      }} else if (Date.now() < root._bokeh_timeout) {\n      setTimeout(run_inline_js, 100);\n    } else if (!root._bokeh_failed_load) {\n      console.log(\"Bokeh: BokehJS failed to load within specified timeout.\");\n      root._bokeh_failed_load = true;\n    } else if (force !== true) {\n      var cell = $(document.getElementById(\"1001\")).parents('.cell').data().cell;\n      cell.output_area.append_execute_result(NB_LOAD_WARNING)\n    }\n\n  }\n\n  if (root._bokeh_is_loading === 0) {\n    console.log(\"Bokeh: BokehJS loaded, going straight to plotting\");\n    run_inline_js();\n  } else {\n    load_libs(js_urls, function() {\n      console.log(\"Bokeh: BokehJS plotting callback run at\", now());\n      run_inline_js();\n    });\n  }\n}(window));"
     },
     "metadata": {},
     "output_type": "display_data"
    }
   ],
   "source": [
    "# Imports\n",
    "import numpy as np\n",
    "import astropy.units as q\n",
    "from exoctk.lightcurve_fitting.lightcurve import LightCurve\n",
    "from exoctk.lightcurve_fitting.parameters import Parameters\n",
    "from exoctk.lightcurve_fitting.models import PolynomialModel, TransitModel\n",
    "from bokeh.io import output_notebook\n",
    "output_notebook()"
   ]
  },
  {
   "cell_type": "code",
   "execution_count": 2,
   "metadata": {
    "collapsed": true
   },
   "outputs": [],
   "source": [
    "# Toy data\n",
    "time = np.linspace(0, 1, 100)\n",
    "raw_flux = [0.95 if 35<i<60 else 1 for i in range(100)]\n",
    "unc = np.random.uniform(low=1E-4, high=0.01, size=100)\n",
    "flux = np.random.normal(raw_flux, scale=unc)\n",
    "flux[55:60] *= np.linspace(1, 1.05, 5)\n",
    "flux[36:41] *= np.linspace(1.05, 1., 5)"
   ]
  },
  {
   "cell_type": "markdown",
   "metadata": {},
   "source": [
    "## Create a light curve\n",
    "Creating a light curve instance is simple. Just pass `exoctk.lightcurve_fitting.lightcurve.LightCurve()` a `time` and `flux` array. You can also pass it the associated uncertainty with the `unc` argument.\n",
    "\n",
    "The `units` argument is just the units of the given time axis, in this case 'day'."
   ]
  },
  {
   "cell_type": "code",
   "execution_count": 3,
   "metadata": {},
   "outputs": [
    {
     "data": {
      "text/html": [
       "\n",
       "\n",
       "\n",
       "\n",
       "\n",
       "\n",
       "  <div class=\"bk-root\" id=\"8db0b660-a214-43bc-9141-9669870f96c2\"></div>\n"
      ]
     },
     "metadata": {},
     "output_type": "display_data"
    },
    {
     "data": {
      "application/javascript": [
       "(function(root) {\n",
       "  function embed_document(root) {\n",
       "    \n",
       "  var docs_json = {\"f18720fd-6e98-475f-a0f4-596c0aac3f84\":{\"roots\":{\"references\":[{\"attributes\":{\"plot\":null,\"text\":\"\"},\"id\":\"1042\",\"type\":\"Title\"},{\"attributes\":{\"callback\":null,\"data\":{\"x\":{\"__ndarray__\":\"AAAAAAAAAABbv1Kg1q+EP1u/UqDWr5Q/CB988MEHnz9bv1Kg1q+kPzJvZ0jM26k/CB988MEHrz9wZ0jM2xmyP1u/UqDWr7Q/RhdddNFFtz8yb2dIzNu5Px3HcRzHcbw/CB988MEHvz96O0Ni3s7AP3BnSMzbGcI/ZZNNNtlkwz9bv1Kg1q/EP1HrVwrU+sU/RhdddNFFxz88Q2LezpDIPzJvZ0jM28k/J5tssskmyz8dx3Ecx3HMPxPzdobEvM0/CB988MEHzz9/pUCtXynQP3o7Q2LeztA/ddFFF1100T9wZ0jM2xnSP2r9SoFav9I/ZZNNNtlk0z9gKVDrVwrUP1u/UqDWr9Q/VlVVVVVV1T9R61cK1PrVP0yBWr9SoNY/RhdddNFF1z9BrV8pUOvXPzxDYt7OkNg/N9lkk0022T8yb2dIzNvZPy0Fav1Kgdo/J5tssskm2z8iMW9nSMzbPx3HcRzHcdw/GF100UUX3T8T83aGxLzdPw6JeTtDYt4/CB988MEH3z8DtX6lQK3fP3+lQK1fKeA/ffDBBx984D96O0Ni3s7gP3eGxLydIeE/ddFFF1104T9yHMdxHMfhP3BnSMzbGeI/bbLJJpts4j9q/UqBWr/iP2hIzNsZEuM/ZZNNNtlk4z9j3s6QmLfjP2ApUOtXCuQ/XnTRRRdd5D9bv1Kg1q/kP1gK1PqVAuU/VlVVVVVV5T9ToNavFKjlP1HrVwrU+uU/TjbZZJNN5j9MgVq/UqDmP0nM2xkS8+Y/RhdddNFF5z9EYt7OkJjnP0GtXylQ6+c/P/jggw8+6D88Q2LezpDoPzmO4ziO4+g/N9lkk0026T80JObtDInpPzJvZ0jM2+k/L7rooosu6j8tBWr9SoHqPypQ61cK1Oo/J5tssskm6z8l5u0MiXnrPyIxb2dIzOs/IHzwwQcf7D8dx3Ecx3HsPxsS83aGxOw/GF100UUX7T8VqPUrBWrtPxPzdobEvO0/ED744IMP7j8OiXk7Q2LuPwvU+pUCte4/CB988MEH7z8Gav1KgVrvPwO1fqVAre8/AAAAAAAA8D8=\",\"dtype\":\"float64\",\"shape\":[100]},\"y\":{\"__ndarray__\":\"nPo+x8D67z+fze9uMBXwP1+wZAlhE/A/yn3Q/m757z8x4NGE1APwP+VWDsJL2e8/2PwO3EgO8D/XF2lJB8DvP91hM19A++8/tRr2uzni7z/IYEzLpv/vP8J8IHMABfA/Faf6G+b47z/Ur70iSyHwP1xCuP9WDfA/EEWf6qDF7z89hNGUGtnvP7DG7X8N0+8/wyl7tmIE8D836EDLPwHwPwXtILzhBPA/or+AHlsC8D/rFphngHHwP9mKyQZdDvA/nmYgOg4C8D+KTMExTgTwPxvs1HrI6e8//YmFO/Hn7z/q6vbnvwDwP1frEpgjxe8/yuOxuWai7z/xHkl+e//vP1GBHZAmCPA/ceq9LKbE7z/MxVBME/nvP4lCgP/lBvA/s3AXhl737z+HWXGM02zvP2Z3NMg1SO8/2wsjqRzH7j9Et5dVtWfuP/LagJ4NWu4/jpIbdg5h7j+DSh/KY1ruP0XixSIqW+4/Vy3SK5V77j825XCl6kjuP7Gepd4ocO4/JkSuUfhs7j8bJijumHTuP0GVyPCtTu4/+Qk2Hqq67j8F5iqkjHHuP/psM6XqfO4/N/BO0i937j88lKh1urLuP+kOGyIZZO4/6JHHfyKo7z8D5irfQ3fvP/eCgEtw6u8/B+NhdX0R8D98vVztSczvPwBgyVOhKvA/awRzsAo28D9MeSrZyADwPyEDPB/Rze8/hBtf+WUB8D/BrH3P7AHwP/2Nh7kG8u8/phMFC5HV7z/QY4HCh9HvP9DWRGQpA/A/08EYUTiv7z93eAFgJwrwP0WccnQK6e8/LJBuulgD8D+7tJBcAf/vP0hvlr9uE/A/48rSvxLS7z8lT18v7/3vP0lYDub32O8/0LoGsGcI8D/F+o2V/wDwP5ZcNW06+u8/16h3vI/N7z/FdvjQWwbwP3LZcdcd1u8/nYbybjK97z+x0+/vKgjwP4giF0Zr9O8/JNP66Ci97z8PrppHw/TvP1nn/Ezv/e8/fYkb/nEY8D9iBOJcBP7vP+zFoWDXo+8/nBaATdYV8D+BrounZ/bvP++GifS6/+8/wLRZKHDx7z8=\",\"dtype\":\"float64\",\"shape\":[100]}},\"selected\":{\"id\":\"1058\",\"type\":\"Selection\"},\"selection_policy\":{\"id\":\"1057\",\"type\":\"UnionRenderers\"}},\"id\":\"1036\",\"type\":\"ColumnDataSource\"},{\"attributes\":{\"data_source\":{\"id\":\"1036\",\"type\":\"ColumnDataSource\"},\"glyph\":{\"id\":\"1037\",\"type\":\"Circle\"},\"hover_glyph\":null,\"muted_glyph\":null,\"nonselection_glyph\":{\"id\":\"1038\",\"type\":\"Circle\"},\"selection_glyph\":null,\"view\":{\"id\":\"1040\",\"type\":\"CDSView\"}},\"id\":\"1039\",\"type\":\"GlyphRenderer\"},{\"attributes\":{\"label\":{\"value\":\"Data\"},\"renderers\":[{\"id\":\"1039\",\"type\":\"GlyphRenderer\"}]},\"id\":\"1049\",\"type\":\"LegendItem\"},{\"attributes\":{\"fill_color\":{\"value\":\"#1f77b4\"},\"line_color\":{\"value\":\"#1f77b4\"},\"x\":{\"field\":\"x\"},\"y\":{\"field\":\"y\"}},\"id\":\"1037\",\"type\":\"Circle\"},{\"attributes\":{\"overlay\":{\"id\":\"1029\",\"type\":\"BoxAnnotation\"}},\"id\":\"1023\",\"type\":\"BoxZoomTool\"},{\"attributes\":{},\"id\":\"1046\",\"type\":\"BasicTickFormatter\"},{\"attributes\":{},\"id\":\"1021\",\"type\":\"PanTool\"},{\"attributes\":{},\"id\":\"1024\",\"type\":\"SaveTool\"},{\"attributes\":{},\"id\":\"1025\",\"type\":\"ResetTool\"},{\"attributes\":{},\"id\":\"1057\",\"type\":\"UnionRenderers\"},{\"attributes\":{\"items\":[{\"id\":\"1049\",\"type\":\"LegendItem\"}],\"plot\":{\"id\":\"1002\",\"subtype\":\"Figure\",\"type\":\"Plot\"}},\"id\":\"1048\",\"type\":\"Legend\"},{\"attributes\":{},\"id\":\"1044\",\"type\":\"BasicTickFormatter\"},{\"attributes\":{},\"id\":\"1009\",\"type\":\"LinearScale\"},{\"attributes\":{\"plot\":{\"id\":\"1002\",\"subtype\":\"Figure\",\"type\":\"Plot\"},\"ticker\":{\"id\":\"1012\",\"type\":\"BasicTicker\"}},\"id\":\"1015\",\"type\":\"Grid\"},{\"attributes\":{},\"id\":\"1026\",\"type\":\"HelpTool\"},{\"attributes\":{\"dimension\":1,\"plot\":{\"id\":\"1002\",\"subtype\":\"Figure\",\"type\":\"Plot\"},\"ticker\":{\"id\":\"1017\",\"type\":\"BasicTicker\"}},\"id\":\"1020\",\"type\":\"Grid\"},{\"attributes\":{\"axis_label\":\"Flux\",\"formatter\":{\"id\":\"1044\",\"type\":\"BasicTickFormatter\"},\"plot\":{\"id\":\"1002\",\"subtype\":\"Figure\",\"type\":\"Plot\"},\"ticker\":{\"id\":\"1017\",\"type\":\"BasicTicker\"}},\"id\":\"1016\",\"type\":\"LinearAxis\"},{\"attributes\":{\"active_drag\":\"auto\",\"active_inspect\":\"auto\",\"active_multi\":null,\"active_scroll\":\"auto\",\"active_tap\":\"auto\",\"tools\":[{\"id\":\"1021\",\"type\":\"PanTool\"},{\"id\":\"1022\",\"type\":\"WheelZoomTool\"},{\"id\":\"1023\",\"type\":\"BoxZoomTool\"},{\"id\":\"1024\",\"type\":\"SaveTool\"},{\"id\":\"1025\",\"type\":\"ResetTool\"},{\"id\":\"1026\",\"type\":\"HelpTool\"}]},\"id\":\"1027\",\"type\":\"Toolbar\"},{\"attributes\":{},\"id\":\"1007\",\"type\":\"LinearScale\"},{\"attributes\":{\"bottom_units\":\"screen\",\"fill_alpha\":{\"value\":0.5},\"fill_color\":{\"value\":\"lightgrey\"},\"left_units\":\"screen\",\"level\":\"overlay\",\"line_alpha\":{\"value\":1.0},\"line_color\":{\"value\":\"black\"},\"line_dash\":[4,4],\"line_width\":{\"value\":2},\"plot\":null,\"render_mode\":\"css\",\"right_units\":\"screen\",\"top_units\":\"screen\"},\"id\":\"1029\",\"type\":\"BoxAnnotation\"},{\"attributes\":{\"callback\":null},\"id\":\"1003\",\"type\":\"DataRange1d\"},{\"attributes\":{},\"id\":\"1058\",\"type\":\"Selection\"},{\"attributes\":{},\"id\":\"1017\",\"type\":\"BasicTicker\"},{\"attributes\":{\"below\":[{\"id\":\"1011\",\"type\":\"LinearAxis\"}],\"left\":[{\"id\":\"1016\",\"type\":\"LinearAxis\"}],\"renderers\":[{\"id\":\"1011\",\"type\":\"LinearAxis\"},{\"id\":\"1015\",\"type\":\"Grid\"},{\"id\":\"1016\",\"type\":\"LinearAxis\"},{\"id\":\"1020\",\"type\":\"Grid\"},{\"id\":\"1029\",\"type\":\"BoxAnnotation\"},{\"id\":\"1048\",\"type\":\"Legend\"},{\"id\":\"1039\",\"type\":\"GlyphRenderer\"}],\"title\":{\"id\":\"1042\",\"type\":\"Title\"},\"toolbar\":{\"id\":\"1027\",\"type\":\"Toolbar\"},\"x_range\":{\"id\":\"1003\",\"type\":\"DataRange1d\"},\"x_scale\":{\"id\":\"1007\",\"type\":\"LinearScale\"},\"y_range\":{\"id\":\"1005\",\"type\":\"DataRange1d\"},\"y_scale\":{\"id\":\"1009\",\"type\":\"LinearScale\"}},\"id\":\"1002\",\"subtype\":\"Figure\",\"type\":\"Plot\"},{\"attributes\":{},\"id\":\"1022\",\"type\":\"WheelZoomTool\"},{\"attributes\":{\"callback\":null},\"id\":\"1005\",\"type\":\"DataRange1d\"},{\"attributes\":{\"fill_alpha\":{\"value\":0.1},\"fill_color\":{\"value\":\"#1f77b4\"},\"line_alpha\":{\"value\":0.1},\"line_color\":{\"value\":\"#1f77b4\"},\"x\":{\"field\":\"x\"},\"y\":{\"field\":\"y\"}},\"id\":\"1038\",\"type\":\"Circle\"},{\"attributes\":{},\"id\":\"1012\",\"type\":\"BasicTicker\"},{\"attributes\":{\"source\":{\"id\":\"1036\",\"type\":\"ColumnDataSource\"}},\"id\":\"1040\",\"type\":\"CDSView\"},{\"attributes\":{\"axis_label\":\"MJD\",\"formatter\":{\"id\":\"1046\",\"type\":\"BasicTickFormatter\"},\"plot\":{\"id\":\"1002\",\"subtype\":\"Figure\",\"type\":\"Plot\"},\"ticker\":{\"id\":\"1012\",\"type\":\"BasicTicker\"}},\"id\":\"1011\",\"type\":\"LinearAxis\"}],\"root_ids\":[\"1002\"]},\"title\":\"Bokeh Application\",\"version\":\"1.0.2\"}};\n",
       "  var render_items = [{\"docid\":\"f18720fd-6e98-475f-a0f4-596c0aac3f84\",\"roots\":{\"1002\":\"8db0b660-a214-43bc-9141-9669870f96c2\"}}];\n",
       "  root.Bokeh.embed.embed_items_notebook(docs_json, render_items);\n",
       "\n",
       "  }\n",
       "  if (root.Bokeh !== undefined) {\n",
       "    embed_document(root);\n",
       "  } else {\n",
       "    var attempts = 0;\n",
       "    var timer = setInterval(function(root) {\n",
       "      if (root.Bokeh !== undefined) {\n",
       "        embed_document(root);\n",
       "        clearInterval(timer);\n",
       "      }\n",
       "      attempts++;\n",
       "      if (attempts > 100) {\n",
       "        console.log(\"Bokeh: ERROR: Unable to run BokehJS code because BokehJS library is missing\");\n",
       "        clearInterval(timer);\n",
       "      }\n",
       "    }, 10, root)\n",
       "  }\n",
       "})(window);"
      ],
      "application/vnd.bokehjs_exec.v0+json": ""
     },
     "metadata": {
      "application/vnd.bokehjs_exec.v0+json": {
       "id": "1002"
      }
     },
     "output_type": "display_data"
    }
   ],
   "source": [
    "# Instantiate a lightcurve\n",
    "lc = LightCurve(time, flux, unc, name='Data')\n",
    "lc.plot()"
   ]
  },
  {
   "cell_type": "markdown",
   "metadata": {},
   "source": [
    "## Create some models to fit to the light curve\n",
    "Now that we have our light curve data loaded, let's create some models to fit to it.\n",
    "\n",
    "First we'll create a simple linear model by passing some polynomial coefficients to the `PolynomialModel` class."
   ]
  },
  {
   "cell_type": "code",
   "execution_count": 5,
   "metadata": {},
   "outputs": [
    {
     "data": {
      "text/html": [
       "\n",
       "\n",
       "\n",
       "\n",
       "\n",
       "\n",
       "  <div class=\"bk-root\" id=\"f4f0a2b4-7750-46bb-8659-5b080519b47a\"></div>\n"
      ]
     },
     "metadata": {},
     "output_type": "display_data"
    },
    {
     "data": {
      "application/javascript": [
       "(function(root) {\n",
       "  function embed_document(root) {\n",
       "    \n",
       "  var docs_json = {\"b7c01e44-02ad-4f69-9049-22d8a9328691\":{\"roots\":{\"references\":[{\"attributes\":{\"plot\":{\"id\":\"1165\",\"subtype\":\"Figure\",\"type\":\"Plot\"},\"ticker\":{\"id\":\"1175\",\"type\":\"BasicTicker\"}},\"id\":\"1178\",\"type\":\"Grid\"},{\"attributes\":{},\"id\":\"1180\",\"type\":\"BasicTicker\"},{\"attributes\":{\"data_source\":{\"id\":\"1199\",\"type\":\"ColumnDataSource\"},\"glyph\":{\"id\":\"1200\",\"type\":\"Line\"},\"hover_glyph\":null,\"muted_glyph\":null,\"nonselection_glyph\":{\"id\":\"1201\",\"type\":\"Line\"},\"selection_glyph\":null,\"view\":{\"id\":\"1203\",\"type\":\"CDSView\"}},\"id\":\"1202\",\"type\":\"GlyphRenderer\"},{\"attributes\":{\"line_color\":\"#1f77b4\",\"x\":{\"field\":\"x\"},\"y\":{\"field\":\"y\"}},\"id\":\"1200\",\"type\":\"Line\"},{\"attributes\":{\"axis_label\":\"Flux\",\"formatter\":{\"id\":\"1207\",\"type\":\"BasicTickFormatter\"},\"plot\":{\"id\":\"1165\",\"subtype\":\"Figure\",\"type\":\"Plot\"},\"ticker\":{\"id\":\"1180\",\"type\":\"BasicTicker\"}},\"id\":\"1179\",\"type\":\"LinearAxis\"},{\"attributes\":{},\"id\":\"1185\",\"type\":\"WheelZoomTool\"},{\"attributes\":{\"plot\":null,\"text\":\"\"},\"id\":\"1205\",\"type\":\"Title\"},{\"attributes\":{\"line_alpha\":0.1,\"line_color\":\"#1f77b4\",\"x\":{\"field\":\"x\"},\"y\":{\"field\":\"y\"}},\"id\":\"1201\",\"type\":\"Line\"},{\"attributes\":{\"callback\":null},\"id\":\"1168\",\"type\":\"DataRange1d\"},{\"attributes\":{\"items\":[{\"id\":\"1212\",\"type\":\"LegendItem\"}],\"plot\":{\"id\":\"1165\",\"subtype\":\"Figure\",\"type\":\"Plot\"}},\"id\":\"1211\",\"type\":\"Legend\"},{\"attributes\":{\"active_drag\":\"auto\",\"active_inspect\":\"auto\",\"active_multi\":null,\"active_scroll\":\"auto\",\"active_tap\":\"auto\",\"tools\":[{\"id\":\"1184\",\"type\":\"PanTool\"},{\"id\":\"1185\",\"type\":\"WheelZoomTool\"},{\"id\":\"1186\",\"type\":\"BoxZoomTool\"},{\"id\":\"1187\",\"type\":\"SaveTool\"},{\"id\":\"1188\",\"type\":\"ResetTool\"},{\"id\":\"1189\",\"type\":\"HelpTool\"}]},\"id\":\"1190\",\"type\":\"Toolbar\"},{\"attributes\":{\"bottom_units\":\"screen\",\"fill_alpha\":{\"value\":0.5},\"fill_color\":{\"value\":\"lightgrey\"},\"left_units\":\"screen\",\"level\":\"overlay\",\"line_alpha\":{\"value\":1.0},\"line_color\":{\"value\":\"black\"},\"line_dash\":[4,4],\"line_width\":{\"value\":2},\"plot\":null,\"render_mode\":\"css\",\"right_units\":\"screen\",\"top_units\":\"screen\"},\"id\":\"1192\",\"type\":\"BoxAnnotation\"},{\"attributes\":{},\"id\":\"1209\",\"type\":\"BasicTickFormatter\"},{\"attributes\":{\"overlay\":{\"id\":\"1192\",\"type\":\"BoxAnnotation\"}},\"id\":\"1186\",\"type\":\"BoxZoomTool\"},{\"attributes\":{},\"id\":\"1187\",\"type\":\"SaveTool\"},{\"attributes\":{},\"id\":\"1175\",\"type\":\"BasicTicker\"},{\"attributes\":{},\"id\":\"1230\",\"type\":\"Selection\"},{\"attributes\":{},\"id\":\"1184\",\"type\":\"PanTool\"},{\"attributes\":{\"label\":{\"value\":\"linear\"},\"renderers\":[{\"id\":\"1202\",\"type\":\"GlyphRenderer\"}]},\"id\":\"1212\",\"type\":\"LegendItem\"},{\"attributes\":{\"axis_label\":\"MJD\",\"formatter\":{\"id\":\"1209\",\"type\":\"BasicTickFormatter\"},\"plot\":{\"id\":\"1165\",\"subtype\":\"Figure\",\"type\":\"Plot\"},\"ticker\":{\"id\":\"1175\",\"type\":\"BasicTicker\"}},\"id\":\"1174\",\"type\":\"LinearAxis\"},{\"attributes\":{},\"id\":\"1188\",\"type\":\"ResetTool\"},{\"attributes\":{\"dimension\":1,\"plot\":{\"id\":\"1165\",\"subtype\":\"Figure\",\"type\":\"Plot\"},\"ticker\":{\"id\":\"1180\",\"type\":\"BasicTicker\"}},\"id\":\"1183\",\"type\":\"Grid\"},{\"attributes\":{\"below\":[{\"id\":\"1174\",\"type\":\"LinearAxis\"}],\"left\":[{\"id\":\"1179\",\"type\":\"LinearAxis\"}],\"renderers\":[{\"id\":\"1174\",\"type\":\"LinearAxis\"},{\"id\":\"1178\",\"type\":\"Grid\"},{\"id\":\"1179\",\"type\":\"LinearAxis\"},{\"id\":\"1183\",\"type\":\"Grid\"},{\"id\":\"1192\",\"type\":\"BoxAnnotation\"},{\"id\":\"1211\",\"type\":\"Legend\"},{\"id\":\"1202\",\"type\":\"GlyphRenderer\"}],\"title\":{\"id\":\"1205\",\"type\":\"Title\"},\"toolbar\":{\"id\":\"1190\",\"type\":\"Toolbar\"},\"x_range\":{\"id\":\"1166\",\"type\":\"DataRange1d\"},\"x_scale\":{\"id\":\"1170\",\"type\":\"LinearScale\"},\"y_range\":{\"id\":\"1168\",\"type\":\"DataRange1d\"},\"y_scale\":{\"id\":\"1172\",\"type\":\"LinearScale\"}},\"id\":\"1165\",\"subtype\":\"Figure\",\"type\":\"Plot\"},{\"attributes\":{},\"id\":\"1170\",\"type\":\"LinearScale\"},{\"attributes\":{},\"id\":\"1229\",\"type\":\"UnionRenderers\"},{\"attributes\":{},\"id\":\"1207\",\"type\":\"BasicTickFormatter\"},{\"attributes\":{\"callback\":null},\"id\":\"1166\",\"type\":\"DataRange1d\"},{\"attributes\":{\"source\":{\"id\":\"1199\",\"type\":\"ColumnDataSource\"}},\"id\":\"1203\",\"type\":\"CDSView\"},{\"attributes\":{},\"id\":\"1189\",\"type\":\"HelpTool\"},{\"attributes\":{},\"id\":\"1172\",\"type\":\"LinearScale\"},{\"attributes\":{\"callback\":null,\"data\":{\"x\":{\"__ndarray__\":\"AAAAAAAAAABbv1Kg1q+EP1u/UqDWr5Q/CB988MEHnz9bv1Kg1q+kPzJvZ0jM26k/CB988MEHrz9wZ0jM2xmyP1u/UqDWr7Q/RhdddNFFtz8yb2dIzNu5Px3HcRzHcbw/CB988MEHvz96O0Ni3s7AP3BnSMzbGcI/ZZNNNtlkwz9bv1Kg1q/EP1HrVwrU+sU/RhdddNFFxz88Q2LezpDIPzJvZ0jM28k/J5tssskmyz8dx3Ecx3HMPxPzdobEvM0/CB988MEHzz9/pUCtXynQP3o7Q2LeztA/ddFFF1100T9wZ0jM2xnSP2r9SoFav9I/ZZNNNtlk0z9gKVDrVwrUP1u/UqDWr9Q/VlVVVVVV1T9R61cK1PrVP0yBWr9SoNY/RhdddNFF1z9BrV8pUOvXPzxDYt7OkNg/N9lkk0022T8yb2dIzNvZPy0Fav1Kgdo/J5tssskm2z8iMW9nSMzbPx3HcRzHcdw/GF100UUX3T8T83aGxLzdPw6JeTtDYt4/CB988MEH3z8DtX6lQK3fP3+lQK1fKeA/ffDBBx984D96O0Ni3s7gP3eGxLydIeE/ddFFF1104T9yHMdxHMfhP3BnSMzbGeI/bbLJJpts4j9q/UqBWr/iP2hIzNsZEuM/ZZNNNtlk4z9j3s6QmLfjP2ApUOtXCuQ/XnTRRRdd5D9bv1Kg1q/kP1gK1PqVAuU/VlVVVVVV5T9ToNavFKjlP1HrVwrU+uU/TjbZZJNN5j9MgVq/UqDmP0nM2xkS8+Y/RhdddNFF5z9EYt7OkJjnP0GtXylQ6+c/P/jggw8+6D88Q2LezpDoPzmO4ziO4+g/N9lkk0026T80JObtDInpPzJvZ0jM2+k/L7rooosu6j8tBWr9SoHqPypQ61cK1Oo/J5tssskm6z8l5u0MiXnrPyIxb2dIzOs/IHzwwQcf7D8dx3Ecx3HsPxsS83aGxOw/GF100UUX7T8VqPUrBWrtPxPzdobEvO0/ED744IMP7j8OiXk7Q2LuPwvU+pUCte4/CB988MEH7z8Gav1KgVrvPwO1fqVAre8/AAAAAAAA8D8=\",\"dtype\":\"float64\",\"shape\":[100]},\"y\":{\"__ndarray__\":\"TDeJQWDl7z87WAHZauXvPyp5eXB15e8/GZrxB4Dl7z8Iu2mfiuXvP/fb4TaV5e8/5vxZzp/l7z/VHdJlquXvP8Q+Sv205e8/s1/ClL/l7z+hgDosyuXvP5ChssPU5e8/f8IqW9/l7z9u46Ly6eXvP10EG4r05e8/TCWTIf/l7z87Rgu5CebvPypng1AU5u8/GYj75x7m7z8IqXN/KebvP/fJ6xY05u8/5upjrj7m7z/VC9xFSebvP8QsVN1T5u8/s03MdF7m7z+ibkQMaebvP5GPvKNz5u8/gLA0O37m7z9v0azSiObvP17yJGqT5u8/TROdAZ7m7z88NBWZqObvPytVjTCz5u8/GnYFyL3m7z8Jl31fyObvP/i39fbS5u8/59htjt3m7z/W+eUl6ObvP8UaXr3y5u8/tDvWVP3m7z+jXE7sB+fvP5J9xoMS5+8/gZ4+Gx3n7z9wv7ayJ+fvP1/gLkoy5+8/TgGn4Tzn7z89Ih95R+fvPyxDlxBS5+8/G2QPqFzn7z8KhYc/Z+fvP/il/9Zx5+8/58Z3bnzn7z/W5+8Fh+fvP8UIaJ2R5+8/tCngNJzn7z+jSljMpufvP5Jr0GOx5+8/gYxI+7vn7z9wrcCSxufvP1/OOCrR5+8/Tu+wwdvn7z89EClZ5ufvPywxofDw5+8/G1IZiPvn7z8Kc5EfBujvP/mTCbcQ6O8/6LSBThvo7z/X1fnlJejvP8b2cX0w6O8/tRfqFDvo7z+kOGKsRejvP5NZ2kNQ6O8/gnpS21ro7z9xm8pyZejvP2C8Qgpw6O8/T926oXro7z8+/jI5hejvPy0fq9CP6O8/HEAjaJro7z8LYZv/pOjvP/qBE5ev6O8/6aKLLrro7z/YwwPGxOjvP8fke13P6O8/tgX09Nno7z+lJmyM5OjvP5RH5CPv6O8/g2hcu/no7z9yidRSBOnvP2GqTOoO6e8/T8vEgRnp7z8+7DwZJOnvPy0NtbAu6e8/HC4tSDnp7z8LT6XfQ+nvP/pvHXdO6e8/6ZCVDlnp7z/YsQ2mY+nvP8fShT1u6e8/tvP91Hjp7z8=\",\"dtype\":\"float64\",\"shape\":[100]}},\"selected\":{\"id\":\"1230\",\"type\":\"Selection\"},\"selection_policy\":{\"id\":\"1229\",\"type\":\"UnionRenderers\"}},\"id\":\"1199\",\"type\":\"ColumnDataSource\"}],\"root_ids\":[\"1165\"]},\"title\":\"Bokeh Application\",\"version\":\"1.0.2\"}};\n",
       "  var render_items = [{\"docid\":\"b7c01e44-02ad-4f69-9049-22d8a9328691\",\"roots\":{\"1165\":\"f4f0a2b4-7750-46bb-8659-5b080519b47a\"}}];\n",
       "  root.Bokeh.embed.embed_items_notebook(docs_json, render_items);\n",
       "\n",
       "  }\n",
       "  if (root.Bokeh !== undefined) {\n",
       "    embed_document(root);\n",
       "  } else {\n",
       "    var attempts = 0;\n",
       "    var timer = setInterval(function(root) {\n",
       "      if (root.Bokeh !== undefined) {\n",
       "        embed_document(root);\n",
       "        clearInterval(timer);\n",
       "      }\n",
       "      attempts++;\n",
       "      if (attempts > 100) {\n",
       "        console.log(\"Bokeh: ERROR: Unable to run BokehJS code because BokehJS library is missing\");\n",
       "        clearInterval(timer);\n",
       "      }\n",
       "    }, 10, root)\n",
       "  }\n",
       "})(window);"
      ],
      "application/vnd.bokehjs_exec.v0+json": ""
     },
     "metadata": {
      "application/vnd.bokehjs_exec.v0+json": {
       "id": "1165"
      }
     },
     "output_type": "display_data"
    }
   ],
   "source": [
    "# Create a PolynomialModel instance with coeffs [c0, c1]. Also give it a name and format for fun.\n",
    "lin_model = PolynomialModel(c1=0.0005, c0=0.997, name='linear', fmt='g--')\n",
    "\n",
    "# Plot it\n",
    "lin_model.plot(time, draw=True)"
   ]
  },
  {
   "cell_type": "markdown",
   "metadata": {},
   "source": [
    "Let's also create a transit model with the `ExoCTK.lightcurve_fitting.models.TransitModel` class. We can pass the arguments `rp`, `per`, `t0`, etc. directly to the `TransitModel` instance, or we can create a `ExoCTK.lightcurve_fitting.parameters.Parameters` instance first like so:"
   ]
  },
  {
   "cell_type": "code",
   "execution_count": 6,
   "metadata": {},
   "outputs": [
    {
     "data": {
      "text/html": [
       "\n",
       "\n",
       "\n",
       "\n",
       "\n",
       "\n",
       "  <div class=\"bk-root\" id=\"21113b17-b456-44b9-8255-0c2a4b535d9f\"></div>\n"
      ]
     },
     "metadata": {},
     "output_type": "display_data"
    },
    {
     "data": {
      "application/javascript": [
       "(function(root) {\n",
       "  function embed_document(root) {\n",
       "    \n",
       "  var docs_json = {\"df3c423f-25ad-4350-86d2-4376958a3a40\":{\"roots\":{\"references\":[{\"attributes\":{\"overlay\":{\"id\":\"1312\",\"type\":\"BoxAnnotation\"}},\"id\":\"1306\",\"type\":\"BoxZoomTool\"},{\"attributes\":{},\"id\":\"1308\",\"type\":\"ResetTool\"},{\"attributes\":{\"plot\":{\"id\":\"1285\",\"subtype\":\"Figure\",\"type\":\"Plot\"},\"ticker\":{\"id\":\"1295\",\"type\":\"BasicTicker\"}},\"id\":\"1298\",\"type\":\"Grid\"},{\"attributes\":{\"axis_label\":\"Flux\",\"formatter\":{\"id\":\"1327\",\"type\":\"BasicTickFormatter\"},\"plot\":{\"id\":\"1285\",\"subtype\":\"Figure\",\"type\":\"Plot\"},\"ticker\":{\"id\":\"1300\",\"type\":\"BasicTicker\"}},\"id\":\"1299\",\"type\":\"LinearAxis\"},{\"attributes\":{\"items\":[{\"id\":\"1332\",\"type\":\"LegendItem\"}],\"plot\":{\"id\":\"1285\",\"subtype\":\"Figure\",\"type\":\"Plot\"}},\"id\":\"1331\",\"type\":\"Legend\"},{\"attributes\":{},\"id\":\"1295\",\"type\":\"BasicTicker\"},{\"attributes\":{},\"id\":\"1305\",\"type\":\"WheelZoomTool\"},{\"attributes\":{\"line_color\":\"#1f77b4\",\"x\":{\"field\":\"x\"},\"y\":{\"field\":\"y\"}},\"id\":\"1320\",\"type\":\"Line\"},{\"attributes\":{},\"id\":\"1304\",\"type\":\"PanTool\"},{\"attributes\":{\"plot\":null,\"text\":\"\"},\"id\":\"1325\",\"type\":\"Title\"},{\"attributes\":{},\"id\":\"1327\",\"type\":\"BasicTickFormatter\"},{\"attributes\":{},\"id\":\"1358\",\"type\":\"UnionRenderers\"},{\"attributes\":{},\"id\":\"1309\",\"type\":\"HelpTool\"},{\"attributes\":{\"label\":{\"value\":\"transit\"},\"renderers\":[{\"id\":\"1322\",\"type\":\"GlyphRenderer\"}]},\"id\":\"1332\",\"type\":\"LegendItem\"},{\"attributes\":{\"callback\":null},\"id\":\"1288\",\"type\":\"DataRange1d\"},{\"attributes\":{},\"id\":\"1290\",\"type\":\"LinearScale\"},{\"attributes\":{},\"id\":\"1329\",\"type\":\"BasicTickFormatter\"},{\"attributes\":{\"axis_label\":\"MJD\",\"formatter\":{\"id\":\"1329\",\"type\":\"BasicTickFormatter\"},\"plot\":{\"id\":\"1285\",\"subtype\":\"Figure\",\"type\":\"Plot\"},\"ticker\":{\"id\":\"1295\",\"type\":\"BasicTicker\"}},\"id\":\"1294\",\"type\":\"LinearAxis\"},{\"attributes\":{\"bottom_units\":\"screen\",\"fill_alpha\":{\"value\":0.5},\"fill_color\":{\"value\":\"lightgrey\"},\"left_units\":\"screen\",\"level\":\"overlay\",\"line_alpha\":{\"value\":1.0},\"line_color\":{\"value\":\"black\"},\"line_dash\":[4,4],\"line_width\":{\"value\":2},\"plot\":null,\"render_mode\":\"css\",\"right_units\":\"screen\",\"top_units\":\"screen\"},\"id\":\"1312\",\"type\":\"BoxAnnotation\"},{\"attributes\":{\"callback\":null,\"data\":{\"x\":{\"__ndarray__\":\"AAAAAAAAAABbv1Kg1q+EP1u/UqDWr5Q/CB988MEHnz9bv1Kg1q+kPzJvZ0jM26k/CB988MEHrz9wZ0jM2xmyP1u/UqDWr7Q/RhdddNFFtz8yb2dIzNu5Px3HcRzHcbw/CB988MEHvz96O0Ni3s7AP3BnSMzbGcI/ZZNNNtlkwz9bv1Kg1q/EP1HrVwrU+sU/RhdddNFFxz88Q2LezpDIPzJvZ0jM28k/J5tssskmyz8dx3Ecx3HMPxPzdobEvM0/CB988MEHzz9/pUCtXynQP3o7Q2LeztA/ddFFF1100T9wZ0jM2xnSP2r9SoFav9I/ZZNNNtlk0z9gKVDrVwrUP1u/UqDWr9Q/VlVVVVVV1T9R61cK1PrVP0yBWr9SoNY/RhdddNFF1z9BrV8pUOvXPzxDYt7OkNg/N9lkk0022T8yb2dIzNvZPy0Fav1Kgdo/J5tssskm2z8iMW9nSMzbPx3HcRzHcdw/GF100UUX3T8T83aGxLzdPw6JeTtDYt4/CB988MEH3z8DtX6lQK3fP3+lQK1fKeA/ffDBBx984D96O0Ni3s7gP3eGxLydIeE/ddFFF1104T9yHMdxHMfhP3BnSMzbGeI/bbLJJpts4j9q/UqBWr/iP2hIzNsZEuM/ZZNNNtlk4z9j3s6QmLfjP2ApUOtXCuQ/XnTRRRdd5D9bv1Kg1q/kP1gK1PqVAuU/VlVVVVVV5T9ToNavFKjlP1HrVwrU+uU/TjbZZJNN5j9MgVq/UqDmP0nM2xkS8+Y/RhdddNFF5z9EYt7OkJjnP0GtXylQ6+c/P/jggw8+6D88Q2LezpDoPzmO4ziO4+g/N9lkk0026T80JObtDInpPzJvZ0jM2+k/L7rooosu6j8tBWr9SoHqPypQ61cK1Oo/J5tssskm6z8l5u0MiXnrPyIxb2dIzOs/IHzwwQcf7D8dx3Ecx3HsPxsS83aGxOw/GF100UUX7T8VqPUrBWrtPxPzdobEvO0/ED744IMP7j8OiXk7Q2LuPwvU+pUCte4/CB988MEH7z8Gav1KgVrvPwO1fqVAre8/AAAAAAAA8D8=\",\"dtype\":\"float64\",\"shape\":[100]},\"y\":{\"__ndarray__\":\"AAAAAAAA8D8AAAAAAADwPwAAAAAAAPA/AAAAAAAA8D8AAAAAAADwPwAAAAAAAPA/AAAAAAAA8D8AAAAAAADwPwAAAAAAAPA/AAAAAAAA8D8AAAAAAADwPwAAAAAAAPA/AAAAAAAA8D8AAAAAAADwPwAAAAAAAPA/AAAAAAAA8D8AAAAAAADwPwAAAAAAAPA/AAAAAAAA8D8AAAAAAADwPwAAAAAAAPA/AAAAAAAA8D8AAAAAAADwPwAAAAAAAPA/AAAAAAAA8D8AAAAAAADwPwAAAAAAAPA/AAAAAAAA8D8AAAAAAADwPwAAAAAAAPA/AAAAAAAA8D8AAAAAAADwPwAAAAAAAPA/AAAAAAAA8D8AAAAAAADwPwAAAAAAAPA/AAAAAAAA8D8nhJoOA9nvPzxeCUJqeu8/b7vtK/cG7z9TEqFfhZvuP4cou32fc+4/f0pEedNf7j/M0jaih1DuPyj14IzTRO4/OD3zuEk87j+piV9lrjbuPx3kaQLhM+4/pm1NBNMz7j9tqEAYhDbuP0w+FSACPO4/EGfxBm1E7j+sRLwV/0/uP1XOQQwjX+4/5vqJ6bhy7j/KxjlJG5juP2cWGNZEAu8/EAzcjgl27z+AAZW68dXvPwAAAAAAAPA/AAAAAAAA8D8AAAAAAADwPwAAAAAAAPA/AAAAAAAA8D8AAAAAAADwPwAAAAAAAPA/AAAAAAAA8D8AAAAAAADwPwAAAAAAAPA/AAAAAAAA8D8AAAAAAADwPwAAAAAAAPA/AAAAAAAA8D8AAAAAAADwPwAAAAAAAPA/AAAAAAAA8D8AAAAAAADwPwAAAAAAAPA/AAAAAAAA8D8AAAAAAADwPwAAAAAAAPA/AAAAAAAA8D8AAAAAAADwPwAAAAAAAPA/AAAAAAAA8D8AAAAAAADwPwAAAAAAAPA/AAAAAAAA8D8AAAAAAADwPwAAAAAAAPA/AAAAAAAA8D8AAAAAAADwPwAAAAAAAPA/AAAAAAAA8D8AAAAAAADwPwAAAAAAAPA/AAAAAAAA8D8AAAAAAADwPwAAAAAAAPA/AAAAAAAA8D8=\",\"dtype\":\"float64\",\"shape\":[100]}},\"selected\":{\"id\":\"1359\",\"type\":\"Selection\"},\"selection_policy\":{\"id\":\"1358\",\"type\":\"UnionRenderers\"}},\"id\":\"1319\",\"type\":\"ColumnDataSource\"},{\"attributes\":{},\"id\":\"1307\",\"type\":\"SaveTool\"},{\"attributes\":{\"active_drag\":\"auto\",\"active_inspect\":\"auto\",\"active_multi\":null,\"active_scroll\":\"auto\",\"active_tap\":\"auto\",\"tools\":[{\"id\":\"1304\",\"type\":\"PanTool\"},{\"id\":\"1305\",\"type\":\"WheelZoomTool\"},{\"id\":\"1306\",\"type\":\"BoxZoomTool\"},{\"id\":\"1307\",\"type\":\"SaveTool\"},{\"id\":\"1308\",\"type\":\"ResetTool\"},{\"id\":\"1309\",\"type\":\"HelpTool\"}]},\"id\":\"1310\",\"type\":\"Toolbar\"},{\"attributes\":{\"data_source\":{\"id\":\"1319\",\"type\":\"ColumnDataSource\"},\"glyph\":{\"id\":\"1320\",\"type\":\"Line\"},\"hover_glyph\":null,\"muted_glyph\":null,\"nonselection_glyph\":{\"id\":\"1321\",\"type\":\"Line\"},\"selection_glyph\":null,\"view\":{\"id\":\"1323\",\"type\":\"CDSView\"}},\"id\":\"1322\",\"type\":\"GlyphRenderer\"},{\"attributes\":{\"below\":[{\"id\":\"1294\",\"type\":\"LinearAxis\"}],\"left\":[{\"id\":\"1299\",\"type\":\"LinearAxis\"}],\"renderers\":[{\"id\":\"1294\",\"type\":\"LinearAxis\"},{\"id\":\"1298\",\"type\":\"Grid\"},{\"id\":\"1299\",\"type\":\"LinearAxis\"},{\"id\":\"1303\",\"type\":\"Grid\"},{\"id\":\"1312\",\"type\":\"BoxAnnotation\"},{\"id\":\"1331\",\"type\":\"Legend\"},{\"id\":\"1322\",\"type\":\"GlyphRenderer\"}],\"title\":{\"id\":\"1325\",\"type\":\"Title\"},\"toolbar\":{\"id\":\"1310\",\"type\":\"Toolbar\"},\"x_range\":{\"id\":\"1286\",\"type\":\"DataRange1d\"},\"x_scale\":{\"id\":\"1290\",\"type\":\"LinearScale\"},\"y_range\":{\"id\":\"1288\",\"type\":\"DataRange1d\"},\"y_scale\":{\"id\":\"1292\",\"type\":\"LinearScale\"}},\"id\":\"1285\",\"subtype\":\"Figure\",\"type\":\"Plot\"},{\"attributes\":{},\"id\":\"1359\",\"type\":\"Selection\"},{\"attributes\":{\"callback\":null},\"id\":\"1286\",\"type\":\"DataRange1d\"},{\"attributes\":{\"source\":{\"id\":\"1319\",\"type\":\"ColumnDataSource\"}},\"id\":\"1323\",\"type\":\"CDSView\"},{\"attributes\":{},\"id\":\"1292\",\"type\":\"LinearScale\"},{\"attributes\":{\"dimension\":1,\"plot\":{\"id\":\"1285\",\"subtype\":\"Figure\",\"type\":\"Plot\"},\"ticker\":{\"id\":\"1300\",\"type\":\"BasicTicker\"}},\"id\":\"1303\",\"type\":\"Grid\"},{\"attributes\":{\"line_alpha\":0.1,\"line_color\":\"#1f77b4\",\"x\":{\"field\":\"x\"},\"y\":{\"field\":\"y\"}},\"id\":\"1321\",\"type\":\"Line\"},{\"attributes\":{},\"id\":\"1300\",\"type\":\"BasicTicker\"}],\"root_ids\":[\"1285\"]},\"title\":\"Bokeh Application\",\"version\":\"1.0.2\"}};\n",
       "  var render_items = [{\"docid\":\"df3c423f-25ad-4350-86d2-4376958a3a40\",\"roots\":{\"1285\":\"21113b17-b456-44b9-8255-0c2a4b535d9f\"}}];\n",
       "  root.Bokeh.embed.embed_items_notebook(docs_json, render_items);\n",
       "\n",
       "  }\n",
       "  if (root.Bokeh !== undefined) {\n",
       "    embed_document(root);\n",
       "  } else {\n",
       "    var attempts = 0;\n",
       "    var timer = setInterval(function(root) {\n",
       "      if (root.Bokeh !== undefined) {\n",
       "        embed_document(root);\n",
       "        clearInterval(timer);\n",
       "      }\n",
       "      attempts++;\n",
       "      if (attempts > 100) {\n",
       "        console.log(\"Bokeh: ERROR: Unable to run BokehJS code because BokehJS library is missing\");\n",
       "        clearInterval(timer);\n",
       "      }\n",
       "    }, 10, root)\n",
       "  }\n",
       "})(window);"
      ],
      "application/vnd.bokehjs_exec.v0+json": ""
     },
     "metadata": {
      "application/vnd.bokehjs_exec.v0+json": {
       "id": "1285"
      }
     },
     "output_type": "display_data"
    }
   ],
   "source": [
    "# Set the intial parameters\n",
    "params = Parameters()\n",
    "params.rp = 0.22, 'free', 0.0, 0.4  # rprs\n",
    "params.per = 10.721490, 'fixed'\n",
    "params.t0 = 0.48, 'free', 0, 1\n",
    "params.inc = 89.7, 'free', 80., 90.\n",
    "params.a = 18.2, 'free', 15., 20.    # aprs\n",
    "params.ecc = 0., 'fixed'\n",
    "params.w = 90., 'fixed'             # omega\n",
    "params.limb_dark = '4-parameter', 'independent'\n",
    "params.transittype = 'primary', 'independent'\n",
    "params.u1 = 0.1, 'free', 0., 1.\n",
    "params.u2 = 0.1, 'free', 0., 1.\n",
    "params.u3 = 0.1, 'free', 0., 1.\n",
    "params.u4 = 0.1, 'free', 0., 1.\n",
    "\n",
    "# Make the transit model\n",
    "t_model = TransitModel(parameters=params, name='transit', fmt='r--')\n",
    "\n",
    "# Plot it\n",
    "t_model.plot(time, draw=True)"
   ]
  },
  {
   "cell_type": "markdown",
   "metadata": {},
   "source": [
    "An arbitrary number of models can then be multiplied to produce a `ExoCTK.lightcurve_fitting.models.CompositeModel` to fit to the data."
   ]
  },
  {
   "cell_type": "code",
   "execution_count": 7,
   "metadata": {},
   "outputs": [
    {
     "data": {
      "text/html": [
       "\n",
       "\n",
       "\n",
       "\n",
       "\n",
       "\n",
       "  <div class=\"bk-root\" id=\"0113f23c-64d1-4ef6-a1fe-3cb1513fed0e\"></div>\n"
      ]
     },
     "metadata": {},
     "output_type": "display_data"
    },
    {
     "data": {
      "application/javascript": [
       "(function(root) {\n",
       "  function embed_document(root) {\n",
       "    \n",
       "  var docs_json = {\"82bff39c-95f9-4fbd-b0a4-2a224efd2786\":{\"roots\":{\"references\":[{\"attributes\":{},\"id\":\"1433\",\"type\":\"PanTool\"},{\"attributes\":{},\"id\":\"1424\",\"type\":\"BasicTicker\"},{\"attributes\":{},\"id\":\"1474\",\"type\":\"UnionRenderers\"},{\"attributes\":{},\"id\":\"1456\",\"type\":\"BasicTickFormatter\"},{\"attributes\":{\"data_source\":{\"id\":\"1462\",\"type\":\"ColumnDataSource\"},\"glyph\":{\"id\":\"1463\",\"type\":\"Line\"},\"hover_glyph\":null,\"muted_glyph\":null,\"nonselection_glyph\":{\"id\":\"1464\",\"type\":\"Line\"},\"selection_glyph\":null,\"view\":{\"id\":\"1466\",\"type\":\"CDSView\"}},\"id\":\"1465\",\"type\":\"GlyphRenderer\"},{\"attributes\":{},\"id\":\"1434\",\"type\":\"WheelZoomTool\"},{\"attributes\":{\"callback\":null,\"data\":{\"x\":{\"__ndarray__\":\"AAAAAAAAAABbv1Kg1q+EP1u/UqDWr5Q/CB988MEHnz9bv1Kg1q+kPzJvZ0jM26k/CB988MEHrz9wZ0jM2xmyP1u/UqDWr7Q/RhdddNFFtz8yb2dIzNu5Px3HcRzHcbw/CB988MEHvz96O0Ni3s7AP3BnSMzbGcI/ZZNNNtlkwz9bv1Kg1q/EP1HrVwrU+sU/RhdddNFFxz88Q2LezpDIPzJvZ0jM28k/J5tssskmyz8dx3Ecx3HMPxPzdobEvM0/CB988MEHzz9/pUCtXynQP3o7Q2LeztA/ddFFF1100T9wZ0jM2xnSP2r9SoFav9I/ZZNNNtlk0z9gKVDrVwrUP1u/UqDWr9Q/VlVVVVVV1T9R61cK1PrVP0yBWr9SoNY/RhdddNFF1z9BrV8pUOvXPzxDYt7OkNg/N9lkk0022T8yb2dIzNvZPy0Fav1Kgdo/J5tssskm2z8iMW9nSMzbPx3HcRzHcdw/GF100UUX3T8T83aGxLzdPw6JeTtDYt4/CB988MEH3z8DtX6lQK3fP3+lQK1fKeA/ffDBBx984D96O0Ni3s7gP3eGxLydIeE/ddFFF1104T9yHMdxHMfhP3BnSMzbGeI/bbLJJpts4j9q/UqBWr/iP2hIzNsZEuM/ZZNNNtlk4z9j3s6QmLfjP2ApUOtXCuQ/XnTRRRdd5D9bv1Kg1q/kP1gK1PqVAuU/VlVVVVVV5T9ToNavFKjlP1HrVwrU+uU/TjbZZJNN5j9MgVq/UqDmP0nM2xkS8+Y/RhdddNFF5z9EYt7OkJjnP0GtXylQ6+c/P/jggw8+6D88Q2LezpDoPzmO4ziO4+g/N9lkk0026T80JObtDInpPzJvZ0jM2+k/L7rooosu6j8tBWr9SoHqPypQ61cK1Oo/J5tssskm6z8l5u0MiXnrPyIxb2dIzOs/IHzwwQcf7D8dx3Ecx3HsPxsS83aGxOw/GF100UUX7T8VqPUrBWrtPxPzdobEvO0/ED744IMP7j8OiXk7Q2LuPwvU+pUCte4/CB988MEH7z8Gav1KgVrvPwO1fqVAre8/AAAAAAAA8D8=\",\"dtype\":\"float64\",\"shape\":[100]},\"y\":{\"__ndarray__\":\"TDeJQWDl7z87WAHZauXvPyp5eXB15e8/GZrxB4Dl7z8Iu2mfiuXvP/fb4TaV5e8/5vxZzp/l7z/VHdJlquXvP8Q+Sv205e8/s1/ClL/l7z+hgDosyuXvP5ChssPU5e8/f8IqW9/l7z9u46Ly6eXvP10EG4r05e8/TCWTIf/l7z87Rgu5CebvPypng1AU5u8/GYj75x7m7z8IqXN/KebvP/fJ6xY05u8/5upjrj7m7z/VC9xFSebvP8QsVN1T5u8/s03MdF7m7z+ibkQMaebvP5GPvKNz5u8/gLA0O37m7z9v0azSiObvP17yJGqT5u8/TROdAZ7m7z88NBWZqObvPytVjTCz5u8/GnYFyL3m7z8Jl31fyObvP/i39fbS5u8/59htjt3m7z/W+eUl6ObvP8UaXr3y5u8/tDvWVP3m7z+jXE7sB+fvP5J9xoMS5+8/gZ4+Gx3n7z9wv7ayJ+fvP1/gLkoy5+8/TgGn4Tzn7z89Ih95R+fvPyxDlxBS5+8/G2QPqFzn7z8KhYc/Z+fvP/il/9Zx5+8/58Z3bnzn7z/W5+8Fh+fvP8UIaJ2R5+8/tCngNJzn7z+jSljMpufvP5Jr0GOx5+8/gYxI+7vn7z9wrcCSxufvP1/OOCrR5+8/Tu+wwdvn7z89EClZ5ufvPywxofDw5+8/G1IZiPvn7z8Kc5EfBujvP/mTCbcQ6O8/6LSBThvo7z/X1fnlJejvP8b2cX0w6O8/tRfqFDvo7z+kOGKsRejvP5NZ2kNQ6O8/gnpS21ro7z9xm8pyZejvP2C8Qgpw6O8/T926oXro7z8+/jI5hejvPy0fq9CP6O8/HEAjaJro7z8LYZv/pOjvP/qBE5ev6O8/6aKLLrro7z/YwwPGxOjvP8fke13P6O8/tgX09Nno7z+lJmyM5OjvP5RH5CPv6O8/g2hcu/no7z9yidRSBOnvP2GqTOoO6e8/T8vEgRnp7z8+7DwZJOnvPy0NtbAu6e8/HC4tSDnp7z8LT6XfQ+nvP/pvHXdO6e8/6ZCVDlnp7z/YsQ2mY+nvP8fShT1u6e8/tvP91Hjp7z8=\",\"dtype\":\"float64\",\"shape\":[100]}},\"selected\":{\"id\":\"1533\",\"type\":\"Selection\"},\"selection_policy\":{\"id\":\"1532\",\"type\":\"UnionRenderers\"}},\"id\":\"1477\",\"type\":\"ColumnDataSource\"},{\"attributes\":{\"data_source\":{\"id\":\"1448\",\"type\":\"ColumnDataSource\"},\"glyph\":{\"id\":\"1449\",\"type\":\"Line\"},\"hover_glyph\":null,\"muted_glyph\":null,\"nonselection_glyph\":{\"id\":\"1450\",\"type\":\"Line\"},\"selection_glyph\":null,\"view\":{\"id\":\"1452\",\"type\":\"CDSView\"}},\"id\":\"1451\",\"type\":\"GlyphRenderer\"},{\"attributes\":{\"axis_label\":\"MJD\",\"formatter\":{\"id\":\"1458\",\"type\":\"BasicTickFormatter\"},\"plot\":{\"id\":\"1414\",\"subtype\":\"Figure\",\"type\":\"Plot\"},\"ticker\":{\"id\":\"1424\",\"type\":\"BasicTicker\"}},\"id\":\"1423\",\"type\":\"LinearAxis\"},{\"attributes\":{},\"id\":\"1492\",\"type\":\"Selection\"},{\"attributes\":{\"line_alpha\":0.1,\"line_color\":\"#1f77b4\",\"x\":{\"field\":\"x\"},\"y\":{\"field\":\"y\"}},\"id\":\"1479\",\"type\":\"Line\"},{\"attributes\":{\"bottom_units\":\"screen\",\"fill_alpha\":{\"value\":0.5},\"fill_color\":{\"value\":\"lightgrey\"},\"left_units\":\"screen\",\"level\":\"overlay\",\"line_alpha\":{\"value\":1.0},\"line_color\":{\"value\":\"black\"},\"line_dash\":[4,4],\"line_width\":{\"value\":2},\"plot\":null,\"render_mode\":\"css\",\"right_units\":\"screen\",\"top_units\":\"screen\"},\"id\":\"1441\",\"type\":\"BoxAnnotation\"},{\"attributes\":{\"overlay\":{\"id\":\"1441\",\"type\":\"BoxAnnotation\"}},\"id\":\"1435\",\"type\":\"BoxZoomTool\"},{\"attributes\":{\"dimension\":1,\"plot\":{\"id\":\"1414\",\"subtype\":\"Figure\",\"type\":\"Plot\"},\"ticker\":{\"id\":\"1429\",\"type\":\"BasicTicker\"}},\"id\":\"1432\",\"type\":\"Grid\"},{\"attributes\":{\"data_source\":{\"id\":\"1477\",\"type\":\"ColumnDataSource\"},\"glyph\":{\"id\":\"1478\",\"type\":\"Line\"},\"hover_glyph\":null,\"muted_glyph\":null,\"nonselection_glyph\":{\"id\":\"1479\",\"type\":\"Line\"},\"selection_glyph\":null,\"view\":{\"id\":\"1481\",\"type\":\"CDSView\"}},\"id\":\"1480\",\"type\":\"GlyphRenderer\"},{\"attributes\":{\"line_color\":\"#1f77b4\",\"x\":{\"field\":\"x\"},\"y\":{\"field\":\"y\"}},\"id\":\"1463\",\"type\":\"Line\"},{\"attributes\":{\"items\":[{\"id\":\"1461\",\"type\":\"LegendItem\"},{\"id\":\"1476\",\"type\":\"LegendItem\"},{\"id\":\"1493\",\"type\":\"LegendItem\"}],\"plot\":{\"id\":\"1414\",\"subtype\":\"Figure\",\"type\":\"Plot\"}},\"id\":\"1460\",\"type\":\"Legend\"},{\"attributes\":{\"callback\":null},\"id\":\"1417\",\"type\":\"DataRange1d\"},{\"attributes\":{\"active_drag\":\"auto\",\"active_inspect\":\"auto\",\"active_multi\":null,\"active_scroll\":\"auto\",\"active_tap\":\"auto\",\"tools\":[{\"id\":\"1433\",\"type\":\"PanTool\"},{\"id\":\"1434\",\"type\":\"WheelZoomTool\"},{\"id\":\"1435\",\"type\":\"BoxZoomTool\"},{\"id\":\"1436\",\"type\":\"SaveTool\"},{\"id\":\"1437\",\"type\":\"ResetTool\"},{\"id\":\"1438\",\"type\":\"HelpTool\"}]},\"id\":\"1439\",\"type\":\"Toolbar\"},{\"attributes\":{\"plot\":null,\"text\":\"\"},\"id\":\"1454\",\"type\":\"Title\"},{\"attributes\":{},\"id\":\"1458\",\"type\":\"BasicTickFormatter\"},{\"attributes\":{\"line_alpha\":0.1,\"line_color\":\"#1f77b4\",\"x\":{\"field\":\"x\"},\"y\":{\"field\":\"y\"}},\"id\":\"1464\",\"type\":\"Line\"},{\"attributes\":{},\"id\":\"1491\",\"type\":\"UnionRenderers\"},{\"attributes\":{},\"id\":\"1419\",\"type\":\"LinearScale\"},{\"attributes\":{},\"id\":\"1421\",\"type\":\"LinearScale\"},{\"attributes\":{\"source\":{\"id\":\"1477\",\"type\":\"ColumnDataSource\"}},\"id\":\"1481\",\"type\":\"CDSView\"},{\"attributes\":{},\"id\":\"1475\",\"type\":\"Selection\"},{\"attributes\":{\"callback\":null,\"data\":{\"x\":{\"__ndarray__\":\"AAAAAAAAAABbv1Kg1q+EP1u/UqDWr5Q/CB988MEHnz9bv1Kg1q+kPzJvZ0jM26k/CB988MEHrz9wZ0jM2xmyP1u/UqDWr7Q/RhdddNFFtz8yb2dIzNu5Px3HcRzHcbw/CB988MEHvz96O0Ni3s7AP3BnSMzbGcI/ZZNNNtlkwz9bv1Kg1q/EP1HrVwrU+sU/RhdddNFFxz88Q2LezpDIPzJvZ0jM28k/J5tssskmyz8dx3Ecx3HMPxPzdobEvM0/CB988MEHzz9/pUCtXynQP3o7Q2LeztA/ddFFF1100T9wZ0jM2xnSP2r9SoFav9I/ZZNNNtlk0z9gKVDrVwrUP1u/UqDWr9Q/VlVVVVVV1T9R61cK1PrVP0yBWr9SoNY/RhdddNFF1z9BrV8pUOvXPzxDYt7OkNg/N9lkk0022T8yb2dIzNvZPy0Fav1Kgdo/J5tssskm2z8iMW9nSMzbPx3HcRzHcdw/GF100UUX3T8T83aGxLzdPw6JeTtDYt4/CB988MEH3z8DtX6lQK3fP3+lQK1fKeA/ffDBBx984D96O0Ni3s7gP3eGxLydIeE/ddFFF1104T9yHMdxHMfhP3BnSMzbGeI/bbLJJpts4j9q/UqBWr/iP2hIzNsZEuM/ZZNNNtlk4z9j3s6QmLfjP2ApUOtXCuQ/XnTRRRdd5D9bv1Kg1q/kP1gK1PqVAuU/VlVVVVVV5T9ToNavFKjlP1HrVwrU+uU/TjbZZJNN5j9MgVq/UqDmP0nM2xkS8+Y/RhdddNFF5z9EYt7OkJjnP0GtXylQ6+c/P/jggw8+6D88Q2LezpDoPzmO4ziO4+g/N9lkk0026T80JObtDInpPzJvZ0jM2+k/L7rooosu6j8tBWr9SoHqPypQ61cK1Oo/J5tssskm6z8l5u0MiXnrPyIxb2dIzOs/IHzwwQcf7D8dx3Ecx3HsPxsS83aGxOw/GF100UUX7T8VqPUrBWrtPxPzdobEvO0/ED744IMP7j8OiXk7Q2LuPwvU+pUCte4/CB988MEH7z8Gav1KgVrvPwO1fqVAre8/AAAAAAAA8D8=\",\"dtype\":\"float64\",\"shape\":[100]},\"y\":{\"__ndarray__\":\"TDeJQWDl7z87WAHZauXvPyp5eXB15e8/GZrxB4Dl7z8Iu2mfiuXvP/fb4TaV5e8/5vxZzp/l7z/VHdJlquXvP8Q+Sv205e8/s1/ClL/l7z+hgDosyuXvP5ChssPU5e8/f8IqW9/l7z9u46Ly6eXvP10EG4r05e8/TCWTIf/l7z87Rgu5CebvPypng1AU5u8/GYj75x7m7z8IqXN/KebvP/fJ6xY05u8/5upjrj7m7z/VC9xFSebvP8QsVN1T5u8/s03MdF7m7z+ibkQMaebvP5GPvKNz5u8/gLA0O37m7z9v0azSiObvP17yJGqT5u8/TROdAZ7m7z88NBWZqObvPytVjTCz5u8/GnYFyL3m7z8Jl31fyObvP/i39fbS5u8/59htjt3m7z+onSzHCcDvP4rfvpPFYe8/4j5uJLfu7j+5dHlzo4PuP93ckMfmW+4/ln3BPDRI7j9/d7JT/jjuP+nxUFldLe4/MayaJeQk7j+tcM8oVx/uP0dMOe+VHO4/JFgP+5Ec7j+jK4L8Sh/uPzaIds3OJO4/vvZmQz0t7j85Lo990DjuP++LXO3yR+4/07Co6oNb7j8cNVTs04DuP76PlvW26u4/rnk5KC5e7z+rvoIj2L3vP1/OOCrR5+8/Tu+wwdvn7z89EClZ5ufvPywxofDw5+8/G1IZiPvn7z8Kc5EfBujvP/mTCbcQ6O8/6LSBThvo7z/X1fnlJejvP8b2cX0w6O8/tRfqFDvo7z+kOGKsRejvP5NZ2kNQ6O8/gnpS21ro7z9xm8pyZejvP2C8Qgpw6O8/T926oXro7z8+/jI5hejvPy0fq9CP6O8/HEAjaJro7z8LYZv/pOjvP/qBE5ev6O8/6aKLLrro7z/YwwPGxOjvP8fke13P6O8/tgX09Nno7z+lJmyM5OjvP5RH5CPv6O8/g2hcu/no7z9yidRSBOnvP2GqTOoO6e8/T8vEgRnp7z8+7DwZJOnvPy0NtbAu6e8/HC4tSDnp7z8LT6XfQ+nvP/pvHXdO6e8/6ZCVDlnp7z/YsQ2mY+nvP8fShT1u6e8/tvP91Hjp7z8=\",\"dtype\":\"float64\",\"shape\":[100]}},\"selected\":{\"id\":\"1475\",\"type\":\"Selection\"},\"selection_policy\":{\"id\":\"1474\",\"type\":\"UnionRenderers\"}},\"id\":\"1448\",\"type\":\"ColumnDataSource\"},{\"attributes\":{},\"id\":\"1436\",\"type\":\"SaveTool\"},{\"attributes\":{\"below\":[{\"id\":\"1423\",\"type\":\"LinearAxis\"}],\"left\":[{\"id\":\"1428\",\"type\":\"LinearAxis\"}],\"renderers\":[{\"id\":\"1423\",\"type\":\"LinearAxis\"},{\"id\":\"1427\",\"type\":\"Grid\"},{\"id\":\"1428\",\"type\":\"LinearAxis\"},{\"id\":\"1432\",\"type\":\"Grid\"},{\"id\":\"1441\",\"type\":\"BoxAnnotation\"},{\"id\":\"1460\",\"type\":\"Legend\"},{\"id\":\"1451\",\"type\":\"GlyphRenderer\"},{\"id\":\"1465\",\"type\":\"GlyphRenderer\"},{\"id\":\"1480\",\"type\":\"GlyphRenderer\"}],\"title\":{\"id\":\"1454\",\"type\":\"Title\"},\"toolbar\":{\"id\":\"1439\",\"type\":\"Toolbar\"},\"x_range\":{\"id\":\"1415\",\"type\":\"DataRange1d\"},\"x_scale\":{\"id\":\"1419\",\"type\":\"LinearScale\"},\"y_range\":{\"id\":\"1417\",\"type\":\"DataRange1d\"},\"y_scale\":{\"id\":\"1421\",\"type\":\"LinearScale\"}},\"id\":\"1414\",\"subtype\":\"Figure\",\"type\":\"Plot\"},{\"attributes\":{},\"id\":\"1438\",\"type\":\"HelpTool\"},{\"attributes\":{},\"id\":\"1533\",\"type\":\"Selection\"},{\"attributes\":{\"plot\":{\"id\":\"1414\",\"subtype\":\"Figure\",\"type\":\"Plot\"},\"ticker\":{\"id\":\"1424\",\"type\":\"BasicTicker\"}},\"id\":\"1427\",\"type\":\"Grid\"},{\"attributes\":{\"source\":{\"id\":\"1448\",\"type\":\"ColumnDataSource\"}},\"id\":\"1452\",\"type\":\"CDSView\"},{\"attributes\":{\"source\":{\"id\":\"1462\",\"type\":\"ColumnDataSource\"}},\"id\":\"1466\",\"type\":\"CDSView\"},{\"attributes\":{\"label\":{\"value\":\"linear\"},\"renderers\":[{\"id\":\"1480\",\"type\":\"GlyphRenderer\"}]},\"id\":\"1493\",\"type\":\"LegendItem\"},{\"attributes\":{\"callback\":null},\"id\":\"1415\",\"type\":\"DataRange1d\"},{\"attributes\":{\"line_color\":\"#1f77b4\",\"x\":{\"field\":\"x\"},\"y\":{\"field\":\"y\"}},\"id\":\"1478\",\"type\":\"Line\"},{\"attributes\":{\"axis_label\":\"Flux\",\"formatter\":{\"id\":\"1456\",\"type\":\"BasicTickFormatter\"},\"plot\":{\"id\":\"1414\",\"subtype\":\"Figure\",\"type\":\"Plot\"},\"ticker\":{\"id\":\"1429\",\"type\":\"BasicTicker\"}},\"id\":\"1428\",\"type\":\"LinearAxis\"},{\"attributes\":{\"label\":{\"value\":\"composite\"},\"renderers\":[{\"id\":\"1451\",\"type\":\"GlyphRenderer\"}]},\"id\":\"1461\",\"type\":\"LegendItem\"},{\"attributes\":{\"label\":{\"value\":\"transit\"},\"renderers\":[{\"id\":\"1465\",\"type\":\"GlyphRenderer\"}]},\"id\":\"1476\",\"type\":\"LegendItem\"},{\"attributes\":{\"line_alpha\":0.1,\"line_color\":\"#1f77b4\",\"x\":{\"field\":\"x\"},\"y\":{\"field\":\"y\"}},\"id\":\"1450\",\"type\":\"Line\"},{\"attributes\":{\"line_color\":\"#1f77b4\",\"x\":{\"field\":\"x\"},\"y\":{\"field\":\"y\"}},\"id\":\"1449\",\"type\":\"Line\"},{\"attributes\":{\"callback\":null,\"data\":{\"x\":{\"__ndarray__\":\"AAAAAAAAAABbv1Kg1q+EP1u/UqDWr5Q/CB988MEHnz9bv1Kg1q+kPzJvZ0jM26k/CB988MEHrz9wZ0jM2xmyP1u/UqDWr7Q/RhdddNFFtz8yb2dIzNu5Px3HcRzHcbw/CB988MEHvz96O0Ni3s7AP3BnSMzbGcI/ZZNNNtlkwz9bv1Kg1q/EP1HrVwrU+sU/RhdddNFFxz88Q2LezpDIPzJvZ0jM28k/J5tssskmyz8dx3Ecx3HMPxPzdobEvM0/CB988MEHzz9/pUCtXynQP3o7Q2LeztA/ddFFF1100T9wZ0jM2xnSP2r9SoFav9I/ZZNNNtlk0z9gKVDrVwrUP1u/UqDWr9Q/VlVVVVVV1T9R61cK1PrVP0yBWr9SoNY/RhdddNFF1z9BrV8pUOvXPzxDYt7OkNg/N9lkk0022T8yb2dIzNvZPy0Fav1Kgdo/J5tssskm2z8iMW9nSMzbPx3HcRzHcdw/GF100UUX3T8T83aGxLzdPw6JeTtDYt4/CB988MEH3z8DtX6lQK3fP3+lQK1fKeA/ffDBBx984D96O0Ni3s7gP3eGxLydIeE/ddFFF1104T9yHMdxHMfhP3BnSMzbGeI/bbLJJpts4j9q/UqBWr/iP2hIzNsZEuM/ZZNNNtlk4z9j3s6QmLfjP2ApUOtXCuQ/XnTRRRdd5D9bv1Kg1q/kP1gK1PqVAuU/VlVVVVVV5T9ToNavFKjlP1HrVwrU+uU/TjbZZJNN5j9MgVq/UqDmP0nM2xkS8+Y/RhdddNFF5z9EYt7OkJjnP0GtXylQ6+c/P/jggw8+6D88Q2LezpDoPzmO4ziO4+g/N9lkk0026T80JObtDInpPzJvZ0jM2+k/L7rooosu6j8tBWr9SoHqPypQ61cK1Oo/J5tssskm6z8l5u0MiXnrPyIxb2dIzOs/IHzwwQcf7D8dx3Ecx3HsPxsS83aGxOw/GF100UUX7T8VqPUrBWrtPxPzdobEvO0/ED744IMP7j8OiXk7Q2LuPwvU+pUCte4/CB988MEH7z8Gav1KgVrvPwO1fqVAre8/AAAAAAAA8D8=\",\"dtype\":\"float64\",\"shape\":[100]},\"y\":{\"__ndarray__\":\"AAAAAAAA8D8AAAAAAADwPwAAAAAAAPA/AAAAAAAA8D8AAAAAAADwPwAAAAAAAPA/AAAAAAAA8D8AAAAAAADwPwAAAAAAAPA/AAAAAAAA8D8AAAAAAADwPwAAAAAAAPA/AAAAAAAA8D8AAAAAAADwPwAAAAAAAPA/AAAAAAAA8D8AAAAAAADwPwAAAAAAAPA/AAAAAAAA8D8AAAAAAADwPwAAAAAAAPA/AAAAAAAA8D8AAAAAAADwPwAAAAAAAPA/AAAAAAAA8D8AAAAAAADwPwAAAAAAAPA/AAAAAAAA8D8AAAAAAADwPwAAAAAAAPA/AAAAAAAA8D8AAAAAAADwPwAAAAAAAPA/AAAAAAAA8D8AAAAAAADwPwAAAAAAAPA/AAAAAAAA8D8nhJoOA9nvPzxeCUJqeu8/b7vtK/cG7z9TEqFfhZvuP4cou32fc+4/f0pEedNf7j/M0jaih1DuPyj14IzTRO4/OD3zuEk87j+piV9lrjbuPx3kaQLhM+4/pm1NBNMz7j9tqEAYhDbuP0w+FSACPO4/EGfxBm1E7j+sRLwV/0/uP1XOQQwjX+4/5vqJ6bhy7j/KxjlJG5juP2cWGNZEAu8/EAzcjgl27z+AAZW68dXvPwAAAAAAAPA/AAAAAAAA8D8AAAAAAADwPwAAAAAAAPA/AAAAAAAA8D8AAAAAAADwPwAAAAAAAPA/AAAAAAAA8D8AAAAAAADwPwAAAAAAAPA/AAAAAAAA8D8AAAAAAADwPwAAAAAAAPA/AAAAAAAA8D8AAAAAAADwPwAAAAAAAPA/AAAAAAAA8D8AAAAAAADwPwAAAAAAAPA/AAAAAAAA8D8AAAAAAADwPwAAAAAAAPA/AAAAAAAA8D8AAAAAAADwPwAAAAAAAPA/AAAAAAAA8D8AAAAAAADwPwAAAAAAAPA/AAAAAAAA8D8AAAAAAADwPwAAAAAAAPA/AAAAAAAA8D8AAAAAAADwPwAAAAAAAPA/AAAAAAAA8D8AAAAAAADwPwAAAAAAAPA/AAAAAAAA8D8AAAAAAADwPwAAAAAAAPA/AAAAAAAA8D8=\",\"dtype\":\"float64\",\"shape\":[100]}},\"selected\":{\"id\":\"1492\",\"type\":\"Selection\"},\"selection_policy\":{\"id\":\"1491\",\"type\":\"UnionRenderers\"}},\"id\":\"1462\",\"type\":\"ColumnDataSource\"},{\"attributes\":{},\"id\":\"1437\",\"type\":\"ResetTool\"},{\"attributes\":{},\"id\":\"1532\",\"type\":\"UnionRenderers\"},{\"attributes\":{},\"id\":\"1429\",\"type\":\"BasicTicker\"}],\"root_ids\":[\"1414\"]},\"title\":\"Bokeh Application\",\"version\":\"1.0.2\"}};\n",
       "  var render_items = [{\"docid\":\"82bff39c-95f9-4fbd-b0a4-2a224efd2786\",\"roots\":{\"1414\":\"0113f23c-64d1-4ef6-a1fe-3cb1513fed0e\"}}];\n",
       "  root.Bokeh.embed.embed_items_notebook(docs_json, render_items);\n",
       "\n",
       "  }\n",
       "  if (root.Bokeh !== undefined) {\n",
       "    embed_document(root);\n",
       "  } else {\n",
       "    var attempts = 0;\n",
       "    var timer = setInterval(function(root) {\n",
       "      if (root.Bokeh !== undefined) {\n",
       "        embed_document(root);\n",
       "        clearInterval(timer);\n",
       "      }\n",
       "      attempts++;\n",
       "      if (attempts > 100) {\n",
       "        console.log(\"Bokeh: ERROR: Unable to run BokehJS code because BokehJS library is missing\");\n",
       "        clearInterval(timer);\n",
       "      }\n",
       "    }, 10, root)\n",
       "  }\n",
       "})(window);"
      ],
      "application/vnd.bokehjs_exec.v0+json": ""
     },
     "metadata": {
      "application/vnd.bokehjs_exec.v0+json": {
       "id": "1414"
      }
     },
     "output_type": "display_data"
    }
   ],
   "source": [
    "# Make a new model by multiplying some model components (which don't necessarily overlap)\n",
    "comp_model = t_model*lin_model\n",
    "comp_model.name = 'composite'\n",
    "\n",
    "# Plot it\n",
    "comp_model.plot(time, components=True, draw=True)"
   ]
  },
  {
   "cell_type": "markdown",
   "metadata": {},
   "source": [
    "## Fit the model to the light curve data\n",
    "To fit a model to the data, we need to supply the `LightCurve.fit()` method with a `Model` instance and then specify our choice of fitting routine. Here we'll use the `lmfit` fitter with our composite model create above."
   ]
  },
  {
   "cell_type": "code",
   "execution_count": 11,
   "metadata": {},
   "outputs": [
    {
     "name": "stdout",
     "output_type": "stream",
     "text": [
      "[[Model]]\n",
      "    Model(eval)\n",
      "[[Fit Statistics]]\n",
      "    # fitting method   = Powell\n",
      "    # function evals   = 121\n",
      "    # data points      = 100\n",
      "    # variables        = 10\n",
      "    chi-square         = 1259.11313\n",
      "    reduced chi-square = 13.9901459\n",
      "    Akaike info crit   = 273.299270\n",
      "    Bayesian info crit = 299.350972\n",
      "[[Variables]]\n",
      "    u4:   0.99798367 (init = 0.1)\n",
      "    u1:   0.99798367 (init = 0.1)\n",
      "    w:    90 (fixed)\n",
      "    inc:  81.8991217 (init = 89.7)\n",
      "    per:  10.72149 (fixed)\n",
      "    ecc:  0 (fixed)\n",
      "    u2:   0.99798367 (init = 0.1)\n",
      "    c0:   3.58492896 (init = 0.997)\n",
      "    rp:   0.28762222 (init = 0.22)\n",
      "    a:    18.1665144 (init = 18.2)\n",
      "    u3:   0.99798367 (init = 0.1)\n",
      "    c1:   2.58842896 (init = 0.0005)\n",
      "    t0:   0.77970522 (init = 0.48)\n",
      "\n"
     ]
    },
    {
     "data": {
      "text/html": [
       "\n",
       "\n",
       "\n",
       "\n",
       "\n",
       "\n",
       "  <div class=\"bk-root\" id=\"37123e9b-df52-4e21-b3fe-ad07f73dbf7c\"></div>\n"
      ]
     },
     "metadata": {},
     "output_type": "display_data"
    },
    {
     "data": {
      "application/javascript": [
       "(function(root) {\n",
       "  function embed_document(root) {\n",
       "    \n",
       "  var docs_json = {\"17239a91-051a-48bc-8c8f-d82383931479\":{\"roots\":{\"references\":[{\"attributes\":{\"line_color\":\"#1f77b4\",\"x\":{\"field\":\"x\"},\"y\":{\"field\":\"y\"}},\"id\":\"1841\",\"type\":\"Line\"},{\"attributes\":{\"line_alpha\":0.1,\"line_color\":\"#1f77b4\",\"x\":{\"field\":\"x\"},\"y\":{\"field\":\"y\"}},\"id\":\"1842\",\"type\":\"Line\"},{\"attributes\":{\"data_source\":{\"id\":\"1855\",\"type\":\"ColumnDataSource\"},\"glyph\":{\"id\":\"1856\",\"type\":\"Line\"},\"hover_glyph\":null,\"muted_glyph\":null,\"nonselection_glyph\":{\"id\":\"1857\",\"type\":\"Line\"},\"selection_glyph\":null,\"view\":{\"id\":\"1859\",\"type\":\"CDSView\"}},\"id\":\"1858\",\"type\":\"GlyphRenderer\"},{\"attributes\":{\"plot\":{\"id\":\"1792\",\"subtype\":\"Figure\",\"type\":\"Plot\"},\"ticker\":{\"id\":\"1802\",\"type\":\"BasicTicker\"}},\"id\":\"1805\",\"type\":\"Grid\"},{\"attributes\":{\"label\":{\"value\":\"Data\"},\"renderers\":[{\"id\":\"1829\",\"type\":\"GlyphRenderer\"}]},\"id\":\"1839\",\"type\":\"LegendItem\"},{\"attributes\":{\"axis_label\":\"Flux\",\"formatter\":{\"id\":\"1834\",\"type\":\"BasicTickFormatter\"},\"plot\":{\"id\":\"1792\",\"subtype\":\"Figure\",\"type\":\"Plot\"},\"ticker\":{\"id\":\"1807\",\"type\":\"BasicTicker\"}},\"id\":\"1806\",\"type\":\"LinearAxis\"},{\"attributes\":{},\"id\":\"1953\",\"type\":\"UnionRenderers\"},{\"attributes\":{},\"id\":\"1812\",\"type\":\"WheelZoomTool\"},{\"attributes\":{},\"id\":\"1887\",\"type\":\"UnionRenderers\"},{\"attributes\":{},\"id\":\"1815\",\"type\":\"ResetTool\"},{\"attributes\":{\"callback\":null},\"id\":\"1795\",\"type\":\"DataRange1d\"},{\"attributes\":{\"active_drag\":\"auto\",\"active_inspect\":\"auto\",\"active_multi\":null,\"active_scroll\":\"auto\",\"active_tap\":\"auto\",\"tools\":[{\"id\":\"1811\",\"type\":\"PanTool\"},{\"id\":\"1812\",\"type\":\"WheelZoomTool\"},{\"id\":\"1813\",\"type\":\"BoxZoomTool\"},{\"id\":\"1814\",\"type\":\"SaveTool\"},{\"id\":\"1815\",\"type\":\"ResetTool\"},{\"id\":\"1816\",\"type\":\"HelpTool\"}]},\"id\":\"1817\",\"type\":\"Toolbar\"},{\"attributes\":{\"source\":{\"id\":\"1826\",\"type\":\"ColumnDataSource\"}},\"id\":\"1830\",\"type\":\"CDSView\"},{\"attributes\":{\"line_alpha\":0.1,\"line_color\":\"#1f77b4\",\"x\":{\"field\":\"x\"},\"y\":{\"field\":\"y\"}},\"id\":\"1857\",\"type\":\"Line\"},{\"attributes\":{},\"id\":\"1799\",\"type\":\"LinearScale\"},{\"attributes\":{\"below\":[{\"id\":\"1801\",\"type\":\"LinearAxis\"}],\"left\":[{\"id\":\"1806\",\"type\":\"LinearAxis\"}],\"renderers\":[{\"id\":\"1801\",\"type\":\"LinearAxis\"},{\"id\":\"1805\",\"type\":\"Grid\"},{\"id\":\"1806\",\"type\":\"LinearAxis\"},{\"id\":\"1810\",\"type\":\"Grid\"},{\"id\":\"1819\",\"type\":\"BoxAnnotation\"},{\"id\":\"1838\",\"type\":\"Legend\"},{\"id\":\"1829\",\"type\":\"GlyphRenderer\"},{\"id\":\"1843\",\"type\":\"GlyphRenderer\"},{\"id\":\"1858\",\"type\":\"GlyphRenderer\"},{\"id\":\"1874\",\"type\":\"GlyphRenderer\"}],\"title\":{\"id\":\"1832\",\"type\":\"Title\"},\"toolbar\":{\"id\":\"1817\",\"type\":\"Toolbar\"},\"x_range\":{\"id\":\"1793\",\"type\":\"DataRange1d\"},\"x_scale\":{\"id\":\"1797\",\"type\":\"LinearScale\"},\"y_range\":{\"id\":\"1795\",\"type\":\"DataRange1d\"},\"y_scale\":{\"id\":\"1799\",\"type\":\"LinearScale\"}},\"id\":\"1792\",\"subtype\":\"Figure\",\"type\":\"Plot\"},{\"attributes\":{\"line_color\":\"#1f77b4\",\"x\":{\"field\":\"x\"},\"y\":{\"field\":\"y\"}},\"id\":\"1856\",\"type\":\"Line\"},{\"attributes\":{},\"id\":\"1870\",\"type\":\"Selection\"},{\"attributes\":{\"bottom_units\":\"screen\",\"fill_alpha\":{\"value\":0.5},\"fill_color\":{\"value\":\"lightgrey\"},\"left_units\":\"screen\",\"level\":\"overlay\",\"line_alpha\":{\"value\":1.0},\"line_color\":{\"value\":\"black\"},\"line_dash\":[4,4],\"line_width\":{\"value\":2},\"plot\":null,\"render_mode\":\"css\",\"right_units\":\"screen\",\"top_units\":\"screen\"},\"id\":\"1819\",\"type\":\"BoxAnnotation\"},{\"attributes\":{},\"id\":\"1802\",\"type\":\"BasicTicker\"},{\"attributes\":{},\"id\":\"1954\",\"type\":\"Selection\"},{\"attributes\":{\"callback\":null},\"id\":\"1793\",\"type\":\"DataRange1d\"},{\"attributes\":{},\"id\":\"1816\",\"type\":\"HelpTool\"},{\"attributes\":{\"fill_color\":{\"value\":\"#1f77b4\"},\"line_color\":{\"value\":\"#1f77b4\"},\"x\":{\"field\":\"x\"},\"y\":{\"field\":\"y\"}},\"id\":\"1827\",\"type\":\"Circle\"},{\"attributes\":{\"data_source\":{\"id\":\"1826\",\"type\":\"ColumnDataSource\"},\"glyph\":{\"id\":\"1827\",\"type\":\"Circle\"},\"hover_glyph\":null,\"muted_glyph\":null,\"nonselection_glyph\":{\"id\":\"1828\",\"type\":\"Circle\"},\"selection_glyph\":null,\"view\":{\"id\":\"1830\",\"type\":\"CDSView\"}},\"id\":\"1829\",\"type\":\"GlyphRenderer\"},{\"attributes\":{\"callback\":null,\"data\":{\"x\":{\"__ndarray__\":\"AAAAAAAAAABbv1Kg1q+EP1u/UqDWr5Q/CB988MEHnz9bv1Kg1q+kPzJvZ0jM26k/CB988MEHrz9wZ0jM2xmyP1u/UqDWr7Q/RhdddNFFtz8yb2dIzNu5Px3HcRzHcbw/CB988MEHvz96O0Ni3s7AP3BnSMzbGcI/ZZNNNtlkwz9bv1Kg1q/EP1HrVwrU+sU/RhdddNFFxz88Q2LezpDIPzJvZ0jM28k/J5tssskmyz8dx3Ecx3HMPxPzdobEvM0/CB988MEHzz9/pUCtXynQP3o7Q2LeztA/ddFFF1100T9wZ0jM2xnSP2r9SoFav9I/ZZNNNtlk0z9gKVDrVwrUP1u/UqDWr9Q/VlVVVVVV1T9R61cK1PrVP0yBWr9SoNY/RhdddNFF1z9BrV8pUOvXPzxDYt7OkNg/N9lkk0022T8yb2dIzNvZPy0Fav1Kgdo/J5tssskm2z8iMW9nSMzbPx3HcRzHcdw/GF100UUX3T8T83aGxLzdPw6JeTtDYt4/CB988MEH3z8DtX6lQK3fP3+lQK1fKeA/ffDBBx984D96O0Ni3s7gP3eGxLydIeE/ddFFF1104T9yHMdxHMfhP3BnSMzbGeI/bbLJJpts4j9q/UqBWr/iP2hIzNsZEuM/ZZNNNtlk4z9j3s6QmLfjP2ApUOtXCuQ/XnTRRRdd5D9bv1Kg1q/kP1gK1PqVAuU/VlVVVVVV5T9ToNavFKjlP1HrVwrU+uU/TjbZZJNN5j9MgVq/UqDmP0nM2xkS8+Y/RhdddNFF5z9EYt7OkJjnP0GtXylQ6+c/P/jggw8+6D88Q2LezpDoPzmO4ziO4+g/N9lkk0026T80JObtDInpPzJvZ0jM2+k/L7rooosu6j8tBWr9SoHqPypQ61cK1Oo/J5tssskm6z8l5u0MiXnrPyIxb2dIzOs/IHzwwQcf7D8dx3Ecx3HsPxsS83aGxOw/GF100UUX7T8VqPUrBWrtPxPzdobEvO0/ED744IMP7j8OiXk7Q2LuPwvU+pUCte4/CB988MEH7z8Gav1KgVrvPwO1fqVAre8/AAAAAAAA8D8=\",\"dtype\":\"float64\",\"shape\":[100]},\"y\":{\"__ndarray__\":\"TDeJQWDl7z87WAHZauXvPyp5eXB15e8/GZrxB4Dl7z8Iu2mfiuXvP/fb4TaV5e8/5vxZzp/l7z/VHdJlquXvP8Q+Sv205e8/s1/ClL/l7z+hgDosyuXvP5ChssPU5e8/f8IqW9/l7z9u46Ly6eXvP10EG4r05e8/TCWTIf/l7z87Rgu5CebvPypng1AU5u8/GYj75x7m7z8IqXN/KebvP/fJ6xY05u8/5upjrj7m7z/VC9xFSebvP8QsVN1T5u8/s03MdF7m7z+ibkQMaebvP5GPvKNz5u8/gLA0O37m7z9v0azSiObvP17yJGqT5u8/TROdAZ7m7z88NBWZqObvPytVjTCz5u8/GnYFyL3m7z8Jl31fyObvP/i39fbS5u8/59htjt3m7z+onSzHCcDvP4rfvpPFYe8/4j5uJLfu7j+5dHlzo4PuP93ckMfmW+4/ln3BPDRI7j9/d7JT/jjuP+nxUFldLe4/MayaJeQk7j+tcM8oVx/uP0dMOe+VHO4/JFgP+5Ec7j+jK4L8Sh/uPzaIds3OJO4/vvZmQz0t7j85Lo990DjuP++LXO3yR+4/07Co6oNb7j8cNVTs04DuP76PlvW26u4/rnk5KC5e7z+rvoIj2L3vP1/OOCrR5+8/Tu+wwdvn7z89EClZ5ufvPywxofDw5+8/G1IZiPvn7z8Kc5EfBujvP/mTCbcQ6O8/6LSBThvo7z/X1fnlJejvP8b2cX0w6O8/tRfqFDvo7z+kOGKsRejvP5NZ2kNQ6O8/gnpS21ro7z9xm8pyZejvP2C8Qgpw6O8/T926oXro7z8+/jI5hejvPy0fq9CP6O8/HEAjaJro7z8LYZv/pOjvP/qBE5ev6O8/6aKLLrro7z/YwwPGxOjvP8fke13P6O8/tgX09Nno7z+lJmyM5OjvP5RH5CPv6O8/g2hcu/no7z9yidRSBOnvP2GqTOoO6e8/T8vEgRnp7z8+7DwZJOnvPy0NtbAu6e8/HC4tSDnp7z8LT6XfQ+nvP/pvHXdO6e8/6ZCVDlnp7z/YsQ2mY+nvP8fShT1u6e8/tvP91Hjp7z8=\",\"dtype\":\"float64\",\"shape\":[100]}},\"selected\":{\"id\":\"1954\",\"type\":\"Selection\"},\"selection_policy\":{\"id\":\"1953\",\"type\":\"UnionRenderers\"}},\"id\":\"1871\",\"type\":\"ColumnDataSource\"},{\"attributes\":{\"source\":{\"id\":\"1840\",\"type\":\"ColumnDataSource\"}},\"id\":\"1844\",\"type\":\"CDSView\"},{\"attributes\":{\"callback\":null,\"data\":{\"x\":{\"__ndarray__\":\"AAAAAAAAAABbv1Kg1q+EP1u/UqDWr5Q/CB988MEHnz9bv1Kg1q+kPzJvZ0jM26k/CB988MEHrz9wZ0jM2xmyP1u/UqDWr7Q/RhdddNFFtz8yb2dIzNu5Px3HcRzHcbw/CB988MEHvz96O0Ni3s7AP3BnSMzbGcI/ZZNNNtlkwz9bv1Kg1q/EP1HrVwrU+sU/RhdddNFFxz88Q2LezpDIPzJvZ0jM28k/J5tssskmyz8dx3Ecx3HMPxPzdobEvM0/CB988MEHzz9/pUCtXynQP3o7Q2LeztA/ddFFF1100T9wZ0jM2xnSP2r9SoFav9I/ZZNNNtlk0z9gKVDrVwrUP1u/UqDWr9Q/VlVVVVVV1T9R61cK1PrVP0yBWr9SoNY/RhdddNFF1z9BrV8pUOvXPzxDYt7OkNg/N9lkk0022T8yb2dIzNvZPy0Fav1Kgdo/J5tssskm2z8iMW9nSMzbPx3HcRzHcdw/GF100UUX3T8T83aGxLzdPw6JeTtDYt4/CB988MEH3z8DtX6lQK3fP3+lQK1fKeA/ffDBBx984D96O0Ni3s7gP3eGxLydIeE/ddFFF1104T9yHMdxHMfhP3BnSMzbGeI/bbLJJpts4j9q/UqBWr/iP2hIzNsZEuM/ZZNNNtlk4z9j3s6QmLfjP2ApUOtXCuQ/XnTRRRdd5D9bv1Kg1q/kP1gK1PqVAuU/VlVVVVVV5T9ToNavFKjlP1HrVwrU+uU/TjbZZJNN5j9MgVq/UqDmP0nM2xkS8+Y/RhdddNFF5z9EYt7OkJjnP0GtXylQ6+c/P/jggw8+6D88Q2LezpDoPzmO4ziO4+g/N9lkk0026T80JObtDInpPzJvZ0jM2+k/L7rooosu6j8tBWr9SoHqPypQ61cK1Oo/J5tssskm6z8l5u0MiXnrPyIxb2dIzOs/IHzwwQcf7D8dx3Ecx3HsPxsS83aGxOw/GF100UUX7T8VqPUrBWrtPxPzdobEvO0/ED744IMP7j8OiXk7Q2LuPwvU+pUCte4/CB988MEH7z8Gav1KgVrvPwO1fqVAre8/AAAAAAAA8D8=\",\"dtype\":\"float64\",\"shape\":[100]},\"y\":{\"__ndarray__\":\"nPo+x8D67z+fze9uMBXwP1+wZAlhE/A/yn3Q/m757z8x4NGE1APwP+VWDsJL2e8/2PwO3EgO8D/XF2lJB8DvP91hM19A++8/tRr2uzni7z/IYEzLpv/vP8J8IHMABfA/Faf6G+b47z/Ur70iSyHwP1xCuP9WDfA/EEWf6qDF7z89hNGUGtnvP7DG7X8N0+8/wyl7tmIE8D836EDLPwHwPwXtILzhBPA/or+AHlsC8D/rFphngHHwP9mKyQZdDvA/nmYgOg4C8D+KTMExTgTwPxvs1HrI6e8//YmFO/Hn7z/q6vbnvwDwP1frEpgjxe8/yuOxuWai7z/xHkl+e//vP1GBHZAmCPA/ceq9LKbE7z/MxVBME/nvP4lCgP/lBvA/s3AXhl737z+HWXGM02zvP2Z3NMg1SO8/2wsjqRzH7j9Et5dVtWfuP/LagJ4NWu4/jpIbdg5h7j+DSh/KY1ruP0XixSIqW+4/Vy3SK5V77j825XCl6kjuP7Gepd4ocO4/JkSuUfhs7j8bJijumHTuP0GVyPCtTu4/+Qk2Hqq67j8F5iqkjHHuP/psM6XqfO4/N/BO0i937j88lKh1urLuP+kOGyIZZO4/6JHHfyKo7z8D5irfQ3fvP/eCgEtw6u8/B+NhdX0R8D98vVztSczvPwBgyVOhKvA/awRzsAo28D9MeSrZyADwPyEDPB/Rze8/hBtf+WUB8D/BrH3P7AHwP/2Nh7kG8u8/phMFC5HV7z/QY4HCh9HvP9DWRGQpA/A/08EYUTiv7z93eAFgJwrwP0WccnQK6e8/LJBuulgD8D+7tJBcAf/vP0hvlr9uE/A/48rSvxLS7z8lT18v7/3vP0lYDub32O8/0LoGsGcI8D/F+o2V/wDwP5ZcNW06+u8/16h3vI/N7z/FdvjQWwbwP3LZcdcd1u8/nYbybjK97z+x0+/vKgjwP4giF0Zr9O8/JNP66Ci97z8PrppHw/TvP1nn/Ezv/e8/fYkb/nEY8D9iBOJcBP7vP+zFoWDXo+8/nBaATdYV8D+BrounZ/bvP++GifS6/+8/wLRZKHDx7z8=\",\"dtype\":\"float64\",\"shape\":[100]}},\"selected\":{\"id\":\"1853\",\"type\":\"Selection\"},\"selection_policy\":{\"id\":\"1852\",\"type\":\"UnionRenderers\"}},\"id\":\"1826\",\"type\":\"ColumnDataSource\"},{\"attributes\":{\"data_source\":{\"id\":\"1871\",\"type\":\"ColumnDataSource\"},\"glyph\":{\"id\":\"1872\",\"type\":\"Line\"},\"hover_glyph\":null,\"muted_glyph\":null,\"nonselection_glyph\":{\"id\":\"1873\",\"type\":\"Line\"},\"selection_glyph\":null,\"view\":{\"id\":\"1875\",\"type\":\"CDSView\"}},\"id\":\"1874\",\"type\":\"GlyphRenderer\"},{\"attributes\":{},\"id\":\"1852\",\"type\":\"UnionRenderers\"},{\"attributes\":{\"line_alpha\":0.1,\"line_color\":\"#1f77b4\",\"x\":{\"field\":\"x\"},\"y\":{\"field\":\"y\"}},\"id\":\"1873\",\"type\":\"Line\"},{\"attributes\":{},\"id\":\"1834\",\"type\":\"BasicTickFormatter\"},{\"attributes\":{\"dimension\":1,\"plot\":{\"id\":\"1792\",\"subtype\":\"Figure\",\"type\":\"Plot\"},\"ticker\":{\"id\":\"1807\",\"type\":\"BasicTicker\"}},\"id\":\"1810\",\"type\":\"Grid\"},{\"attributes\":{},\"id\":\"1814\",\"type\":\"SaveTool\"},{\"attributes\":{},\"id\":\"1811\",\"type\":\"PanTool\"},{\"attributes\":{\"axis_label\":\"MJD\",\"formatter\":{\"id\":\"1836\",\"type\":\"BasicTickFormatter\"},\"plot\":{\"id\":\"1792\",\"subtype\":\"Figure\",\"type\":\"Plot\"},\"ticker\":{\"id\":\"1802\",\"type\":\"BasicTicker\"}},\"id\":\"1801\",\"type\":\"LinearAxis\"},{\"attributes\":{},\"id\":\"1807\",\"type\":\"BasicTicker\"},{\"attributes\":{\"label\":{\"value\":\"rp:0.29, u1:1.0, inc:81.9, per:10.72, ecc:0.0, u2:1.0, c0:3.58, u4:1.0, a:18.17, u3:1.0, c1:2.59, w:90.0, t0:0.78\"},\"renderers\":[{\"id\":\"1843\",\"type\":\"GlyphRenderer\"},{\"id\":\"1858\",\"type\":\"GlyphRenderer\"},{\"id\":\"1874\",\"type\":\"GlyphRenderer\"}]},\"id\":\"1854\",\"type\":\"LegendItem\"},{\"attributes\":{\"data_source\":{\"id\":\"1840\",\"type\":\"ColumnDataSource\"},\"glyph\":{\"id\":\"1841\",\"type\":\"Line\"},\"hover_glyph\":null,\"muted_glyph\":null,\"nonselection_glyph\":{\"id\":\"1842\",\"type\":\"Line\"},\"selection_glyph\":null,\"view\":{\"id\":\"1844\",\"type\":\"CDSView\"}},\"id\":\"1843\",\"type\":\"GlyphRenderer\"},{\"attributes\":{\"line_color\":\"#1f77b4\",\"x\":{\"field\":\"x\"},\"y\":{\"field\":\"y\"}},\"id\":\"1872\",\"type\":\"Line\"},{\"attributes\":{\"overlay\":{\"id\":\"1819\",\"type\":\"BoxAnnotation\"}},\"id\":\"1813\",\"type\":\"BoxZoomTool\"},{\"attributes\":{\"source\":{\"id\":\"1855\",\"type\":\"ColumnDataSource\"}},\"id\":\"1859\",\"type\":\"CDSView\"},{\"attributes\":{},\"id\":\"1869\",\"type\":\"UnionRenderers\"},{\"attributes\":{\"source\":{\"id\":\"1871\",\"type\":\"ColumnDataSource\"}},\"id\":\"1875\",\"type\":\"CDSView\"},{\"attributes\":{},\"id\":\"1836\",\"type\":\"BasicTickFormatter\"},{\"attributes\":{},\"id\":\"1888\",\"type\":\"Selection\"},{\"attributes\":{\"callback\":null,\"data\":{\"x\":{\"__ndarray__\":\"AAAAAAAAAABbv1Kg1q+EP1u/UqDWr5Q/CB988MEHnz9bv1Kg1q+kPzJvZ0jM26k/CB988MEHrz9wZ0jM2xmyP1u/UqDWr7Q/RhdddNFFtz8yb2dIzNu5Px3HcRzHcbw/CB988MEHvz96O0Ni3s7AP3BnSMzbGcI/ZZNNNtlkwz9bv1Kg1q/EP1HrVwrU+sU/RhdddNFFxz88Q2LezpDIPzJvZ0jM28k/J5tssskmyz8dx3Ecx3HMPxPzdobEvM0/CB988MEHzz9/pUCtXynQP3o7Q2LeztA/ddFFF1100T9wZ0jM2xnSP2r9SoFav9I/ZZNNNtlk0z9gKVDrVwrUP1u/UqDWr9Q/VlVVVVVV1T9R61cK1PrVP0yBWr9SoNY/RhdddNFF1z9BrV8pUOvXPzxDYt7OkNg/N9lkk0022T8yb2dIzNvZPy0Fav1Kgdo/J5tssskm2z8iMW9nSMzbPx3HcRzHcdw/GF100UUX3T8T83aGxLzdPw6JeTtDYt4/CB988MEH3z8DtX6lQK3fP3+lQK1fKeA/ffDBBx984D96O0Ni3s7gP3eGxLydIeE/ddFFF1104T9yHMdxHMfhP3BnSMzbGeI/bbLJJpts4j9q/UqBWr/iP2hIzNsZEuM/ZZNNNtlk4z9j3s6QmLfjP2ApUOtXCuQ/XnTRRRdd5D9bv1Kg1q/kP1gK1PqVAuU/VlVVVVVV5T9ToNavFKjlP1HrVwrU+uU/TjbZZJNN5j9MgVq/UqDmP0nM2xkS8+Y/RhdddNFF5z9EYt7OkJjnP0GtXylQ6+c/P/jggw8+6D88Q2LezpDoPzmO4ziO4+g/N9lkk0026T80JObtDInpPzJvZ0jM2+k/L7rooosu6j8tBWr9SoHqPypQ61cK1Oo/J5tssskm6z8l5u0MiXnrPyIxb2dIzOs/IHzwwQcf7D8dx3Ecx3HsPxsS83aGxOw/GF100UUX7T8VqPUrBWrtPxPzdobEvO0/ED744IMP7j8OiXk7Q2LuPwvU+pUCte4/CB988MEH7z8Gav1KgVrvPwO1fqVAre8/AAAAAAAA8D8=\",\"dtype\":\"float64\",\"shape\":[100]},\"y\":{\"__ndarray__\":\"TDeJQWDl7z87WAHZauXvPyp5eXB15e8/GZrxB4Dl7z8Iu2mfiuXvP/fb4TaV5e8/5vxZzp/l7z/VHdJlquXvP8Q+Sv205e8/s1/ClL/l7z+hgDosyuXvP5ChssPU5e8/f8IqW9/l7z9u46Ly6eXvP10EG4r05e8/TCWTIf/l7z87Rgu5CebvPypng1AU5u8/GYj75x7m7z8IqXN/KebvP/fJ6xY05u8/5upjrj7m7z/VC9xFSebvP8QsVN1T5u8/s03MdF7m7z+ibkQMaebvP5GPvKNz5u8/gLA0O37m7z9v0azSiObvP17yJGqT5u8/TROdAZ7m7z88NBWZqObvPytVjTCz5u8/GnYFyL3m7z8Jl31fyObvP/i39fbS5u8/59htjt3m7z+onSzHCcDvP4rfvpPFYe8/4j5uJLfu7j+5dHlzo4PuP93ckMfmW+4/ln3BPDRI7j9/d7JT/jjuP+nxUFldLe4/MayaJeQk7j+tcM8oVx/uP0dMOe+VHO4/JFgP+5Ec7j+jK4L8Sh/uPzaIds3OJO4/vvZmQz0t7j85Lo990DjuP++LXO3yR+4/07Co6oNb7j8cNVTs04DuP76PlvW26u4/rnk5KC5e7z+rvoIj2L3vP1/OOCrR5+8/Tu+wwdvn7z89EClZ5ufvPywxofDw5+8/G1IZiPvn7z8Kc5EfBujvP/mTCbcQ6O8/6LSBThvo7z/X1fnlJejvP8b2cX0w6O8/tRfqFDvo7z+kOGKsRejvP5NZ2kNQ6O8/gnpS21ro7z9xm8pyZejvP2C8Qgpw6O8/T926oXro7z8+/jI5hejvPy0fq9CP6O8/HEAjaJro7z8LYZv/pOjvP/qBE5ev6O8/6aKLLrro7z/YwwPGxOjvP8fke13P6O8/tgX09Nno7z+lJmyM5OjvP5RH5CPv6O8/g2hcu/no7z9yidRSBOnvP2GqTOoO6e8/T8vEgRnp7z8+7DwZJOnvPy0NtbAu6e8/HC4tSDnp7z8LT6XfQ+nvP/pvHXdO6e8/6ZCVDlnp7z/YsQ2mY+nvP8fShT1u6e8/tvP91Hjp7z8=\",\"dtype\":\"float64\",\"shape\":[100]}},\"selected\":{\"id\":\"1870\",\"type\":\"Selection\"},\"selection_policy\":{\"id\":\"1869\",\"type\":\"UnionRenderers\"}},\"id\":\"1840\",\"type\":\"ColumnDataSource\"},{\"attributes\":{\"callback\":null,\"data\":{\"x\":{\"__ndarray__\":\"AAAAAAAAAABbv1Kg1q+EP1u/UqDWr5Q/CB988MEHnz9bv1Kg1q+kPzJvZ0jM26k/CB988MEHrz9wZ0jM2xmyP1u/UqDWr7Q/RhdddNFFtz8yb2dIzNu5Px3HcRzHcbw/CB988MEHvz96O0Ni3s7AP3BnSMzbGcI/ZZNNNtlkwz9bv1Kg1q/EP1HrVwrU+sU/RhdddNFFxz88Q2LezpDIPzJvZ0jM28k/J5tssskmyz8dx3Ecx3HMPxPzdobEvM0/CB988MEHzz9/pUCtXynQP3o7Q2LeztA/ddFFF1100T9wZ0jM2xnSP2r9SoFav9I/ZZNNNtlk0z9gKVDrVwrUP1u/UqDWr9Q/VlVVVVVV1T9R61cK1PrVP0yBWr9SoNY/RhdddNFF1z9BrV8pUOvXPzxDYt7OkNg/N9lkk0022T8yb2dIzNvZPy0Fav1Kgdo/J5tssskm2z8iMW9nSMzbPx3HcRzHcdw/GF100UUX3T8T83aGxLzdPw6JeTtDYt4/CB988MEH3z8DtX6lQK3fP3+lQK1fKeA/ffDBBx984D96O0Ni3s7gP3eGxLydIeE/ddFFF1104T9yHMdxHMfhP3BnSMzbGeI/bbLJJpts4j9q/UqBWr/iP2hIzNsZEuM/ZZNNNtlk4z9j3s6QmLfjP2ApUOtXCuQ/XnTRRRdd5D9bv1Kg1q/kP1gK1PqVAuU/VlVVVVVV5T9ToNavFKjlP1HrVwrU+uU/TjbZZJNN5j9MgVq/UqDmP0nM2xkS8+Y/RhdddNFF5z9EYt7OkJjnP0GtXylQ6+c/P/jggw8+6D88Q2LezpDoPzmO4ziO4+g/N9lkk0026T80JObtDInpPzJvZ0jM2+k/L7rooosu6j8tBWr9SoHqPypQ61cK1Oo/J5tssskm6z8l5u0MiXnrPyIxb2dIzOs/IHzwwQcf7D8dx3Ecx3HsPxsS83aGxOw/GF100UUX7T8VqPUrBWrtPxPzdobEvO0/ED744IMP7j8OiXk7Q2LuPwvU+pUCte4/CB988MEH7z8Gav1KgVrvPwO1fqVAre8/AAAAAAAA8D8=\",\"dtype\":\"float64\",\"shape\":[100]},\"y\":{\"__ndarray__\":\"TDeJQWDl7z87WAHZauXvPyp5eXB15e8/GZrxB4Dl7z8Iu2mfiuXvP/fb4TaV5e8/5vxZzp/l7z/VHdJlquXvP8Q+Sv205e8/s1/ClL/l7z+hgDosyuXvP5ChssPU5e8/f8IqW9/l7z9u46Ly6eXvP10EG4r05e8/TCWTIf/l7z87Rgu5CebvPypng1AU5u8/GYj75x7m7z8IqXN/KebvP/fJ6xY05u8/5upjrj7m7z/VC9xFSebvP8QsVN1T5u8/s03MdF7m7z+ibkQMaebvP5GPvKNz5u8/gLA0O37m7z9v0azSiObvP17yJGqT5u8/TROdAZ7m7z88NBWZqObvPytVjTCz5u8/GnYFyL3m7z8Jl31fyObvP/i39fbS5u8/59htjt3m7z+onSzHCcDvP4rfvpPFYe8/4j5uJLfu7j+5dHlzo4PuP93ckMfmW+4/ln3BPDRI7j9/d7JT/jjuP+nxUFldLe4/MayaJeQk7j+tcM8oVx/uP0dMOe+VHO4/JFgP+5Ec7j+jK4L8Sh/uPzaIds3OJO4/vvZmQz0t7j85Lo990DjuP++LXO3yR+4/07Co6oNb7j8cNVTs04DuP76PlvW26u4/rnk5KC5e7z+rvoIj2L3vP1/OOCrR5+8/Tu+wwdvn7z89EClZ5ufvPywxofDw5+8/G1IZiPvn7z8Kc5EfBujvP/mTCbcQ6O8/6LSBThvo7z/X1fnlJejvP8b2cX0w6O8/tRfqFDvo7z+kOGKsRejvP5NZ2kNQ6O8/gnpS21ro7z9xm8pyZejvP2C8Qgpw6O8/T926oXro7z8+/jI5hejvPy0fq9CP6O8/HEAjaJro7z8LYZv/pOjvP/qBE5ev6O8/6aKLLrro7z/YwwPGxOjvP8fke13P6O8/tgX09Nno7z+lJmyM5OjvP5RH5CPv6O8/g2hcu/no7z9yidRSBOnvP2GqTOoO6e8/T8vEgRnp7z8+7DwZJOnvPy0NtbAu6e8/HC4tSDnp7z8LT6XfQ+nvP/pvHXdO6e8/6ZCVDlnp7z/YsQ2mY+nvP8fShT1u6e8/tvP91Hjp7z8=\",\"dtype\":\"float64\",\"shape\":[100]}},\"selected\":{\"id\":\"1888\",\"type\":\"Selection\"},\"selection_policy\":{\"id\":\"1887\",\"type\":\"UnionRenderers\"}},\"id\":\"1855\",\"type\":\"ColumnDataSource\"},{\"attributes\":{},\"id\":\"1853\",\"type\":\"Selection\"},{\"attributes\":{\"fill_alpha\":{\"value\":0.1},\"fill_color\":{\"value\":\"#1f77b4\"},\"line_alpha\":{\"value\":0.1},\"line_color\":{\"value\":\"#1f77b4\"},\"x\":{\"field\":\"x\"},\"y\":{\"field\":\"y\"}},\"id\":\"1828\",\"type\":\"Circle\"},{\"attributes\":{\"plot\":null,\"text\":\"\"},\"id\":\"1832\",\"type\":\"Title\"},{\"attributes\":{\"items\":[{\"id\":\"1839\",\"type\":\"LegendItem\"},{\"id\":\"1854\",\"type\":\"LegendItem\"}],\"plot\":{\"id\":\"1792\",\"subtype\":\"Figure\",\"type\":\"Plot\"}},\"id\":\"1838\",\"type\":\"Legend\"},{\"attributes\":{},\"id\":\"1797\",\"type\":\"LinearScale\"}],\"root_ids\":[\"1792\"]},\"title\":\"Bokeh Application\",\"version\":\"1.0.2\"}};\n",
       "  var render_items = [{\"docid\":\"17239a91-051a-48bc-8c8f-d82383931479\",\"roots\":{\"1792\":\"37123e9b-df52-4e21-b3fe-ad07f73dbf7c\"}}];\n",
       "  root.Bokeh.embed.embed_items_notebook(docs_json, render_items);\n",
       "\n",
       "  }\n",
       "  if (root.Bokeh !== undefined) {\n",
       "    embed_document(root);\n",
       "  } else {\n",
       "    var attempts = 0;\n",
       "    var timer = setInterval(function(root) {\n",
       "      if (root.Bokeh !== undefined) {\n",
       "        embed_document(root);\n",
       "        clearInterval(timer);\n",
       "      }\n",
       "      attempts++;\n",
       "      if (attempts > 100) {\n",
       "        console.log(\"Bokeh: ERROR: Unable to run BokehJS code because BokehJS library is missing\");\n",
       "        clearInterval(timer);\n",
       "      }\n",
       "    }, 10, root)\n",
       "  }\n",
       "})(window);"
      ],
      "application/vnd.bokehjs_exec.v0+json": ""
     },
     "metadata": {
      "application/vnd.bokehjs_exec.v0+json": {
       "id": "1792"
      }
     },
     "output_type": "display_data"
    }
   ],
   "source": [
    "# Create a new model instance from the best fit parameters\n",
    "lc.fit(comp_model, fitter='lmfit')\n",
    "\n",
    "# Plot it\n",
    "lc.plot()"
   ]
  }
 ],
 "metadata": {
  "anaconda-cloud": {},
  "kernelspec": {
   "display_name": "Astroconda",
   "language": "python",
   "name": "astroconda_kernel"
  },
  "language_info": {
   "codemirror_mode": {
    "name": "ipython",
    "version": 3
   },
   "file_extension": ".py",
   "mimetype": "text/x-python",
   "name": "python",
   "nbconvert_exporter": "python",
   "pygments_lexer": "ipython3",
   "version": "3.5.2"
  }
 },
 "nbformat": 4,
 "nbformat_minor": 1
}
