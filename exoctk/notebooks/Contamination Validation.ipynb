{
 "cells": [
  {
   "cell_type": "markdown",
   "id": "0",
   "metadata": {},
   "source": [
    "# Validation Testing for the Contamination and Visibility Tool\n",
    "This notebook contains some tests to show how well the Contamination and Visibility Tool is predicting the locations of contaminant traces. The `calc_vpa3` function accepts on-sky SOSS data as a quality check for the simulations given on the Web application (https://exoctk.stsci.edu/contam_visibility)."
   ]
  },
  {
   "cell_type": "code",
   "execution_count": null,
   "id": "1",
   "metadata": {},
   "outputs": [],
   "source": [
    "# Imports\n",
    "from astropy.io import fits\n",
    "from exoctk.contam_visibility import field_simulator as fs\n",
    "from bokeh.plotting import show\n",
    "from bokeh.io import output_notebook\n",
    "from hotsoss.plotting import plot_frame\n",
    "output_notebook()"
   ]
  },
  {
   "cell_type": "markdown",
   "id": "2",
   "metadata": {},
   "source": [
    "## Download the data\n",
    "First, lets's download the data we need to test the Contamination and Visibility Tool from MAST. Here is an example but feel free to change it to your target of choice! The code accepts only a single 2D frame at a time so let's just use the 2D `_rate.fits` data product."
   ]
  },
  {
   "cell_type": "code",
   "execution_count": null,
   "id": "3",
   "metadata": {},
   "outputs": [],
   "source": [
    "rate_file = "
   ]
  },
  {
   "cell_type": "markdown",
   "id": "4",
   "metadata": {},
   "source": [
    "## Load the data into the session\n",
    "Now we can read in the data and get the target RA, Dec, and position angle we want to replicate."
   ]
  },
  {
   "cell_type": "code",
   "execution_count": null,
   "id": "5",
   "metadata": {},
   "outputs": [],
   "source": [
    "# Check the header if you like\n",
    "# fits.getheader(rate_file)"
   ]
  },
  {
   "cell_type": "code",
   "execution_count": null,
   "id": "6",
   "metadata": {},
   "outputs": [],
   "source": [
    "rate_data = fits.getdata(rate_file)\n",
    "ra = fits.getval(rate_file, 'TARG_RA')\n",
    "dec = fits.getval(rate_file, 'TARG_DEC')\n",
    "pa = int(fits.getval(rate_file, 'GS_V3_PA'))"
   ]
  },
  {
   "cell_type": "markdown",
   "id": "7",
   "metadata": {},
   "source": [
    "## Run the Contamination and Visibility Tool"
   ]
  },
  {
   "cell_type": "code",
   "execution_count": null,
   "id": "8",
   "metadata": {},
   "outputs": [],
   "source": [
    "# Find all sources (including the target) in the field of view\n",
    "sources = fs.find_sources(ra, dec, verbose=False)\n",
    "print(sources)"
   ]
  },
  {
   "cell_type": "code",
   "execution_count": null,
   "id": "9",
   "metadata": {},
   "outputs": [],
   "source": [
    "# Calculate contamination\n",
    "result_onsky, plot_onsky = fs.calc_v3pa(pa, sources, 'NIS_SUBSTRIP256', data=rate_data, plot=True, verbose=False)\n",
    "\n",
    "# Plot it!\n",
    "show(plot_onsky)"
   ]
  },
  {
   "cell_type": "code",
   "execution_count": null,
   "id": "10",
   "metadata": {},
   "outputs": [],
   "source": [
    "# For comparison, let's see what the simulation looks like\n",
    "result_sim, plot_sim = fs.calc_v3pa(pa, sources, 'NIS_SUBSTRIP256', plot=True, verbose=False)\n",
    "\n",
    "# Plot it!\n",
    "show(plot_sim)"
   ]
  },
  {
   "cell_type": "code",
   "execution_count": null,
   "id": "11",
   "metadata": {},
   "outputs": [],
   "source": []
  }
 ],
 "metadata": {
  "kernelspec": {
   "display_name": "exoctk-3.9",
   "language": "python",
   "name": "exoctk-3.9"
  },
  "language_info": {
   "codemirror_mode": {
    "name": "ipython",
    "version": 3
   },
   "file_extension": ".py",
   "mimetype": "text/x-python",
   "name": "python",
   "nbconvert_exporter": "python",
   "pygments_lexer": "ipython3",
   "version": "3.9.1"
  }
 },
 "nbformat": 4,
 "nbformat_minor": 5
}
